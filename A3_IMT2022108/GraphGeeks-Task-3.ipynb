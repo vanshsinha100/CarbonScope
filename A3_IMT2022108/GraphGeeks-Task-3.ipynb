{
 "cells": [
  {
   "cell_type": "markdown",
   "metadata": {},
   "source": [
    "# DAS-732 ASSIGNMENT-3 TEAM - GRAPHGEEKS\n",
    "### MEMBERS:\n",
    "- ASHIRWAD MISHRA IMT2022108 (Team Lead)\n",
    "- KRISH PATEL IMT2022097\n",
    "- VANSH SINHA IMT2022122"
   ]
  },
  {
   "cell_type": "markdown",
   "metadata": {},
   "source": [
    "## Original Dataset description and Visual Analytics Workflow"
   ]
  },
  {
   "cell_type": "markdown",
   "metadata": {},
   "source": [
    "![VA_workflow](Workflow.png)"
   ]
  },
  {
   "cell_type": "markdown",
   "metadata": {},
   "source": [
    "### Column-wise Description of Dataset\n",
    "\n",
    "1. **Commodity Code**  \n",
    "   - Code representing the commodity or industry from BEA Make and Use Tables 2012.  \n",
    "   - Includes two levels: 'Detail' (405 sectors) and 'Summary' (medium resolution, 73 commodities & 71 industries).  \n",
    "\n",
    "2. **Commodity Name**  \n",
    "   - Name of the commodity or industry.  \n",
    "   - Detail commodities use USEEIO v1.1 names.\n",
    "\n",
    "3. **Substance**  \n",
    "   - Greenhouse gases:  \n",
    "     - CO2: Carbon dioxide  \n",
    "     - CH4: Methane  \n",
    "     - N2O: Nitrous oxide  \n",
    "     - Other GHGs: HFCs, CF4, SF6, etc.\n",
    "\n",
    "4. **Unit**  \n",
    "   - Emission factors in CO2e (carbon dioxide equivalents) using IPCC AR4 GWP factors.  \n",
    "   - Purchaser price includes producer price + margins.\n",
    "\n",
    "5. **Supply Chain Emission Factors without Margins**  \n",
    "   - GHG emissions from cradle to production point (kg) per 2018 USD.\n",
    "\n",
    "6. **Margins of Supply Chain Emission Factors**  \n",
    "   - GHG emissions from production to sale (kg) per 2018 USD.\n",
    "\n",
    "7. **Supply Chain Emission Factors with Margins**  \n",
    "   - GHG emissions from cradle to sale (kg) per 2018 USD.\n",
    "\n",
    "8. **DQ Reliability Score of Factors without Margins**  \n",
    "   - Data reliability score (1 = best, 5 = worst).  \n",
    "\n",
    "9. **DQ Temporal Correlation of Factors without Margins**  \n",
    "   - Temporal correlation score (1 = best, 5 = worst).  \n",
    "\n",
    "10. **DQ Geographical Correlation of Factors without Margins**  \n",
    "    - Geographical correlation score (1 = best, 5 = worst).  \n",
    "\n",
    "11. **DQ Technological Correlation of Factors without Margins**  \n",
    "    - Technological correlation score (1 = best, 5 = worst).  \n",
    "\n",
    "12. **DQ Data Collection of Factors without Margins**  \n",
    "    - Data collection score (1 = best, 5 = worst).  \n",
    "\n",
    "13. **Year**  \n",
    "    - Added column indicating the year of data recording (created during dataset cleaning).\n"
   ]
  },
  {
   "cell_type": "markdown",
   "metadata": {},
   "source": [
    "### Additional Dataset is quite comprehensive and not all of it was used in this assignment, hence would be described whenever invoked into a workflow iteration."
   ]
  },
  {
   "cell_type": "markdown",
   "metadata": {},
   "source": [
    "## VISUAL ANALYTICS WORKFLOW"
   ]
  },
  {
   "cell_type": "markdown",
   "metadata": {},
   "source": [
    "- **Choose Dataset for Model Training:**  \n",
    "  The workflow begins with selecting a dataset for model training. This dataset contains the primary emission data used for analysis.\n",
    "\n",
    "- **Emission Data and Additional Data:**  \n",
    "  These are the primary sources of information. *Emission data* represents the core dataset, while *additional data* complements it by providing supplementary information.\n",
    "\n",
    "- **Cleaning Process:**  \n",
    "  The raw data (both emission and additional) undergoes a cleaning process to ensure consistency, completeness, and readiness for analysis. This process removes invalid or missing values, standardizes formats, and prepares the datasets for downstream tasks.\n",
    "\n",
    "- **Clean Emission Data and Clean Additional Data:**  \n",
    "  After the cleaning process, the emission and additional datasets are stored separately as cleaned datasets. These cleaned datasets are critical for ensuring accurate analysis and visualization.\n",
    "\n",
    "- **Visualizations:**  \n",
    "  Cleaned datasets are transformed into visual representations, facilitating the mapping of data insights. These visualizations highlight patterns, trends, and anomalies in the emission data and serve as a precursor for further modeling.\n",
    "\n",
    "- **Model:**  \n",
    "  This component involves the application of machine learning or statistical models on the cleaned data. Models are trained to extract inferences, predict trends, and provide actionable insights.\n",
    "\n",
    "- **Knowledge:**  \n",
    "  The end goal of the workflow is to convert data into knowledge. Insights derived from visualizations and models are aggregated, validated, and presented as meaningful knowledge to stakeholders.\n"
   ]
  },
  {
   "cell_type": "markdown",
   "metadata": {},
   "source": [
    "- **Subflow-1:**  \n",
    "  Connects visualizations to the knowledge component with a feedback loop for iterative refinement of visual representations, enhancing data interpretation.\n",
    "\n",
    "- **Subflow-2:**  \n",
    "  Links cleaned additional data to visualizations and knowledge. Introduces a feedback loop to refine how supplementary information enriches the analysis.\n",
    "\n",
    "- **Subflow-3:**  \n",
    "  Focuses on applying machine learning models. Involves selecting, cleaning, and preparing datasets (emission or additional data) and training ML models to extract insights.\n"
   ]
  },
  {
   "cell_type": "markdown",
   "metadata": {},
   "source": [
    "## TASKS UNDERTAKEN IN THIS ASSIGNMENT:\n",
    "- **Task 1: Industry-Level Emissions Over Time:**  \n",
    "  Analyze historical GHG emissions by industries to identify trends, key contributors, and changes over time.\n",
    "\n",
    "- **Task 2: Commodity-Specific Emissions and Their Drivers:**  \n",
    "  Examine the link between commodity sales and emissions to identify high-emission products and their drivers.\n",
    "\n",
    "- **Task 3: Deeper Analysis into Specific Sectors' Emissions:**  \n",
    "  Perform detailed evaluations of emissions within sectors to explore variability and high-emission sub-sectors.\n"
   ]
  },
  {
   "cell_type": "markdown",
   "metadata": {},
   "source": [
    "# Assignment-3 Visual Analytics\n",
    "\n",
    "### Task 3: Deeper Analysis into Specific Sectors' Emissions\n",
    "Ashirwad Mishra\n"
   ]
  },
  {
   "cell_type": "markdown",
   "metadata": {},
   "source": [
    "## Part-1 : Utilities Splitted Emissions Analysis"
   ]
  },
  {
   "cell_type": "markdown",
   "metadata": {},
   "source": [
    "Utilities has a huge chunk of emissions from CO2 as compareed to the other GHG gases. The utilities sector encompasses the stock of companies operating in electric, gas, and water utilities. \n",
    "\n",
    "Electricity emission data (additional) + CO2 emissions only to create new viz. (SubFlow-2)"
   ]
  },
  {
   "cell_type": "markdown",
   "metadata": {},
   "source": [
    "![Utilities Industry stacked bar chart](util_ind_split.png)"
   ]
  },
  {
   "cell_type": "code",
   "execution_count": 1,
   "metadata": {},
   "outputs": [],
   "source": [
    "#import all necessary libraries\n",
    "import numpy as np\n",
    "import pandas as pd\n",
    "import matplotlib.pyplot as plt\n",
    "from sklearn.cluster import KMeans\n",
    "import seaborn as sns\n"
   ]
  },
  {
   "cell_type": "markdown",
   "metadata": {},
   "source": [
    " Chloropleth - to get state-wise emission factors in order to gain insights on which regions contribute the most (2011)"
   ]
  },
  {
   "cell_type": "code",
   "execution_count": 2,
   "metadata": {},
   "outputs": [
    {
     "data": {
      "text/html": [
       "<div>\n",
       "<style scoped>\n",
       "    .dataframe tbody tr th:only-of-type {\n",
       "        vertical-align: middle;\n",
       "    }\n",
       "\n",
       "    .dataframe tbody tr th {\n",
       "        vertical-align: top;\n",
       "    }\n",
       "\n",
       "    .dataframe thead th {\n",
       "        text-align: right;\n",
       "    }\n",
       "</style>\n",
       "<table border=\"1\" class=\"dataframe\">\n",
       "  <thead>\n",
       "    <tr style=\"text-align: right;\">\n",
       "      <th></th>\n",
       "      <th>Subregion</th>\n",
       "      <th>CO2 Factor</th>\n",
       "      <th>CH4 Factor</th>\n",
       "      <th>N2O Factor</th>\n",
       "    </tr>\n",
       "  </thead>\n",
       "  <tbody>\n",
       "    <tr>\n",
       "      <th>0</th>\n",
       "      <td>NaN</td>\n",
       "      <td>(lb CO2 /MWh)</td>\n",
       "      <td>(lb CH4 /MWh)</td>\n",
       "      <td>(lb N2O /MWh)</td>\n",
       "    </tr>\n",
       "    <tr>\n",
       "      <th>1</th>\n",
       "      <td>AKGD (ASCC Alaska Grid)</td>\n",
       "      <td>1284.72</td>\n",
       "      <td>0.02711</td>\n",
       "      <td>0.00744</td>\n",
       "    </tr>\n",
       "    <tr>\n",
       "      <th>2</th>\n",
       "      <td>AKMS (ASCC Miscellaneous)</td>\n",
       "      <td>535.73</td>\n",
       "      <td>0.02265</td>\n",
       "      <td>0.00448</td>\n",
       "    </tr>\n",
       "    <tr>\n",
       "      <th>3</th>\n",
       "      <td>AZNM (WECC Southwest)</td>\n",
       "      <td>1252.61</td>\n",
       "      <td>0.0188</td>\n",
       "      <td>0.01657</td>\n",
       "    </tr>\n",
       "    <tr>\n",
       "      <th>4</th>\n",
       "      <td>CAMX (WECC California)</td>\n",
       "      <td>681.01</td>\n",
       "      <td>0.02829</td>\n",
       "      <td>0.00623</td>\n",
       "    </tr>\n",
       "    <tr>\n",
       "      <th>5</th>\n",
       "      <td>ERCT (ERCOT All)</td>\n",
       "      <td>1252.57</td>\n",
       "      <td>0.01776</td>\n",
       "      <td>0.01399</td>\n",
       "    </tr>\n",
       "    <tr>\n",
       "      <th>6</th>\n",
       "      <td>FRCC (FRCC All)</td>\n",
       "      <td>1220.11</td>\n",
       "      <td>0.04119</td>\n",
       "      <td>0.01525</td>\n",
       "    </tr>\n",
       "    <tr>\n",
       "      <th>7</th>\n",
       "      <td>HIMS (HICC Miscellaneous)</td>\n",
       "      <td>1343.82</td>\n",
       "      <td>0.13515</td>\n",
       "      <td>0.02171</td>\n",
       "    </tr>\n",
       "    <tr>\n",
       "      <th>8</th>\n",
       "      <td>HIOA (HICC Oahu)</td>\n",
       "      <td>1620.76</td>\n",
       "      <td>0.09105</td>\n",
       "      <td>0.02089</td>\n",
       "    </tr>\n",
       "    <tr>\n",
       "      <th>9</th>\n",
       "      <td>MROE (MRO East)</td>\n",
       "      <td>1692.32</td>\n",
       "      <td>0.02879</td>\n",
       "      <td>0.02905</td>\n",
       "    </tr>\n",
       "    <tr>\n",
       "      <th>10</th>\n",
       "      <td>MROW (MRO West)</td>\n",
       "      <td>1722.67</td>\n",
       "      <td>0.02897</td>\n",
       "      <td>0.02919</td>\n",
       "    </tr>\n",
       "    <tr>\n",
       "      <th>11</th>\n",
       "      <td>NEWE (NPCC New England)</td>\n",
       "      <td>827.95</td>\n",
       "      <td>0.07698</td>\n",
       "      <td>0.0152</td>\n",
       "    </tr>\n",
       "    <tr>\n",
       "      <th>12</th>\n",
       "      <td>NWPP (WECC Northwest)</td>\n",
       "      <td>858.79</td>\n",
       "      <td>0.01634</td>\n",
       "      <td>0.01364</td>\n",
       "    </tr>\n",
       "    <tr>\n",
       "      <th>13</th>\n",
       "      <td>NYCW (NPCC NYC/Westchester)</td>\n",
       "      <td>704.8</td>\n",
       "      <td>0.02622</td>\n",
       "      <td>0.00335</td>\n",
       "    </tr>\n",
       "    <tr>\n",
       "      <th>14</th>\n",
       "      <td>NYLI (NPCC Long Island)</td>\n",
       "      <td>1418.74</td>\n",
       "      <td>0.0905</td>\n",
       "      <td>0.0131</td>\n",
       "    </tr>\n",
       "    <tr>\n",
       "      <th>15</th>\n",
       "      <td>NYUP (NPCC Upstate NY)</td>\n",
       "      <td>683.27</td>\n",
       "      <td>0.01741</td>\n",
       "      <td>0.0099</td>\n",
       "    </tr>\n",
       "    <tr>\n",
       "      <th>16</th>\n",
       "      <td>RFCE (RFC East)</td>\n",
       "      <td>1059.32</td>\n",
       "      <td>0.0274</td>\n",
       "      <td>0.01703</td>\n",
       "    </tr>\n",
       "    <tr>\n",
       "      <th>17</th>\n",
       "      <td>RFCM (RFC Michigan)</td>\n",
       "      <td>1651.11</td>\n",
       "      <td>0.03255</td>\n",
       "      <td>0.02779</td>\n",
       "    </tr>\n",
       "    <tr>\n",
       "      <th>18</th>\n",
       "      <td>RFCW (RFC West)</td>\n",
       "      <td>1551.52</td>\n",
       "      <td>0.01837</td>\n",
       "      <td>0.02593</td>\n",
       "    </tr>\n",
       "    <tr>\n",
       "      <th>19</th>\n",
       "      <td>RMPA (WECC Rockies)</td>\n",
       "      <td>1906.06</td>\n",
       "      <td>0.02363</td>\n",
       "      <td>0.02889</td>\n",
       "    </tr>\n",
       "    <tr>\n",
       "      <th>20</th>\n",
       "      <td>SPNO (SPP North)</td>\n",
       "      <td>1798.71</td>\n",
       "      <td>0.02122</td>\n",
       "      <td>0.0292</td>\n",
       "    </tr>\n",
       "    <tr>\n",
       "      <th>21</th>\n",
       "      <td>SPSO (SPP South)</td>\n",
       "      <td>1624.03</td>\n",
       "      <td>0.02452</td>\n",
       "      <td>0.02242</td>\n",
       "    </tr>\n",
       "    <tr>\n",
       "      <th>22</th>\n",
       "      <td>SRMV (SERC Mississippi Valley)</td>\n",
       "      <td>1004.1</td>\n",
       "      <td>0.0218</td>\n",
       "      <td>0.01115</td>\n",
       "    </tr>\n",
       "    <tr>\n",
       "      <th>23</th>\n",
       "      <td>SRMW (SERC Midwest)</td>\n",
       "      <td>1779.27</td>\n",
       "      <td>0.02057</td>\n",
       "      <td>0.0296</td>\n",
       "    </tr>\n",
       "    <tr>\n",
       "      <th>24</th>\n",
       "      <td>SRSO (SERC South)</td>\n",
       "      <td>1495.47</td>\n",
       "      <td>0.02364</td>\n",
       "      <td>0.02457</td>\n",
       "    </tr>\n",
       "    <tr>\n",
       "      <th>25</th>\n",
       "      <td>SRTV (SERC Tennessee Valley)</td>\n",
       "      <td>1540.85</td>\n",
       "      <td>0.01987</td>\n",
       "      <td>0.02548</td>\n",
       "    </tr>\n",
       "    <tr>\n",
       "      <th>26</th>\n",
       "      <td>SRVC (SERC Virginia/Carolina)</td>\n",
       "      <td>1118.41</td>\n",
       "      <td>0.02226</td>\n",
       "      <td>0.01908</td>\n",
       "    </tr>\n",
       "  </tbody>\n",
       "</table>\n",
       "</div>"
      ],
      "text/plain": [
       "                         Subregion     CO2 Factor     CH4 Factor  \\\n",
       "0                              NaN  (lb CO2 /MWh)  (lb CH4 /MWh)   \n",
       "1          AKGD (ASCC Alaska Grid)        1284.72        0.02711   \n",
       "2        AKMS (ASCC Miscellaneous)         535.73        0.02265   \n",
       "3            AZNM (WECC Southwest)        1252.61         0.0188   \n",
       "4           CAMX (WECC California)         681.01        0.02829   \n",
       "5                 ERCT (ERCOT All)        1252.57        0.01776   \n",
       "6                  FRCC (FRCC All)        1220.11        0.04119   \n",
       "7        HIMS (HICC Miscellaneous)        1343.82        0.13515   \n",
       "8                 HIOA (HICC Oahu)        1620.76        0.09105   \n",
       "9                  MROE (MRO East)        1692.32        0.02879   \n",
       "10                 MROW (MRO West)        1722.67        0.02897   \n",
       "11         NEWE (NPCC New England)         827.95        0.07698   \n",
       "12           NWPP (WECC Northwest)         858.79        0.01634   \n",
       "13     NYCW (NPCC NYC/Westchester)          704.8        0.02622   \n",
       "14         NYLI (NPCC Long Island)        1418.74         0.0905   \n",
       "15          NYUP (NPCC Upstate NY)         683.27        0.01741   \n",
       "16                 RFCE (RFC East)        1059.32         0.0274   \n",
       "17             RFCM (RFC Michigan)        1651.11        0.03255   \n",
       "18                 RFCW (RFC West)        1551.52        0.01837   \n",
       "19             RMPA (WECC Rockies)        1906.06        0.02363   \n",
       "20                SPNO (SPP North)        1798.71        0.02122   \n",
       "21                SPSO (SPP South)        1624.03        0.02452   \n",
       "22  SRMV (SERC Mississippi Valley)         1004.1         0.0218   \n",
       "23             SRMW (SERC Midwest)        1779.27        0.02057   \n",
       "24               SRSO (SERC South)        1495.47        0.02364   \n",
       "25    SRTV (SERC Tennessee Valley)        1540.85        0.01987   \n",
       "26   SRVC (SERC Virginia/Carolina)        1118.41        0.02226   \n",
       "\n",
       "       N2O Factor  \n",
       "0   (lb N2O /MWh)  \n",
       "1         0.00744  \n",
       "2         0.00448  \n",
       "3         0.01657  \n",
       "4         0.00623  \n",
       "5         0.01399  \n",
       "6         0.01525  \n",
       "7         0.02171  \n",
       "8         0.02089  \n",
       "9         0.02905  \n",
       "10        0.02919  \n",
       "11         0.0152  \n",
       "12        0.01364  \n",
       "13        0.00335  \n",
       "14         0.0131  \n",
       "15         0.0099  \n",
       "16        0.01703  \n",
       "17        0.02779  \n",
       "18        0.02593  \n",
       "19        0.02889  \n",
       "20         0.0292  \n",
       "21        0.02242  \n",
       "22        0.01115  \n",
       "23         0.0296  \n",
       "24        0.02457  \n",
       "25        0.02548  \n",
       "26        0.01908  "
      ]
     },
     "execution_count": 2,
     "metadata": {},
     "output_type": "execute_result"
    }
   ],
   "source": [
    "file_path = 'Data/EF-2014.xlsx'  # Replace with the correct path if needed\n",
    "elec_df = pd.read_excel(file_path, sheet_name='Utils-elec')\n",
    "elec_df.drop(columns=['Unnamed: 1','Unnamed: 2','Unnamed: 3','Unnamed: 4'],inplace=True)\n",
    "elec_df"
   ]
  },
  {
   "cell_type": "markdown",
   "metadata": {},
   "source": [
    "- A dictionary is created to map the Electricity board names to the state code used in the plotly library.\n",
    "- This dictionary will be recreated for the 2024 dataset because the source data has updated the Electricity board names and their format has changed."
   ]
  },
  {
   "cell_type": "code",
   "execution_count": 3,
   "metadata": {},
   "outputs": [],
   "source": [
    "\n",
    "\n",
    "import plotly.express as px\n",
    "import pandas as pd\n",
    "\n",
    "subregion_to_states = {\n",
    "    \"AKGD (ASCC Alaska Grid)\": [\"AK\"],\n",
    "    \"AKMS (ASCC Miscellaneous)\": [\"AK\"],\n",
    "    \"AZNM (WECC Southwest)\": [\"AZ\", \"NM\", \"NV\", \"UT\"],\n",
    "    \"CAMX (WECC California)\": [\"CA\"],\n",
    "    \"ERCT (ERCOT All)\": [\"TX\"],\n",
    "    \"FRCC (FRCC All)\": [\"FL\"],\n",
    "    \"HIMS (HICC Miscellaneous)\": [\"HI\"],\n",
    "    \"HIOA (HICC Oahu)\": [\"HI\"],\n",
    "    \"MROE (MRO East)\": [\"MN\", \"WI\", \"IA\"],\n",
    "    \"MROW (MRO West)\": [\"ND\", \"SD\", \"NE\", \"KS\", \"MT\", \"WY\"],\n",
    "    \"NEWE (NPCC New England)\": [\"ME\", \"NH\", \"VT\", \"MA\", \"RI\", \"CT\"],\n",
    "    \"NWPP (WECC Northwest)\": [\"WA\", \"OR\", \"ID\", \"MT\"],\n",
    "    \"NYCW (NPCC NYC/Westchester)\": [\"NY\"],\n",
    "    \"NYLI (NPCC Long Island)\": [\"NY\"],\n",
    "    \"NYUP (NPCC Upstate NY)\": [\"NY\"],\n",
    "    \"RFCE (RFC East)\": [\"PA\", \"NJ\", \"DE\", \"MD\", \"DC\"],\n",
    "    \"RFCM (RFC Michigan)\": [\"MI\"],\n",
    "    \"RFCW (RFC West)\": [\"OH\", \"IN\", \"IL\", \"KY\", \"MO\", \"WV\"],\n",
    "    \"RMPA (WECC Rockies)\": [\"CO\", \"WY\"],\n",
    "    \"SPNO (SPP North)\": [\"MO\", \"KS\", \"NE\"],\n",
    "    \"SPSO (SPP South)\": [\"OK\", \"TX\"],\n",
    "    \"SRMV (SERC Mississippi Valley)\": [\"AR\", \"MS\", \"LA\"],\n",
    "    \"SRMW (SERC Midwest)\": [\"MO\", \"IL\", \"AR\", \"KY\"],\n",
    "    \"SRSO (SERC South)\": [\"AL\", \"GA\"],\n",
    "    \"SRTV (SERC Tennessee Valley)\": [\"TN\", \"NC\", \"VA\", \"GA\"],\n",
    "    \"SRVC (SERC Virginia/Carolina)\": [\"SC\", \"NC\", \"VA\"],\n",
    "}\n",
    "\n",
    "# Prepare a state-wise CO2 Factor dataset\n",
    "state_emissions = []\n",
    "for subregion, states in subregion_to_states.items():\n",
    "    if subregion in elec_df['Subregion'].values:\n",
    "        co2_factor = elec_df.loc[elec_df['Subregion'] == subregion, 'CO2 Factor'].values[0]\n",
    "        for state in states:\n",
    "            state_emissions.append({\"State\": state, \"CO2 Factor\": co2_factor})\n",
    "\n",
    "# Create a DataFrame for state emissions\n",
    "state_emissions_df = pd.DataFrame(state_emissions)\n"
   ]
  },
  {
   "cell_type": "markdown",
   "metadata": {},
   "source": [
    "### Creating the Chloropleth plot for 2011 Electricity emission data"
   ]
  },
  {
   "cell_type": "code",
   "execution_count": 4,
   "metadata": {},
   "outputs": [
    {
     "data": {
      "application/vnd.plotly.v1+json": {
       "config": {
        "plotlyServerURL": "https://plot.ly"
       },
       "data": [
        {
         "coloraxis": "coloraxis",
         "geo": "geo",
         "hovertemplate": "State=%{location}<br>CO2 Factor=%{z}<extra></extra>",
         "locationmode": "USA-states",
         "locations": [
          "AK",
          "AK",
          "AZ",
          "NM",
          "NV",
          "UT",
          "CA",
          "TX",
          "FL",
          "HI",
          "HI",
          "MN",
          "WI",
          "IA",
          "ND",
          "SD",
          "NE",
          "KS",
          "MT",
          "WY",
          "ME",
          "NH",
          "VT",
          "MA",
          "RI",
          "CT",
          "WA",
          "OR",
          "ID",
          "MT",
          "NY",
          "NY",
          "NY",
          "PA",
          "NJ",
          "DE",
          "MD",
          "DC",
          "MI",
          "OH",
          "IN",
          "IL",
          "KY",
          "MO",
          "WV",
          "CO",
          "WY",
          "MO",
          "KS",
          "NE",
          "OK",
          "TX",
          "AR",
          "MS",
          "LA",
          "MO",
          "IL",
          "AR",
          "KY",
          "AL",
          "GA",
          "TN",
          "NC",
          "VA",
          "GA",
          "SC",
          "NC",
          "VA"
         ],
         "name": "",
         "type": "choropleth",
         "z": [
          1284.72,
          535.73,
          1252.61,
          1252.61,
          1252.61,
          1252.61,
          681.01,
          1252.57,
          1220.11,
          1343.82,
          1620.76,
          1692.32,
          1692.32,
          1692.32,
          1722.67,
          1722.67,
          1722.67,
          1722.67,
          1722.67,
          1722.67,
          827.95,
          827.95,
          827.95,
          827.95,
          827.95,
          827.95,
          858.79,
          858.79,
          858.79,
          858.79,
          704.8,
          1418.74,
          683.27,
          1059.32,
          1059.32,
          1059.32,
          1059.32,
          1059.32,
          1651.11,
          1551.52,
          1551.52,
          1551.52,
          1551.52,
          1551.52,
          1551.52,
          1906.06,
          1906.06,
          1798.71,
          1798.71,
          1798.71,
          1624.03,
          1624.03,
          1004.1,
          1004.1,
          1004.1,
          1779.27,
          1779.27,
          1779.27,
          1779.27,
          1495.47,
          1495.47,
          1540.85,
          1540.85,
          1540.85,
          1540.85,
          1118.41,
          1118.41,
          1118.41
         ]
        }
       ],
       "layout": {
        "coloraxis": {
         "colorbar": {
          "title": {
           "text": "CO2 Factor"
          }
         },
         "colorscale": [
          [
           0,
           "rgb(237, 217, 163)"
          ],
          [
           0.16666666666666666,
           "rgb(246, 169, 122)"
          ],
          [
           0.3333333333333333,
           "rgb(250, 120, 118)"
          ],
          [
           0.5,
           "rgb(234, 79, 136)"
          ],
          [
           0.6666666666666666,
           "rgb(192, 54, 157)"
          ],
          [
           0.8333333333333334,
           "rgb(135, 44, 162)"
          ],
          [
           1,
           "rgb(75, 41, 145)"
          ]
         ]
        },
        "geo": {
         "center": {},
         "domain": {
          "x": [
           0,
           1
          ],
          "y": [
           0,
           1
          ]
         },
         "scope": "usa"
        },
        "legend": {
         "tracegroupgap": 0
        },
        "margin": {
         "b": 0,
         "l": 0,
         "r": 0,
         "t": 30
        },
        "template": {
         "data": {
          "bar": [
           {
            "error_x": {
             "color": "#2a3f5f"
            },
            "error_y": {
             "color": "#2a3f5f"
            },
            "marker": {
             "line": {
              "color": "#E5ECF6",
              "width": 0.5
             },
             "pattern": {
              "fillmode": "overlay",
              "size": 10,
              "solidity": 0.2
             }
            },
            "type": "bar"
           }
          ],
          "barpolar": [
           {
            "marker": {
             "line": {
              "color": "#E5ECF6",
              "width": 0.5
             },
             "pattern": {
              "fillmode": "overlay",
              "size": 10,
              "solidity": 0.2
             }
            },
            "type": "barpolar"
           }
          ],
          "carpet": [
           {
            "aaxis": {
             "endlinecolor": "#2a3f5f",
             "gridcolor": "white",
             "linecolor": "white",
             "minorgridcolor": "white",
             "startlinecolor": "#2a3f5f"
            },
            "baxis": {
             "endlinecolor": "#2a3f5f",
             "gridcolor": "white",
             "linecolor": "white",
             "minorgridcolor": "white",
             "startlinecolor": "#2a3f5f"
            },
            "type": "carpet"
           }
          ],
          "choropleth": [
           {
            "colorbar": {
             "outlinewidth": 0,
             "ticks": ""
            },
            "type": "choropleth"
           }
          ],
          "contour": [
           {
            "colorbar": {
             "outlinewidth": 0,
             "ticks": ""
            },
            "colorscale": [
             [
              0,
              "#0d0887"
             ],
             [
              0.1111111111111111,
              "#46039f"
             ],
             [
              0.2222222222222222,
              "#7201a8"
             ],
             [
              0.3333333333333333,
              "#9c179e"
             ],
             [
              0.4444444444444444,
              "#bd3786"
             ],
             [
              0.5555555555555556,
              "#d8576b"
             ],
             [
              0.6666666666666666,
              "#ed7953"
             ],
             [
              0.7777777777777778,
              "#fb9f3a"
             ],
             [
              0.8888888888888888,
              "#fdca26"
             ],
             [
              1,
              "#f0f921"
             ]
            ],
            "type": "contour"
           }
          ],
          "contourcarpet": [
           {
            "colorbar": {
             "outlinewidth": 0,
             "ticks": ""
            },
            "type": "contourcarpet"
           }
          ],
          "heatmap": [
           {
            "colorbar": {
             "outlinewidth": 0,
             "ticks": ""
            },
            "colorscale": [
             [
              0,
              "#0d0887"
             ],
             [
              0.1111111111111111,
              "#46039f"
             ],
             [
              0.2222222222222222,
              "#7201a8"
             ],
             [
              0.3333333333333333,
              "#9c179e"
             ],
             [
              0.4444444444444444,
              "#bd3786"
             ],
             [
              0.5555555555555556,
              "#d8576b"
             ],
             [
              0.6666666666666666,
              "#ed7953"
             ],
             [
              0.7777777777777778,
              "#fb9f3a"
             ],
             [
              0.8888888888888888,
              "#fdca26"
             ],
             [
              1,
              "#f0f921"
             ]
            ],
            "type": "heatmap"
           }
          ],
          "heatmapgl": [
           {
            "colorbar": {
             "outlinewidth": 0,
             "ticks": ""
            },
            "colorscale": [
             [
              0,
              "#0d0887"
             ],
             [
              0.1111111111111111,
              "#46039f"
             ],
             [
              0.2222222222222222,
              "#7201a8"
             ],
             [
              0.3333333333333333,
              "#9c179e"
             ],
             [
              0.4444444444444444,
              "#bd3786"
             ],
             [
              0.5555555555555556,
              "#d8576b"
             ],
             [
              0.6666666666666666,
              "#ed7953"
             ],
             [
              0.7777777777777778,
              "#fb9f3a"
             ],
             [
              0.8888888888888888,
              "#fdca26"
             ],
             [
              1,
              "#f0f921"
             ]
            ],
            "type": "heatmapgl"
           }
          ],
          "histogram": [
           {
            "marker": {
             "pattern": {
              "fillmode": "overlay",
              "size": 10,
              "solidity": 0.2
             }
            },
            "type": "histogram"
           }
          ],
          "histogram2d": [
           {
            "colorbar": {
             "outlinewidth": 0,
             "ticks": ""
            },
            "colorscale": [
             [
              0,
              "#0d0887"
             ],
             [
              0.1111111111111111,
              "#46039f"
             ],
             [
              0.2222222222222222,
              "#7201a8"
             ],
             [
              0.3333333333333333,
              "#9c179e"
             ],
             [
              0.4444444444444444,
              "#bd3786"
             ],
             [
              0.5555555555555556,
              "#d8576b"
             ],
             [
              0.6666666666666666,
              "#ed7953"
             ],
             [
              0.7777777777777778,
              "#fb9f3a"
             ],
             [
              0.8888888888888888,
              "#fdca26"
             ],
             [
              1,
              "#f0f921"
             ]
            ],
            "type": "histogram2d"
           }
          ],
          "histogram2dcontour": [
           {
            "colorbar": {
             "outlinewidth": 0,
             "ticks": ""
            },
            "colorscale": [
             [
              0,
              "#0d0887"
             ],
             [
              0.1111111111111111,
              "#46039f"
             ],
             [
              0.2222222222222222,
              "#7201a8"
             ],
             [
              0.3333333333333333,
              "#9c179e"
             ],
             [
              0.4444444444444444,
              "#bd3786"
             ],
             [
              0.5555555555555556,
              "#d8576b"
             ],
             [
              0.6666666666666666,
              "#ed7953"
             ],
             [
              0.7777777777777778,
              "#fb9f3a"
             ],
             [
              0.8888888888888888,
              "#fdca26"
             ],
             [
              1,
              "#f0f921"
             ]
            ],
            "type": "histogram2dcontour"
           }
          ],
          "mesh3d": [
           {
            "colorbar": {
             "outlinewidth": 0,
             "ticks": ""
            },
            "type": "mesh3d"
           }
          ],
          "parcoords": [
           {
            "line": {
             "colorbar": {
              "outlinewidth": 0,
              "ticks": ""
             }
            },
            "type": "parcoords"
           }
          ],
          "pie": [
           {
            "automargin": true,
            "type": "pie"
           }
          ],
          "scatter": [
           {
            "fillpattern": {
             "fillmode": "overlay",
             "size": 10,
             "solidity": 0.2
            },
            "type": "scatter"
           }
          ],
          "scatter3d": [
           {
            "line": {
             "colorbar": {
              "outlinewidth": 0,
              "ticks": ""
             }
            },
            "marker": {
             "colorbar": {
              "outlinewidth": 0,
              "ticks": ""
             }
            },
            "type": "scatter3d"
           }
          ],
          "scattercarpet": [
           {
            "marker": {
             "colorbar": {
              "outlinewidth": 0,
              "ticks": ""
             }
            },
            "type": "scattercarpet"
           }
          ],
          "scattergeo": [
           {
            "marker": {
             "colorbar": {
              "outlinewidth": 0,
              "ticks": ""
             }
            },
            "type": "scattergeo"
           }
          ],
          "scattergl": [
           {
            "marker": {
             "colorbar": {
              "outlinewidth": 0,
              "ticks": ""
             }
            },
            "type": "scattergl"
           }
          ],
          "scattermapbox": [
           {
            "marker": {
             "colorbar": {
              "outlinewidth": 0,
              "ticks": ""
             }
            },
            "type": "scattermapbox"
           }
          ],
          "scatterpolar": [
           {
            "marker": {
             "colorbar": {
              "outlinewidth": 0,
              "ticks": ""
             }
            },
            "type": "scatterpolar"
           }
          ],
          "scatterpolargl": [
           {
            "marker": {
             "colorbar": {
              "outlinewidth": 0,
              "ticks": ""
             }
            },
            "type": "scatterpolargl"
           }
          ],
          "scatterternary": [
           {
            "marker": {
             "colorbar": {
              "outlinewidth": 0,
              "ticks": ""
             }
            },
            "type": "scatterternary"
           }
          ],
          "surface": [
           {
            "colorbar": {
             "outlinewidth": 0,
             "ticks": ""
            },
            "colorscale": [
             [
              0,
              "#0d0887"
             ],
             [
              0.1111111111111111,
              "#46039f"
             ],
             [
              0.2222222222222222,
              "#7201a8"
             ],
             [
              0.3333333333333333,
              "#9c179e"
             ],
             [
              0.4444444444444444,
              "#bd3786"
             ],
             [
              0.5555555555555556,
              "#d8576b"
             ],
             [
              0.6666666666666666,
              "#ed7953"
             ],
             [
              0.7777777777777778,
              "#fb9f3a"
             ],
             [
              0.8888888888888888,
              "#fdca26"
             ],
             [
              1,
              "#f0f921"
             ]
            ],
            "type": "surface"
           }
          ],
          "table": [
           {
            "cells": {
             "fill": {
              "color": "#EBF0F8"
             },
             "line": {
              "color": "white"
             }
            },
            "header": {
             "fill": {
              "color": "#C8D4E3"
             },
             "line": {
              "color": "white"
             }
            },
            "type": "table"
           }
          ]
         },
         "layout": {
          "annotationdefaults": {
           "arrowcolor": "#2a3f5f",
           "arrowhead": 0,
           "arrowwidth": 1
          },
          "autotypenumbers": "strict",
          "coloraxis": {
           "colorbar": {
            "outlinewidth": 0,
            "ticks": ""
           }
          },
          "colorscale": {
           "diverging": [
            [
             0,
             "#8e0152"
            ],
            [
             0.1,
             "#c51b7d"
            ],
            [
             0.2,
             "#de77ae"
            ],
            [
             0.3,
             "#f1b6da"
            ],
            [
             0.4,
             "#fde0ef"
            ],
            [
             0.5,
             "#f7f7f7"
            ],
            [
             0.6,
             "#e6f5d0"
            ],
            [
             0.7,
             "#b8e186"
            ],
            [
             0.8,
             "#7fbc41"
            ],
            [
             0.9,
             "#4d9221"
            ],
            [
             1,
             "#276419"
            ]
           ],
           "sequential": [
            [
             0,
             "#0d0887"
            ],
            [
             0.1111111111111111,
             "#46039f"
            ],
            [
             0.2222222222222222,
             "#7201a8"
            ],
            [
             0.3333333333333333,
             "#9c179e"
            ],
            [
             0.4444444444444444,
             "#bd3786"
            ],
            [
             0.5555555555555556,
             "#d8576b"
            ],
            [
             0.6666666666666666,
             "#ed7953"
            ],
            [
             0.7777777777777778,
             "#fb9f3a"
            ],
            [
             0.8888888888888888,
             "#fdca26"
            ],
            [
             1,
             "#f0f921"
            ]
           ],
           "sequentialminus": [
            [
             0,
             "#0d0887"
            ],
            [
             0.1111111111111111,
             "#46039f"
            ],
            [
             0.2222222222222222,
             "#7201a8"
            ],
            [
             0.3333333333333333,
             "#9c179e"
            ],
            [
             0.4444444444444444,
             "#bd3786"
            ],
            [
             0.5555555555555556,
             "#d8576b"
            ],
            [
             0.6666666666666666,
             "#ed7953"
            ],
            [
             0.7777777777777778,
             "#fb9f3a"
            ],
            [
             0.8888888888888888,
             "#fdca26"
            ],
            [
             1,
             "#f0f921"
            ]
           ]
          },
          "colorway": [
           "#636efa",
           "#EF553B",
           "#00cc96",
           "#ab63fa",
           "#FFA15A",
           "#19d3f3",
           "#FF6692",
           "#B6E880",
           "#FF97FF",
           "#FECB52"
          ],
          "font": {
           "color": "#2a3f5f"
          },
          "geo": {
           "bgcolor": "white",
           "lakecolor": "white",
           "landcolor": "#E5ECF6",
           "showlakes": true,
           "showland": true,
           "subunitcolor": "white"
          },
          "hoverlabel": {
           "align": "left"
          },
          "hovermode": "closest",
          "mapbox": {
           "style": "light"
          },
          "paper_bgcolor": "white",
          "plot_bgcolor": "#E5ECF6",
          "polar": {
           "angularaxis": {
            "gridcolor": "white",
            "linecolor": "white",
            "ticks": ""
           },
           "bgcolor": "#E5ECF6",
           "radialaxis": {
            "gridcolor": "white",
            "linecolor": "white",
            "ticks": ""
           }
          },
          "scene": {
           "xaxis": {
            "backgroundcolor": "#E5ECF6",
            "gridcolor": "white",
            "gridwidth": 2,
            "linecolor": "white",
            "showbackground": true,
            "ticks": "",
            "zerolinecolor": "white"
           },
           "yaxis": {
            "backgroundcolor": "#E5ECF6",
            "gridcolor": "white",
            "gridwidth": 2,
            "linecolor": "white",
            "showbackground": true,
            "ticks": "",
            "zerolinecolor": "white"
           },
           "zaxis": {
            "backgroundcolor": "#E5ECF6",
            "gridcolor": "white",
            "gridwidth": 2,
            "linecolor": "white",
            "showbackground": true,
            "ticks": "",
            "zerolinecolor": "white"
           }
          },
          "shapedefaults": {
           "line": {
            "color": "#2a3f5f"
           }
          },
          "ternary": {
           "aaxis": {
            "gridcolor": "white",
            "linecolor": "white",
            "ticks": ""
           },
           "baxis": {
            "gridcolor": "white",
            "linecolor": "white",
            "ticks": ""
           },
           "bgcolor": "#E5ECF6",
           "caxis": {
            "gridcolor": "white",
            "linecolor": "white",
            "ticks": ""
           }
          },
          "title": {
           "x": 0.05
          },
          "xaxis": {
           "automargin": true,
           "gridcolor": "white",
           "linecolor": "white",
           "ticks": "",
           "title": {
            "standoff": 15
           },
           "zerolinecolor": "white",
           "zerolinewidth": 2
          },
          "yaxis": {
           "automargin": true,
           "gridcolor": "white",
           "linecolor": "white",
           "ticks": "",
           "title": {
            "standoff": 15
           },
           "zerolinecolor": "white",
           "zerolinewidth": 2
          }
         }
        },
        "title": {
         "text": "CO2 Emissions by State Based on Subregion 2011"
        }
       }
      }
     },
     "metadata": {},
     "output_type": "display_data"
    }
   ],
   "source": [
    "# Create a choropleth map using state abbreviations\n",
    "fig = px.choropleth(\n",
    "    state_emissions_df,\n",
    "    locations=\"State\",  # State abbreviations\n",
    "    locationmode=\"USA-states\",  # Match state abbreviations\n",
    "    color=\"CO2 Factor\",\n",
    "    scope=\"usa\",\n",
    "    color_continuous_scale=\"Agsunset_r\",\n",
    "    title=\"CO2 Emissions by State Based on Subregion 2011\"\n",
    ")\n",
    "\n",
    "# Update layout\n",
    "fig.update_layout(margin={\"r\": 0, \"t\": 30, \"l\": 0, \"b\": 0})\n",
    "\n",
    "# Display the map\n",
    "fig.show()"
   ]
  },
  {
   "cell_type": "markdown",
   "metadata": {},
   "source": [
    " Chloropleth - to get state-wise emission factors in order to gain insights on which regions contribute the most (2024)"
   ]
  },
  {
   "cell_type": "markdown",
   "metadata": {},
   "source": [
    "As mentioned previously, a new dicionary is created with different key names as before due to change in Name format of the electricity boards."
   ]
  },
  {
   "cell_type": "code",
   "execution_count": 5,
   "metadata": {},
   "outputs": [],
   "source": [
    "file_path = 'Data/EF-2014.xlsx'  # Replace with the correct path if needed\n",
    "elec_df_2024 = pd.read_excel(file_path, sheet_name='Utils-elec-2024')\n",
    "elec_df_2024.drop(index=range(0,1),inplace=True)\n",
    "elec_df_2024.reset_index(drop=True,inplace=True)\n",
    "elec_df_2024.rename(columns={'eGRID Subregion Name':'Subregion'},inplace=True)\n",
    "\n",
    "subregion_to_states = {\n",
    "    \"ASCC Alaska Grid\": [\"AK\"],\n",
    "    \"ASCC Miscellaneous\": [\"AK\"],\n",
    "    \"WECC Southwest\": [\"AZ\", \"NM\", \"NV\", \"UT\"],\n",
    "    \"WECC California\": [\"CA\"],\n",
    "    \"ERCOT All\": [\"TX\"],\n",
    "    \"FRCC All\": [\"FL\"],\n",
    "    \"HICC Miscellaneous\": [\"HI\"],\n",
    "    \"HICC Oahu\": [\"HI\"],\n",
    "    \"MRO East\": [\"MN\", \"WI\", \"IA\"],\n",
    "    \"MRO West\": [\"ND\", \"SD\", \"NE\", \"KS\", \"MT\", \"WY\"],\n",
    "    \"NPCC New England\": [\"ME\", \"NH\", \"VT\", \"MA\", \"RI\", \"CT\"],\n",
    "    \"WECC Northwest\": [\"WA\", \"OR\", \"ID\", \"MT\"],\n",
    "    \"NPCC NYC/Westchester\": [\"NY\"],\n",
    "    \"NPCC Long Island\": [\"NY\"],\n",
    "    \"NPCC Upstate NY\": [\"NY\"],\n",
    "    \"RFC East\": [\"PA\", \"NJ\", \"DE\", \"MD\", \"DC\"],\n",
    "    \"RFC Michigan\": [\"MI\"],\n",
    "    \"RFC West\": [\"OH\", \"IN\", \"IL\", \"KY\", \"MO\", \"WV\"],\n",
    "    \"WECC Rockies\": [\"CO\", \"WY\"],\n",
    "    \"SPP North\": [\"MO\", \"KS\", \"NE\"],\n",
    "    \"SPP South\": [\"OK\", \"TX\"],\n",
    "    \"SERC Mississippi Valley\": [\"AR\", \"MS\", \"LA\"],\n",
    "    \"SERC Midwest\": [\"MO\", \"IL\", \"AR\", \"KY\"],\n",
    "    \"SERC South\": [\"AL\", \"GA\"],\n",
    "    \"SERC Tennessee Valley\": [\"TN\", \"NC\", \"VA\", \"GA\"],\n",
    "    \"SERC Virginia/Carolina\": [\"SC\", \"NC\", \"VA\"]\n",
    "}\n",
    "\n",
    "\n",
    "# Prepare a state-wise CO2 Factor dataset for 2024 data\n",
    "state_emissions_2024 = []\n",
    "for subregion, states in subregion_to_states.items():\n",
    "    if subregion in elec_df_2024['Subregion'].values:\n",
    "        co2_factor = elec_df_2024.loc[elec_df_2024['Subregion'] == subregion, 'CO2 Factor'].values[0]\n",
    "        for state in states:\n",
    "            state_emissions_2024.append({\"State\": state, \"CO2 Factor\": co2_factor})\n",
    "\n",
    "# Create a DataFrame for state emissions for 2024\n",
    "state_emissions_df_2024 = pd.DataFrame(state_emissions_2024)\n",
    "\n",
    "\n"
   ]
  },
  {
   "cell_type": "markdown",
   "metadata": {},
   "source": [
    "### Creating the Chloropleth plot for 2024 Electricity emission data"
   ]
  },
  {
   "cell_type": "code",
   "execution_count": 6,
   "metadata": {},
   "outputs": [
    {
     "data": {
      "application/vnd.plotly.v1+json": {
       "config": {
        "plotlyServerURL": "https://plot.ly"
       },
       "data": [
        {
         "coloraxis": "coloraxis",
         "geo": "geo",
         "hovertemplate": "State=%{location}<br>CO2 Factor=%{z}<extra></extra>",
         "locationmode": "USA-states",
         "locations": [
          "AK",
          "AK",
          "AZ",
          "NM",
          "NV",
          "UT",
          "CA",
          "TX",
          "FL",
          "HI",
          "HI",
          "MN",
          "WI",
          "IA",
          "ND",
          "SD",
          "NE",
          "KS",
          "MT",
          "WY",
          "ME",
          "NH",
          "VT",
          "MA",
          "RI",
          "CT",
          "WA",
          "OR",
          "ID",
          "MT",
          "NY",
          "NY",
          "NY",
          "PA",
          "NJ",
          "DE",
          "MD",
          "DC",
          "MI",
          "OH",
          "IN",
          "IL",
          "KY",
          "MO",
          "WV",
          "CO",
          "WY",
          "MO",
          "KS",
          "NE",
          "OK",
          "TX",
          "AR",
          "MS",
          "LA",
          "MO",
          "IL",
          "AR",
          "KY",
          "AL",
          "GA",
          "TN",
          "NC",
          "VA",
          "GA",
          "SC",
          "NC",
          "VA"
         ],
         "name": "",
         "type": "choropleth",
         "z": [
          1052.114,
          495.772,
          776.036,
          776.036,
          776.036,
          776.036,
          497.443,
          771.083,
          813.846,
          1155.486,
          1575.407,
          1479.621,
          1479.621,
          1479.621,
          936.485,
          936.485,
          936.485,
          936.485,
          936.485,
          936.485,
          536.428,
          536.428,
          536.428,
          536.428,
          536.428,
          536.428,
          602.088,
          602.088,
          602.088,
          602.088,
          885.233,
          1200.708,
          274.559,
          657.386,
          657.386,
          657.386,
          657.386,
          657.386,
          1216.404,
          1000.053,
          1000.053,
          1000.053,
          1000.053,
          1000.053,
          1000.053,
          1124.887,
          1124.887,
          952.575,
          952.575,
          952.575,
          970.398,
          970.398,
          801.015,
          801.015,
          801.015,
          1369.887,
          1369.887,
          1369.887,
          1369.887,
          893.29,
          893.29,
          933.067,
          933.067,
          933.067,
          933.067,
          622.987,
          622.987,
          622.987
         ]
        }
       ],
       "layout": {
        "coloraxis": {
         "colorbar": {
          "title": {
           "text": "CO2 Factor"
          }
         },
         "colorscale": [
          [
           0,
           "rgb(237, 217, 163)"
          ],
          [
           0.16666666666666666,
           "rgb(246, 169, 122)"
          ],
          [
           0.3333333333333333,
           "rgb(250, 120, 118)"
          ],
          [
           0.5,
           "rgb(234, 79, 136)"
          ],
          [
           0.6666666666666666,
           "rgb(192, 54, 157)"
          ],
          [
           0.8333333333333334,
           "rgb(135, 44, 162)"
          ],
          [
           1,
           "rgb(75, 41, 145)"
          ]
         ]
        },
        "geo": {
         "center": {},
         "domain": {
          "x": [
           0,
           1
          ],
          "y": [
           0,
           1
          ]
         },
         "scope": "usa"
        },
        "legend": {
         "tracegroupgap": 0
        },
        "margin": {
         "b": 0,
         "l": 0,
         "r": 0,
         "t": 30
        },
        "template": {
         "data": {
          "bar": [
           {
            "error_x": {
             "color": "#2a3f5f"
            },
            "error_y": {
             "color": "#2a3f5f"
            },
            "marker": {
             "line": {
              "color": "#E5ECF6",
              "width": 0.5
             },
             "pattern": {
              "fillmode": "overlay",
              "size": 10,
              "solidity": 0.2
             }
            },
            "type": "bar"
           }
          ],
          "barpolar": [
           {
            "marker": {
             "line": {
              "color": "#E5ECF6",
              "width": 0.5
             },
             "pattern": {
              "fillmode": "overlay",
              "size": 10,
              "solidity": 0.2
             }
            },
            "type": "barpolar"
           }
          ],
          "carpet": [
           {
            "aaxis": {
             "endlinecolor": "#2a3f5f",
             "gridcolor": "white",
             "linecolor": "white",
             "minorgridcolor": "white",
             "startlinecolor": "#2a3f5f"
            },
            "baxis": {
             "endlinecolor": "#2a3f5f",
             "gridcolor": "white",
             "linecolor": "white",
             "minorgridcolor": "white",
             "startlinecolor": "#2a3f5f"
            },
            "type": "carpet"
           }
          ],
          "choropleth": [
           {
            "colorbar": {
             "outlinewidth": 0,
             "ticks": ""
            },
            "type": "choropleth"
           }
          ],
          "contour": [
           {
            "colorbar": {
             "outlinewidth": 0,
             "ticks": ""
            },
            "colorscale": [
             [
              0,
              "#0d0887"
             ],
             [
              0.1111111111111111,
              "#46039f"
             ],
             [
              0.2222222222222222,
              "#7201a8"
             ],
             [
              0.3333333333333333,
              "#9c179e"
             ],
             [
              0.4444444444444444,
              "#bd3786"
             ],
             [
              0.5555555555555556,
              "#d8576b"
             ],
             [
              0.6666666666666666,
              "#ed7953"
             ],
             [
              0.7777777777777778,
              "#fb9f3a"
             ],
             [
              0.8888888888888888,
              "#fdca26"
             ],
             [
              1,
              "#f0f921"
             ]
            ],
            "type": "contour"
           }
          ],
          "contourcarpet": [
           {
            "colorbar": {
             "outlinewidth": 0,
             "ticks": ""
            },
            "type": "contourcarpet"
           }
          ],
          "heatmap": [
           {
            "colorbar": {
             "outlinewidth": 0,
             "ticks": ""
            },
            "colorscale": [
             [
              0,
              "#0d0887"
             ],
             [
              0.1111111111111111,
              "#46039f"
             ],
             [
              0.2222222222222222,
              "#7201a8"
             ],
             [
              0.3333333333333333,
              "#9c179e"
             ],
             [
              0.4444444444444444,
              "#bd3786"
             ],
             [
              0.5555555555555556,
              "#d8576b"
             ],
             [
              0.6666666666666666,
              "#ed7953"
             ],
             [
              0.7777777777777778,
              "#fb9f3a"
             ],
             [
              0.8888888888888888,
              "#fdca26"
             ],
             [
              1,
              "#f0f921"
             ]
            ],
            "type": "heatmap"
           }
          ],
          "heatmapgl": [
           {
            "colorbar": {
             "outlinewidth": 0,
             "ticks": ""
            },
            "colorscale": [
             [
              0,
              "#0d0887"
             ],
             [
              0.1111111111111111,
              "#46039f"
             ],
             [
              0.2222222222222222,
              "#7201a8"
             ],
             [
              0.3333333333333333,
              "#9c179e"
             ],
             [
              0.4444444444444444,
              "#bd3786"
             ],
             [
              0.5555555555555556,
              "#d8576b"
             ],
             [
              0.6666666666666666,
              "#ed7953"
             ],
             [
              0.7777777777777778,
              "#fb9f3a"
             ],
             [
              0.8888888888888888,
              "#fdca26"
             ],
             [
              1,
              "#f0f921"
             ]
            ],
            "type": "heatmapgl"
           }
          ],
          "histogram": [
           {
            "marker": {
             "pattern": {
              "fillmode": "overlay",
              "size": 10,
              "solidity": 0.2
             }
            },
            "type": "histogram"
           }
          ],
          "histogram2d": [
           {
            "colorbar": {
             "outlinewidth": 0,
             "ticks": ""
            },
            "colorscale": [
             [
              0,
              "#0d0887"
             ],
             [
              0.1111111111111111,
              "#46039f"
             ],
             [
              0.2222222222222222,
              "#7201a8"
             ],
             [
              0.3333333333333333,
              "#9c179e"
             ],
             [
              0.4444444444444444,
              "#bd3786"
             ],
             [
              0.5555555555555556,
              "#d8576b"
             ],
             [
              0.6666666666666666,
              "#ed7953"
             ],
             [
              0.7777777777777778,
              "#fb9f3a"
             ],
             [
              0.8888888888888888,
              "#fdca26"
             ],
             [
              1,
              "#f0f921"
             ]
            ],
            "type": "histogram2d"
           }
          ],
          "histogram2dcontour": [
           {
            "colorbar": {
             "outlinewidth": 0,
             "ticks": ""
            },
            "colorscale": [
             [
              0,
              "#0d0887"
             ],
             [
              0.1111111111111111,
              "#46039f"
             ],
             [
              0.2222222222222222,
              "#7201a8"
             ],
             [
              0.3333333333333333,
              "#9c179e"
             ],
             [
              0.4444444444444444,
              "#bd3786"
             ],
             [
              0.5555555555555556,
              "#d8576b"
             ],
             [
              0.6666666666666666,
              "#ed7953"
             ],
             [
              0.7777777777777778,
              "#fb9f3a"
             ],
             [
              0.8888888888888888,
              "#fdca26"
             ],
             [
              1,
              "#f0f921"
             ]
            ],
            "type": "histogram2dcontour"
           }
          ],
          "mesh3d": [
           {
            "colorbar": {
             "outlinewidth": 0,
             "ticks": ""
            },
            "type": "mesh3d"
           }
          ],
          "parcoords": [
           {
            "line": {
             "colorbar": {
              "outlinewidth": 0,
              "ticks": ""
             }
            },
            "type": "parcoords"
           }
          ],
          "pie": [
           {
            "automargin": true,
            "type": "pie"
           }
          ],
          "scatter": [
           {
            "fillpattern": {
             "fillmode": "overlay",
             "size": 10,
             "solidity": 0.2
            },
            "type": "scatter"
           }
          ],
          "scatter3d": [
           {
            "line": {
             "colorbar": {
              "outlinewidth": 0,
              "ticks": ""
             }
            },
            "marker": {
             "colorbar": {
              "outlinewidth": 0,
              "ticks": ""
             }
            },
            "type": "scatter3d"
           }
          ],
          "scattercarpet": [
           {
            "marker": {
             "colorbar": {
              "outlinewidth": 0,
              "ticks": ""
             }
            },
            "type": "scattercarpet"
           }
          ],
          "scattergeo": [
           {
            "marker": {
             "colorbar": {
              "outlinewidth": 0,
              "ticks": ""
             }
            },
            "type": "scattergeo"
           }
          ],
          "scattergl": [
           {
            "marker": {
             "colorbar": {
              "outlinewidth": 0,
              "ticks": ""
             }
            },
            "type": "scattergl"
           }
          ],
          "scattermapbox": [
           {
            "marker": {
             "colorbar": {
              "outlinewidth": 0,
              "ticks": ""
             }
            },
            "type": "scattermapbox"
           }
          ],
          "scatterpolar": [
           {
            "marker": {
             "colorbar": {
              "outlinewidth": 0,
              "ticks": ""
             }
            },
            "type": "scatterpolar"
           }
          ],
          "scatterpolargl": [
           {
            "marker": {
             "colorbar": {
              "outlinewidth": 0,
              "ticks": ""
             }
            },
            "type": "scatterpolargl"
           }
          ],
          "scatterternary": [
           {
            "marker": {
             "colorbar": {
              "outlinewidth": 0,
              "ticks": ""
             }
            },
            "type": "scatterternary"
           }
          ],
          "surface": [
           {
            "colorbar": {
             "outlinewidth": 0,
             "ticks": ""
            },
            "colorscale": [
             [
              0,
              "#0d0887"
             ],
             [
              0.1111111111111111,
              "#46039f"
             ],
             [
              0.2222222222222222,
              "#7201a8"
             ],
             [
              0.3333333333333333,
              "#9c179e"
             ],
             [
              0.4444444444444444,
              "#bd3786"
             ],
             [
              0.5555555555555556,
              "#d8576b"
             ],
             [
              0.6666666666666666,
              "#ed7953"
             ],
             [
              0.7777777777777778,
              "#fb9f3a"
             ],
             [
              0.8888888888888888,
              "#fdca26"
             ],
             [
              1,
              "#f0f921"
             ]
            ],
            "type": "surface"
           }
          ],
          "table": [
           {
            "cells": {
             "fill": {
              "color": "#EBF0F8"
             },
             "line": {
              "color": "white"
             }
            },
            "header": {
             "fill": {
              "color": "#C8D4E3"
             },
             "line": {
              "color": "white"
             }
            },
            "type": "table"
           }
          ]
         },
         "layout": {
          "annotationdefaults": {
           "arrowcolor": "#2a3f5f",
           "arrowhead": 0,
           "arrowwidth": 1
          },
          "autotypenumbers": "strict",
          "coloraxis": {
           "colorbar": {
            "outlinewidth": 0,
            "ticks": ""
           }
          },
          "colorscale": {
           "diverging": [
            [
             0,
             "#8e0152"
            ],
            [
             0.1,
             "#c51b7d"
            ],
            [
             0.2,
             "#de77ae"
            ],
            [
             0.3,
             "#f1b6da"
            ],
            [
             0.4,
             "#fde0ef"
            ],
            [
             0.5,
             "#f7f7f7"
            ],
            [
             0.6,
             "#e6f5d0"
            ],
            [
             0.7,
             "#b8e186"
            ],
            [
             0.8,
             "#7fbc41"
            ],
            [
             0.9,
             "#4d9221"
            ],
            [
             1,
             "#276419"
            ]
           ],
           "sequential": [
            [
             0,
             "#0d0887"
            ],
            [
             0.1111111111111111,
             "#46039f"
            ],
            [
             0.2222222222222222,
             "#7201a8"
            ],
            [
             0.3333333333333333,
             "#9c179e"
            ],
            [
             0.4444444444444444,
             "#bd3786"
            ],
            [
             0.5555555555555556,
             "#d8576b"
            ],
            [
             0.6666666666666666,
             "#ed7953"
            ],
            [
             0.7777777777777778,
             "#fb9f3a"
            ],
            [
             0.8888888888888888,
             "#fdca26"
            ],
            [
             1,
             "#f0f921"
            ]
           ],
           "sequentialminus": [
            [
             0,
             "#0d0887"
            ],
            [
             0.1111111111111111,
             "#46039f"
            ],
            [
             0.2222222222222222,
             "#7201a8"
            ],
            [
             0.3333333333333333,
             "#9c179e"
            ],
            [
             0.4444444444444444,
             "#bd3786"
            ],
            [
             0.5555555555555556,
             "#d8576b"
            ],
            [
             0.6666666666666666,
             "#ed7953"
            ],
            [
             0.7777777777777778,
             "#fb9f3a"
            ],
            [
             0.8888888888888888,
             "#fdca26"
            ],
            [
             1,
             "#f0f921"
            ]
           ]
          },
          "colorway": [
           "#636efa",
           "#EF553B",
           "#00cc96",
           "#ab63fa",
           "#FFA15A",
           "#19d3f3",
           "#FF6692",
           "#B6E880",
           "#FF97FF",
           "#FECB52"
          ],
          "font": {
           "color": "#2a3f5f"
          },
          "geo": {
           "bgcolor": "white",
           "lakecolor": "white",
           "landcolor": "#E5ECF6",
           "showlakes": true,
           "showland": true,
           "subunitcolor": "white"
          },
          "hoverlabel": {
           "align": "left"
          },
          "hovermode": "closest",
          "mapbox": {
           "style": "light"
          },
          "paper_bgcolor": "white",
          "plot_bgcolor": "#E5ECF6",
          "polar": {
           "angularaxis": {
            "gridcolor": "white",
            "linecolor": "white",
            "ticks": ""
           },
           "bgcolor": "#E5ECF6",
           "radialaxis": {
            "gridcolor": "white",
            "linecolor": "white",
            "ticks": ""
           }
          },
          "scene": {
           "xaxis": {
            "backgroundcolor": "#E5ECF6",
            "gridcolor": "white",
            "gridwidth": 2,
            "linecolor": "white",
            "showbackground": true,
            "ticks": "",
            "zerolinecolor": "white"
           },
           "yaxis": {
            "backgroundcolor": "#E5ECF6",
            "gridcolor": "white",
            "gridwidth": 2,
            "linecolor": "white",
            "showbackground": true,
            "ticks": "",
            "zerolinecolor": "white"
           },
           "zaxis": {
            "backgroundcolor": "#E5ECF6",
            "gridcolor": "white",
            "gridwidth": 2,
            "linecolor": "white",
            "showbackground": true,
            "ticks": "",
            "zerolinecolor": "white"
           }
          },
          "shapedefaults": {
           "line": {
            "color": "#2a3f5f"
           }
          },
          "ternary": {
           "aaxis": {
            "gridcolor": "white",
            "linecolor": "white",
            "ticks": ""
           },
           "baxis": {
            "gridcolor": "white",
            "linecolor": "white",
            "ticks": ""
           },
           "bgcolor": "#E5ECF6",
           "caxis": {
            "gridcolor": "white",
            "linecolor": "white",
            "ticks": ""
           }
          },
          "title": {
           "x": 0.05
          },
          "xaxis": {
           "automargin": true,
           "gridcolor": "white",
           "linecolor": "white",
           "ticks": "",
           "title": {
            "standoff": 15
           },
           "zerolinecolor": "white",
           "zerolinewidth": 2
          },
          "yaxis": {
           "automargin": true,
           "gridcolor": "white",
           "linecolor": "white",
           "ticks": "",
           "title": {
            "standoff": 15
           },
           "zerolinecolor": "white",
           "zerolinewidth": 2
          }
         }
        },
        "title": {
         "text": "CO2 Emissions by State Based on Subregion 2024"
        }
       }
      }
     },
     "metadata": {},
     "output_type": "display_data"
    }
   ],
   "source": [
    "# Create a choropleth map using state abbreviations for 2024 data\n",
    "fig = px.choropleth(\n",
    "    state_emissions_df_2024,\n",
    "    locations=\"State\",  # State abbreviations\n",
    "    locationmode=\"USA-states\",  # Match state abbreviations\n",
    "    color=\"CO2 Factor\",\n",
    "    scope=\"usa\",\n",
    "    color_continuous_scale=\"Agsunset_r\",\n",
    "    title=\"CO2 Emissions by State Based on Subregion 2024\"\n",
    ")\n",
    "\n",
    "# Update layout\n",
    "fig.update_layout(margin={\"r\": 0, \"t\": 30, \"l\": 0, \"b\": 0})\n",
    "\n",
    "# Display the map\n",
    "fig.show()"
   ]
  },
  {
   "cell_type": "markdown",
   "metadata": {},
   "source": [
    "Findings in this part are validated using survey reports mentioned in the report. They are found consistent with our analysis"
   ]
  },
  {
   "cell_type": "markdown",
   "metadata": {},
   "source": [
    "## Part-2 : Heatmap of Emissions by Industry and Gas Type"
   ]
  },
  {
   "cell_type": "markdown",
   "metadata": {},
   "source": [
    "- This heatmap shows us how different industries are correlated with emission factors accross different gases. We can clearly make out that the 'Air transportation' industry has very huge value of 0.872 as compared to the other industry vs gas relations.\n",
    "- Knowledge gained - Air Transport contributes a lot to CO2 emissions. This can be further looked upon"
   ]
  },
  {
   "cell_type": "markdown",
   "metadata": {},
   "source": [
    "![Heat Map](heat_map.png)"
   ]
  },
  {
   "cell_type": "markdown",
   "metadata": {},
   "source": [
    "In iteration-2 for this workflow, we use the SubFlow-2 to add additional dataset and create new plots to analyse further\n",
    "\n",
    "- The dataset is one of the tables in the 3 datasets which are additional to the originally used ones and it provides detailed information on CH4 (methane) and N2O (nitrous oxide) emission factors for various vehicle types and years, specifically for mobile combustion sources. Below is a detailed description of the dataset:\n",
    "\n",
    "- Vehicle Type: Describes the type of vehicle or equipment (e.g., LPG Non-Highway Vehicles, Diesel Ships and Boats, Jet Fuel Aircraft).\n",
    "- CH4 Factor (g/gallon): Indicates the methane emission factor, measured in grams per gallon of fuel consumed.\n",
    "- N2O Factor (g/gallon): Indicates the nitrous oxide emission factor, measured in grams per gallon of fuel consumed.\n",
    "- Year: Specifies the year (2011 or 2014) for which the emission factors were measured.\n",
    "\\end{itemize}\n"
   ]
  },
  {
   "cell_type": "markdown",
   "metadata": {},
   "source": [
    "- We start by cleaning this dataset and changing the column names into better format for use.\n",
    "- We also perform a feature engineering to create a new column with average of emission values of CH4 and N2O."
   ]
  },
  {
   "cell_type": "code",
   "execution_count": 7,
   "metadata": {},
   "outputs": [],
   "source": [
    "import pandas as pd\n",
    "import seaborn as sns\n",
    "import matplotlib.pyplot as plt\n",
    "import plotly.io as pio\n",
    "import plotly.express as px\n",
    "\n",
    "# Assuming the Excel file has been loaded into a dataframe called 'data'\n",
    "file_path = 'Data/EF-2014.xlsx'  # Replace with the correct path if needed\n",
    "data = pd.read_excel(file_path, sheet_name='non-road')\n",
    "\n",
    "# Rename columns for clarity\n",
    "data.rename(columns={\n",
    "    'N2O Factor \\n(g / gallon) ': 'N2O_factor',\n",
    "    'CH4 Factor \\n(g / gallon) ': 'CH4_factor'\n",
    "}, inplace=True)\n",
    "\n",
    "# Calculate the average CH₄ and N₂O factors by vehicle type across years\n",
    "averaged_data = data.groupby('Vehicle Type', as_index=False)[['CH4_factor', 'N2O_factor']].mean()\n",
    "\n",
    "\n"
   ]
  },
  {
   "cell_type": "markdown",
   "metadata": {},
   "source": [
    "Creating the Scatter Plot Matrix (SPLOM) using this clean dataset"
   ]
  },
  {
   "cell_type": "code",
   "execution_count": 8,
   "metadata": {},
   "outputs": [
    {
     "data": {
      "image/png": "[encoded data removed]",
      "text/plain": [
       "<Figure size 500x500 with 6 Axes>"
      ]
     },
     "metadata": {},
     "output_type": "display_data"
    }
   ],
   "source": [
    "# Create a scatterplot matrix with Seaborn\n",
    "pairplot = sns.pairplot(\n",
    "    averaged_data,\n",
    "    diag_kind=\"kde\",  # KDE plots on diagonal\n",
    "    plot_kws={'alpha': 0.7},  # Transparency for scatter plots\n",
    "    diag_kws={'fill': True, 'alpha': 0.5},  # KDE plot settings\n",
    "    corner=False\n",
    ")\n",
    "\n",
    "# Add plot titles and adjust layout\n",
    "pairplot.figure.suptitle(\"Scatter Plot Matrix with KDE Diagonals\", y=1.02, fontsize=16)\n",
    "pairplot.figure.subplots_adjust(top=0.95)\n",
    "\n",
    "# Save the figure as an image to be displayed\n",
    "pairplot.figure.savefig(\"scatter_kde_matrix.png\", bbox_inches='tight')\n",
    "\n",
    "# Optionally display the Seaborn pairplot\n",
    "plt.show()"
   ]
  },
  {
   "cell_type": "markdown",
   "metadata": {},
   "source": [
    "- From this SPLOM we can infer that there is an outlier value lying in the given data.\n",
    "- This outlier belongs to the Aviation Industry emission\n",
    "- We can further analyse the temporal trend in the emissions from this industry by plotting a Parallel Coordinates Plot in the next iteration"
   ]
  },
  {
   "cell_type": "markdown",
   "metadata": {},
   "source": [
    "We now create a PCP using the same data with axes being the average of CH4 and N2O emission values for each vehicle type (non-road) of the years 2011,2014,2015"
   ]
  },
  {
   "cell_type": "markdown",
   "metadata": {},
   "source": [
    "- We again clean this daa to change column name format\n",
    "- additionally, we create a new Feature of Average emissions"
   ]
  },
  {
   "cell_type": "code",
   "execution_count": 9,
   "metadata": {},
   "outputs": [],
   "source": [
    "import pandas as pd\n",
    "import plotly.express as px\n",
    "\n",
    "# Load the Excel file\n",
    "file_path = 'Data/EF-2014.xlsx'  # Replace with the correct path if needed\n",
    "data = pd.read_excel(file_path, sheet_name='non-road')\n",
    "\n",
    "# Rename columns for clarity\n",
    "data.rename(columns={\n",
    "    'N2O Factor \\n(g / gallon) ': 'N2O_factor',\n",
    "    'CH4 Factor \\n(g / gallon) ': 'CH4_factor',\n",
    "    'Year': 'Year'\n",
    "}, inplace=True)\n",
    "\n",
    "# Filter data for the relevant years\n",
    "filtered_data = data[data['Year'].isin([2011, 2014, 2015])]\n",
    "\n",
    "# Calculate the average of CH4 and N2O factors for each Vehicle Type and Year\n",
    "filtered_data['Avg_CH4_N2O'] = filtered_data[['CH4_factor', 'N2O_factor']].mean(axis=1)\n",
    "\n",
    "# Pivot the data to create columns for each year\n",
    "pivoted_data = filtered_data.pivot(index='Vehicle Type', columns='Year', values='Avg_CH4_N2O').reset_index()\n",
    "\n",
    "# Rename columns for clarity\n",
    "pivoted_data.columns.name = None\n",
    "pivoted_data.rename(columns={2011: 'Avg_2011', 2014: 'Avg_2014', 2015: 'Avg_2015'}, inplace=True)\n"
   ]
  },
  {
   "cell_type": "markdown",
   "metadata": {},
   "source": [
    "Creating the PCP:"
   ]
  },
  {
   "cell_type": "code",
   "execution_count": 10,
   "metadata": {},
   "outputs": [
    {
     "data": {
      "application/vnd.plotly.v1+json": {
       "config": {
        "plotlyServerURL": "https://plot.ly"
       },
       "data": [
        {
         "dimensions": [
          {
           "label": "Avg CH₄ + N₂O (2011)",
           "values": [
            3.575,
            null,
            0.42,
            0.85,
            0.42,
            0.53,
            0.5,
            0.74,
            0.36,
            0.43,
            0.29000000000000004,
            0.36,
            null,
            null,
            0.42,
            null,
            0.36,
            null,
            0.58
           ]
          },
          {
           "label": "Avg CH₄ + N₂O (2014)",
           "values": [
            3.585,
            null,
            0.415,
            0.85,
            0.415,
            0.53,
            0.255,
            0.74,
            0.36,
            0.43,
            0.15,
            0.36,
            null,
            null,
            0.415,
            null,
            0.36,
            null,
            0.33999999999999997
           ]
          },
          {
           "label": "Avg CH₄ + N₂O (2015)",
           "values": [
            3.585,
            0.415,
            null,
            0.85,
            0.415,
            0.53,
            0.255,
            0.74,
            0.36,
            0.43,
            0.15,
            null,
            0.36,
            0.415,
            null,
            0.36,
            null,
            0.33999999999999997,
            null
           ]
          }
         ],
         "domain": {
          "x": [
           0,
           1
          ],
          "y": [
           0,
           1
          ]
         },
         "line": {
          "color": [
           3.575,
           null,
           0.42,
           0.85,
           0.42,
           0.53,
           0.5,
           0.74,
           0.36,
           0.43,
           0.29000000000000004,
           0.36,
           null,
           null,
           0.42,
           null,
           0.36,
           null,
           0.58
          ],
          "coloraxis": "coloraxis"
         },
         "name": "",
         "type": "parcoords"
        }
       ],
       "layout": {
        "coloraxis": {
         "colorbar": {
          "title": {
           "text": "Avg CH₄ + N₂O (2011)"
          }
         },
         "colorscale": [
          [
           0,
           "#440154"
          ],
          [
           0.1111111111111111,
           "#482878"
          ],
          [
           0.2222222222222222,
           "#3e4989"
          ],
          [
           0.3333333333333333,
           "#31688e"
          ],
          [
           0.4444444444444444,
           "#26828e"
          ],
          [
           0.5555555555555556,
           "#1f9e89"
          ],
          [
           0.6666666666666666,
           "#35b779"
          ],
          [
           0.7777777777777778,
           "#6ece58"
          ],
          [
           0.8888888888888888,
           "#b5de2b"
          ],
          [
           1,
           "#fde725"
          ]
         ]
        },
        "legend": {
         "tracegroupgap": 0
        },
        "margin": {
         "b": 25,
         "l": 75,
         "r": 25,
         "t": 50
        },
        "template": {
         "data": {
          "bar": [
           {
            "error_x": {
             "color": "#2a3f5f"
            },
            "error_y": {
             "color": "#2a3f5f"
            },
            "marker": {
             "line": {
              "color": "#E5ECF6",
              "width": 0.5
             },
             "pattern": {
              "fillmode": "overlay",
              "size": 10,
              "solidity": 0.2
             }
            },
            "type": "bar"
           }
          ],
          "barpolar": [
           {
            "marker": {
             "line": {
              "color": "#E5ECF6",
              "width": 0.5
             },
             "pattern": {
              "fillmode": "overlay",
              "size": 10,
              "solidity": 0.2
             }
            },
            "type": "barpolar"
           }
          ],
          "carpet": [
           {
            "aaxis": {
             "endlinecolor": "#2a3f5f",
             "gridcolor": "white",
             "linecolor": "white",
             "minorgridcolor": "white",
             "startlinecolor": "#2a3f5f"
            },
            "baxis": {
             "endlinecolor": "#2a3f5f",
             "gridcolor": "white",
             "linecolor": "white",
             "minorgridcolor": "white",
             "startlinecolor": "#2a3f5f"
            },
            "type": "carpet"
           }
          ],
          "choropleth": [
           {
            "colorbar": {
             "outlinewidth": 0,
             "ticks": ""
            },
            "type": "choropleth"
           }
          ],
          "contour": [
           {
            "colorbar": {
             "outlinewidth": 0,
             "ticks": ""
            },
            "colorscale": [
             [
              0,
              "#0d0887"
             ],
             [
              0.1111111111111111,
              "#46039f"
             ],
             [
              0.2222222222222222,
              "#7201a8"
             ],
             [
              0.3333333333333333,
              "#9c179e"
             ],
             [
              0.4444444444444444,
              "#bd3786"
             ],
             [
              0.5555555555555556,
              "#d8576b"
             ],
             [
              0.6666666666666666,
              "#ed7953"
             ],
             [
              0.7777777777777778,
              "#fb9f3a"
             ],
             [
              0.8888888888888888,
              "#fdca26"
             ],
             [
              1,
              "#f0f921"
             ]
            ],
            "type": "contour"
           }
          ],
          "contourcarpet": [
           {
            "colorbar": {
             "outlinewidth": 0,
             "ticks": ""
            },
            "type": "contourcarpet"
           }
          ],
          "heatmap": [
           {
            "colorbar": {
             "outlinewidth": 0,
             "ticks": ""
            },
            "colorscale": [
             [
              0,
              "#0d0887"
             ],
             [
              0.1111111111111111,
              "#46039f"
             ],
             [
              0.2222222222222222,
              "#7201a8"
             ],
             [
              0.3333333333333333,
              "#9c179e"
             ],
             [
              0.4444444444444444,
              "#bd3786"
             ],
             [
              0.5555555555555556,
              "#d8576b"
             ],
             [
              0.6666666666666666,
              "#ed7953"
             ],
             [
              0.7777777777777778,
              "#fb9f3a"
             ],
             [
              0.8888888888888888,
              "#fdca26"
             ],
             [
              1,
              "#f0f921"
             ]
            ],
            "type": "heatmap"
           }
          ],
          "heatmapgl": [
           {
            "colorbar": {
             "outlinewidth": 0,
             "ticks": ""
            },
            "colorscale": [
             [
              0,
              "#0d0887"
             ],
             [
              0.1111111111111111,
              "#46039f"
             ],
             [
              0.2222222222222222,
              "#7201a8"
             ],
             [
              0.3333333333333333,
              "#9c179e"
             ],
             [
              0.4444444444444444,
              "#bd3786"
             ],
             [
              0.5555555555555556,
              "#d8576b"
             ],
             [
              0.6666666666666666,
              "#ed7953"
             ],
             [
              0.7777777777777778,
              "#fb9f3a"
             ],
             [
              0.8888888888888888,
              "#fdca26"
             ],
             [
              1,
              "#f0f921"
             ]
            ],
            "type": "heatmapgl"
           }
          ],
          "histogram": [
           {
            "marker": {
             "pattern": {
              "fillmode": "overlay",
              "size": 10,
              "solidity": 0.2
             }
            },
            "type": "histogram"
           }
          ],
          "histogram2d": [
           {
            "colorbar": {
             "outlinewidth": 0,
             "ticks": ""
            },
            "colorscale": [
             [
              0,
              "#0d0887"
             ],
             [
              0.1111111111111111,
              "#46039f"
             ],
             [
              0.2222222222222222,
              "#7201a8"
             ],
             [
              0.3333333333333333,
              "#9c179e"
             ],
             [
              0.4444444444444444,
              "#bd3786"
             ],
             [
              0.5555555555555556,
              "#d8576b"
             ],
             [
              0.6666666666666666,
              "#ed7953"
             ],
             [
              0.7777777777777778,
              "#fb9f3a"
             ],
             [
              0.8888888888888888,
              "#fdca26"
             ],
             [
              1,
              "#f0f921"
             ]
            ],
            "type": "histogram2d"
           }
          ],
          "histogram2dcontour": [
           {
            "colorbar": {
             "outlinewidth": 0,
             "ticks": ""
            },
            "colorscale": [
             [
              0,
              "#0d0887"
             ],
             [
              0.1111111111111111,
              "#46039f"
             ],
             [
              0.2222222222222222,
              "#7201a8"
             ],
             [
              0.3333333333333333,
              "#9c179e"
             ],
             [
              0.4444444444444444,
              "#bd3786"
             ],
             [
              0.5555555555555556,
              "#d8576b"
             ],
             [
              0.6666666666666666,
              "#ed7953"
             ],
             [
              0.7777777777777778,
              "#fb9f3a"
             ],
             [
              0.8888888888888888,
              "#fdca26"
             ],
             [
              1,
              "#f0f921"
             ]
            ],
            "type": "histogram2dcontour"
           }
          ],
          "mesh3d": [
           {
            "colorbar": {
             "outlinewidth": 0,
             "ticks": ""
            },
            "type": "mesh3d"
           }
          ],
          "parcoords": [
           {
            "line": {
             "colorbar": {
              "outlinewidth": 0,
              "ticks": ""
             }
            },
            "type": "parcoords"
           }
          ],
          "pie": [
           {
            "automargin": true,
            "type": "pie"
           }
          ],
          "scatter": [
           {
            "fillpattern": {
             "fillmode": "overlay",
             "size": 10,
             "solidity": 0.2
            },
            "type": "scatter"
           }
          ],
          "scatter3d": [
           {
            "line": {
             "colorbar": {
              "outlinewidth": 0,
              "ticks": ""
             }
            },
            "marker": {
             "colorbar": {
              "outlinewidth": 0,
              "ticks": ""
             }
            },
            "type": "scatter3d"
           }
          ],
          "scattercarpet": [
           {
            "marker": {
             "colorbar": {
              "outlinewidth": 0,
              "ticks": ""
             }
            },
            "type": "scattercarpet"
           }
          ],
          "scattergeo": [
           {
            "marker": {
             "colorbar": {
              "outlinewidth": 0,
              "ticks": ""
             }
            },
            "type": "scattergeo"
           }
          ],
          "scattergl": [
           {
            "marker": {
             "colorbar": {
              "outlinewidth": 0,
              "ticks": ""
             }
            },
            "type": "scattergl"
           }
          ],
          "scattermapbox": [
           {
            "marker": {
             "colorbar": {
              "outlinewidth": 0,
              "ticks": ""
             }
            },
            "type": "scattermapbox"
           }
          ],
          "scatterpolar": [
           {
            "marker": {
             "colorbar": {
              "outlinewidth": 0,
              "ticks": ""
             }
            },
            "type": "scatterpolar"
           }
          ],
          "scatterpolargl": [
           {
            "marker": {
             "colorbar": {
              "outlinewidth": 0,
              "ticks": ""
             }
            },
            "type": "scatterpolargl"
           }
          ],
          "scatterternary": [
           {
            "marker": {
             "colorbar": {
              "outlinewidth": 0,
              "ticks": ""
             }
            },
            "type": "scatterternary"
           }
          ],
          "surface": [
           {
            "colorbar": {
             "outlinewidth": 0,
             "ticks": ""
            },
            "colorscale": [
             [
              0,
              "#0d0887"
             ],
             [
              0.1111111111111111,
              "#46039f"
             ],
             [
              0.2222222222222222,
              "#7201a8"
             ],
             [
              0.3333333333333333,
              "#9c179e"
             ],
             [
              0.4444444444444444,
              "#bd3786"
             ],
             [
              0.5555555555555556,
              "#d8576b"
             ],
             [
              0.6666666666666666,
              "#ed7953"
             ],
             [
              0.7777777777777778,
              "#fb9f3a"
             ],
             [
              0.8888888888888888,
              "#fdca26"
             ],
             [
              1,
              "#f0f921"
             ]
            ],
            "type": "surface"
           }
          ],
          "table": [
           {
            "cells": {
             "fill": {
              "color": "#EBF0F8"
             },
             "line": {
              "color": "white"
             }
            },
            "header": {
             "fill": {
              "color": "#C8D4E3"
             },
             "line": {
              "color": "white"
             }
            },
            "type": "table"
           }
          ]
         },
         "layout": {
          "annotationdefaults": {
           "arrowcolor": "#2a3f5f",
           "arrowhead": 0,
           "arrowwidth": 1
          },
          "autotypenumbers": "strict",
          "coloraxis": {
           "colorbar": {
            "outlinewidth": 0,
            "ticks": ""
           }
          },
          "colorscale": {
           "diverging": [
            [
             0,
             "#8e0152"
            ],
            [
             0.1,
             "#c51b7d"
            ],
            [
             0.2,
             "#de77ae"
            ],
            [
             0.3,
             "#f1b6da"
            ],
            [
             0.4,
             "#fde0ef"
            ],
            [
             0.5,
             "#f7f7f7"
            ],
            [
             0.6,
             "#e6f5d0"
            ],
            [
             0.7,
             "#b8e186"
            ],
            [
             0.8,
             "#7fbc41"
            ],
            [
             0.9,
             "#4d9221"
            ],
            [
             1,
             "#276419"
            ]
           ],
           "sequential": [
            [
             0,
             "#0d0887"
            ],
            [
             0.1111111111111111,
             "#46039f"
            ],
            [
             0.2222222222222222,
             "#7201a8"
            ],
            [
             0.3333333333333333,
             "#9c179e"
            ],
            [
             0.4444444444444444,
             "#bd3786"
            ],
            [
             0.5555555555555556,
             "#d8576b"
            ],
            [
             0.6666666666666666,
             "#ed7953"
            ],
            [
             0.7777777777777778,
             "#fb9f3a"
            ],
            [
             0.8888888888888888,
             "#fdca26"
            ],
            [
             1,
             "#f0f921"
            ]
           ],
           "sequentialminus": [
            [
             0,
             "#0d0887"
            ],
            [
             0.1111111111111111,
             "#46039f"
            ],
            [
             0.2222222222222222,
             "#7201a8"
            ],
            [
             0.3333333333333333,
             "#9c179e"
            ],
            [
             0.4444444444444444,
             "#bd3786"
            ],
            [
             0.5555555555555556,
             "#d8576b"
            ],
            [
             0.6666666666666666,
             "#ed7953"
            ],
            [
             0.7777777777777778,
             "#fb9f3a"
            ],
            [
             0.8888888888888888,
             "#fdca26"
            ],
            [
             1,
             "#f0f921"
            ]
           ]
          },
          "colorway": [
           "#636efa",
           "#EF553B",
           "#00cc96",
           "#ab63fa",
           "#FFA15A",
           "#19d3f3",
           "#FF6692",
           "#B6E880",
           "#FF97FF",
           "#FECB52"
          ],
          "font": {
           "color": "#2a3f5f"
          },
          "geo": {
           "bgcolor": "white",
           "lakecolor": "white",
           "landcolor": "#E5ECF6",
           "showlakes": true,
           "showland": true,
           "subunitcolor": "white"
          },
          "hoverlabel": {
           "align": "left"
          },
          "hovermode": "closest",
          "mapbox": {
           "style": "light"
          },
          "paper_bgcolor": "white",
          "plot_bgcolor": "#E5ECF6",
          "polar": {
           "angularaxis": {
            "gridcolor": "white",
            "linecolor": "white",
            "ticks": ""
           },
           "bgcolor": "#E5ECF6",
           "radialaxis": {
            "gridcolor": "white",
            "linecolor": "white",
            "ticks": ""
           }
          },
          "scene": {
           "xaxis": {
            "backgroundcolor": "#E5ECF6",
            "gridcolor": "white",
            "gridwidth": 2,
            "linecolor": "white",
            "showbackground": true,
            "ticks": "",
            "zerolinecolor": "white"
           },
           "yaxis": {
            "backgroundcolor": "#E5ECF6",
            "gridcolor": "white",
            "gridwidth": 2,
            "linecolor": "white",
            "showbackground": true,
            "ticks": "",
            "zerolinecolor": "white"
           },
           "zaxis": {
            "backgroundcolor": "#E5ECF6",
            "gridcolor": "white",
            "gridwidth": 2,
            "linecolor": "white",
            "showbackground": true,
            "ticks": "",
            "zerolinecolor": "white"
           }
          },
          "shapedefaults": {
           "line": {
            "color": "#2a3f5f"
           }
          },
          "ternary": {
           "aaxis": {
            "gridcolor": "white",
            "linecolor": "white",
            "ticks": ""
           },
           "baxis": {
            "gridcolor": "white",
            "linecolor": "white",
            "ticks": ""
           },
           "bgcolor": "#E5ECF6",
           "caxis": {
            "gridcolor": "white",
            "linecolor": "white",
            "ticks": ""
           }
          },
          "title": {
           "x": 0.05
          },
          "xaxis": {
           "automargin": true,
           "gridcolor": "white",
           "linecolor": "white",
           "ticks": "",
           "title": {
            "standoff": 15
           },
           "zerolinecolor": "white",
           "zerolinewidth": 2
          },
          "yaxis": {
           "automargin": true,
           "gridcolor": "white",
           "linecolor": "white",
           "ticks": "",
           "title": {
            "standoff": 15
           },
           "zerolinecolor": "white",
           "zerolinewidth": 2
          }
         }
        },
        "title": {
         "font": {
          "size": 16
         }
        },
        "width": 800
       }
      }
     },
     "metadata": {},
     "output_type": "display_data"
    }
   ],
   "source": [
    "\n",
    "# Create a Parallel Coordinates Plot\n",
    "fig = px.parallel_coordinates(\n",
    "    pivoted_data,\n",
    "    dimensions=['Avg_2011', 'Avg_2014', 'Avg_2015'],  # Average of CH4 and N2O for each year\n",
    "    color='Avg_2011',  # Color based on the average of CH4 and N2O in 2011\n",
    "    color_continuous_scale='Viridis',\n",
    "    labels={\n",
    "        'Avg_2011': 'Avg CH₄ + N₂O (2011)',\n",
    "        'Avg_2014': 'Avg CH₄ + N₂O (2014)',\n",
    "        'Avg_2015': 'Avg CH₄ + N₂O (2015)'\n",
    "    }\n",
    ")\n",
    "\n",
    "# Update layout for aesthetics\n",
    "fig.update_layout(\n",
    "    margin=dict(t=50, l=75, r=25, b=25),\n",
    "    title_font_size=16,\n",
    "    width=800\n",
    ")\n",
    "\n",
    "# Display the PCP\n",
    "fig.show()\n"
   ]
  },
  {
   "cell_type": "markdown",
   "metadata": {},
   "source": [
    "- From this plot, we can infer that the outlier value is very far away from the other values and that it contributes very heavily to both CH4 and N2O emissions.\\n\n",
    "- Another thing to note is that this plot is not quite interpretable because the outlier value has cramped all the other values to the lower bound and we can't discretely discern theem or their trends."
   ]
  },
  {
   "cell_type": "markdown",
   "metadata": {},
   "source": [
    "Thus, we create a PCP using the same data, but this time we feature engineer such that we get the log(avg(CH4 emissions & N2O emissions)) as a column"
   ]
  },
  {
   "cell_type": "code",
   "execution_count": 11,
   "metadata": {},
   "outputs": [],
   "source": [
    "import pandas as pd\n",
    "import plotly.express as px\n",
    "import numpy as np\n",
    "\n",
    "# Load the Excel file\n",
    "file_path = 'Data/EF-2014.xlsx'  # Replace with the correct path if needed\n",
    "data = pd.read_excel(file_path, sheet_name='non-road')\n",
    "\n",
    "# Rename columns for clarity\n",
    "data.rename(columns={\n",
    "    'N2O Factor \\n(g / gallon) ': 'N2O_factor',\n",
    "    'CH4 Factor \\n(g / gallon) ': 'CH4_factor',\n",
    "    'Year': 'Year'\n",
    "}, inplace=True)\n",
    "\n",
    "# Filter data for the relevant years\n",
    "filtered_data = data[data['Year'].isin([2011, 2014, 2015])]\n",
    "\n",
    "# Calculate the average of CH4 and N2O factors for each Vehicle Type and Year\n",
    "filtered_data['Avg_CH4_N2O'] = filtered_data[['CH4_factor', 'N2O_factor']].mean(axis=1)\n",
    "\n",
    "# Apply log transformation to avoid issues with very small values or zeros\n",
    "filtered_data['Log_Avg_CH4_N2O'] = np.log(filtered_data['Avg_CH4_N2O'].replace(0, np.nan))\n",
    "\n",
    "# Pivot the data to create columns for each year\n",
    "pivoted_data = filtered_data.pivot(index='Vehicle Type', columns='Year', values='Log_Avg_CH4_N2O').reset_index()\n",
    "\n",
    "# Rename columns for clarity\n",
    "pivoted_data.columns.name = None\n",
    "pivoted_data.rename(columns={2011: 'Log_Avg_2011', 2014: 'Log_Avg_2014', 2015: 'Log_Avg_2015'}, inplace=True)\n"
   ]
  },
  {
   "cell_type": "code",
   "execution_count": 12,
   "metadata": {},
   "outputs": [
    {
     "data": {
      "application/vnd.plotly.v1+json": {
       "config": {
        "plotlyServerURL": "https://plot.ly"
       },
       "data": [
        {
         "dimensions": [
          {
           "label": "Log(Avg CH₄ + N₂O) (2011)",
           "values": [
            1.273965176145971,
            null,
            -0.8675005677047231,
            -0.16251892949777494,
            -0.8675005677047231,
            -0.6348782724359695,
            -0.6931471805599453,
            -0.3011050927839216,
            -1.0216512475319814,
            -0.843970070294529,
            -1.2378743560016172,
            -1.0216512475319814,
            null,
            null,
            -0.8675005677047231,
            null,
            -1.0216512475319814,
            null,
            -0.5447271754416722
           ]
          },
          {
           "label": "Log(Avg CH₄ + N₂O) (2014)",
           "values": [
            1.2767584740515836,
            null,
            -0.8794767587514388,
            -0.16251892949777494,
            -0.8794767587514388,
            -0.6348782724359695,
            -1.3664917338237108,
            -0.3011050927839216,
            -1.0216512475319814,
            -0.843970070294529,
            -1.8971199848858813,
            -1.0216512475319814,
            null,
            null,
            -0.8794767587514388,
            null,
            -1.0216512475319814,
            null,
            -1.07880966137193
           ]
          },
          {
           "label": "Log(Avg CH₄ + N₂O) (2015)",
           "values": [
            1.2767584740515836,
            -0.8794767587514388,
            null,
            -0.16251892949777494,
            -0.8794767587514388,
            -0.6348782724359695,
            -1.3664917338237108,
            -0.3011050927839216,
            -1.0216512475319814,
            -0.843970070294529,
            -1.8971199848858813,
            null,
            -1.0216512475319814,
            -0.8794767587514388,
            null,
            -1.0216512475319814,
            null,
            -1.07880966137193,
            null
           ]
          }
         ],
         "domain": {
          "x": [
           0,
           1
          ],
          "y": [
           0,
           1
          ]
         },
         "line": {
          "color": [
           1.273965176145971,
           null,
           -0.8675005677047231,
           -0.16251892949777494,
           -0.8675005677047231,
           -0.6348782724359695,
           -0.6931471805599453,
           -0.3011050927839216,
           -1.0216512475319814,
           -0.843970070294529,
           -1.2378743560016172,
           -1.0216512475319814,
           null,
           null,
           -0.8675005677047231,
           null,
           -1.0216512475319814,
           null,
           -0.5447271754416722
          ],
          "coloraxis": "coloraxis"
         },
         "name": "",
         "type": "parcoords"
        }
       ],
       "layout": {
        "coloraxis": {
         "colorbar": {
          "title": {
           "text": "Log(Avg CH₄ + N₂O) (2011)"
          }
         },
         "colorscale": [
          [
           0,
           "#440154"
          ],
          [
           0.1111111111111111,
           "#482878"
          ],
          [
           0.2222222222222222,
           "#3e4989"
          ],
          [
           0.3333333333333333,
           "#31688e"
          ],
          [
           0.4444444444444444,
           "#26828e"
          ],
          [
           0.5555555555555556,
           "#1f9e89"
          ],
          [
           0.6666666666666666,
           "#35b779"
          ],
          [
           0.7777777777777778,
           "#6ece58"
          ],
          [
           0.8888888888888888,
           "#b5de2b"
          ],
          [
           1,
           "#fde725"
          ]
         ]
        },
        "legend": {
         "tracegroupgap": 0
        },
        "margin": {
         "b": 25,
         "l": 75,
         "r": 25,
         "t": 50
        },
        "template": {
         "data": {
          "bar": [
           {
            "error_x": {
             "color": "#2a3f5f"
            },
            "error_y": {
             "color": "#2a3f5f"
            },
            "marker": {
             "line": {
              "color": "#E5ECF6",
              "width": 0.5
             },
             "pattern": {
              "fillmode": "overlay",
              "size": 10,
              "solidity": 0.2
             }
            },
            "type": "bar"
           }
          ],
          "barpolar": [
           {
            "marker": {
             "line": {
              "color": "#E5ECF6",
              "width": 0.5
             },
             "pattern": {
              "fillmode": "overlay",
              "size": 10,
              "solidity": 0.2
             }
            },
            "type": "barpolar"
           }
          ],
          "carpet": [
           {
            "aaxis": {
             "endlinecolor": "#2a3f5f",
             "gridcolor": "white",
             "linecolor": "white",
             "minorgridcolor": "white",
             "startlinecolor": "#2a3f5f"
            },
            "baxis": {
             "endlinecolor": "#2a3f5f",
             "gridcolor": "white",
             "linecolor": "white",
             "minorgridcolor": "white",
             "startlinecolor": "#2a3f5f"
            },
            "type": "carpet"
           }
          ],
          "choropleth": [
           {
            "colorbar": {
             "outlinewidth": 0,
             "ticks": ""
            },
            "type": "choropleth"
           }
          ],
          "contour": [
           {
            "colorbar": {
             "outlinewidth": 0,
             "ticks": ""
            },
            "colorscale": [
             [
              0,
              "#0d0887"
             ],
             [
              0.1111111111111111,
              "#46039f"
             ],
             [
              0.2222222222222222,
              "#7201a8"
             ],
             [
              0.3333333333333333,
              "#9c179e"
             ],
             [
              0.4444444444444444,
              "#bd3786"
             ],
             [
              0.5555555555555556,
              "#d8576b"
             ],
             [
              0.6666666666666666,
              "#ed7953"
             ],
             [
              0.7777777777777778,
              "#fb9f3a"
             ],
             [
              0.8888888888888888,
              "#fdca26"
             ],
             [
              1,
              "#f0f921"
             ]
            ],
            "type": "contour"
           }
          ],
          "contourcarpet": [
           {
            "colorbar": {
             "outlinewidth": 0,
             "ticks": ""
            },
            "type": "contourcarpet"
           }
          ],
          "heatmap": [
           {
            "colorbar": {
             "outlinewidth": 0,
             "ticks": ""
            },
            "colorscale": [
             [
              0,
              "#0d0887"
             ],
             [
              0.1111111111111111,
              "#46039f"
             ],
             [
              0.2222222222222222,
              "#7201a8"
             ],
             [
              0.3333333333333333,
              "#9c179e"
             ],
             [
              0.4444444444444444,
              "#bd3786"
             ],
             [
              0.5555555555555556,
              "#d8576b"
             ],
             [
              0.6666666666666666,
              "#ed7953"
             ],
             [
              0.7777777777777778,
              "#fb9f3a"
             ],
             [
              0.8888888888888888,
              "#fdca26"
             ],
             [
              1,
              "#f0f921"
             ]
            ],
            "type": "heatmap"
           }
          ],
          "heatmapgl": [
           {
            "colorbar": {
             "outlinewidth": 0,
             "ticks": ""
            },
            "colorscale": [
             [
              0,
              "#0d0887"
             ],
             [
              0.1111111111111111,
              "#46039f"
             ],
             [
              0.2222222222222222,
              "#7201a8"
             ],
             [
              0.3333333333333333,
              "#9c179e"
             ],
             [
              0.4444444444444444,
              "#bd3786"
             ],
             [
              0.5555555555555556,
              "#d8576b"
             ],
             [
              0.6666666666666666,
              "#ed7953"
             ],
             [
              0.7777777777777778,
              "#fb9f3a"
             ],
             [
              0.8888888888888888,
              "#fdca26"
             ],
             [
              1,
              "#f0f921"
             ]
            ],
            "type": "heatmapgl"
           }
          ],
          "histogram": [
           {
            "marker": {
             "pattern": {
              "fillmode": "overlay",
              "size": 10,
              "solidity": 0.2
             }
            },
            "type": "histogram"
           }
          ],
          "histogram2d": [
           {
            "colorbar": {
             "outlinewidth": 0,
             "ticks": ""
            },
            "colorscale": [
             [
              0,
              "#0d0887"
             ],
             [
              0.1111111111111111,
              "#46039f"
             ],
             [
              0.2222222222222222,
              "#7201a8"
             ],
             [
              0.3333333333333333,
              "#9c179e"
             ],
             [
              0.4444444444444444,
              "#bd3786"
             ],
             [
              0.5555555555555556,
              "#d8576b"
             ],
             [
              0.6666666666666666,
              "#ed7953"
             ],
             [
              0.7777777777777778,
              "#fb9f3a"
             ],
             [
              0.8888888888888888,
              "#fdca26"
             ],
             [
              1,
              "#f0f921"
             ]
            ],
            "type": "histogram2d"
           }
          ],
          "histogram2dcontour": [
           {
            "colorbar": {
             "outlinewidth": 0,
             "ticks": ""
            },
            "colorscale": [
             [
              0,
              "#0d0887"
             ],
             [
              0.1111111111111111,
              "#46039f"
             ],
             [
              0.2222222222222222,
              "#7201a8"
             ],
             [
              0.3333333333333333,
              "#9c179e"
             ],
             [
              0.4444444444444444,
              "#bd3786"
             ],
             [
              0.5555555555555556,
              "#d8576b"
             ],
             [
              0.6666666666666666,
              "#ed7953"
             ],
             [
              0.7777777777777778,
              "#fb9f3a"
             ],
             [
              0.8888888888888888,
              "#fdca26"
             ],
             [
              1,
              "#f0f921"
             ]
            ],
            "type": "histogram2dcontour"
           }
          ],
          "mesh3d": [
           {
            "colorbar": {
             "outlinewidth": 0,
             "ticks": ""
            },
            "type": "mesh3d"
           }
          ],
          "parcoords": [
           {
            "line": {
             "colorbar": {
              "outlinewidth": 0,
              "ticks": ""
             }
            },
            "type": "parcoords"
           }
          ],
          "pie": [
           {
            "automargin": true,
            "type": "pie"
           }
          ],
          "scatter": [
           {
            "fillpattern": {
             "fillmode": "overlay",
             "size": 10,
             "solidity": 0.2
            },
            "type": "scatter"
           }
          ],
          "scatter3d": [
           {
            "line": {
             "colorbar": {
              "outlinewidth": 0,
              "ticks": ""
             }
            },
            "marker": {
             "colorbar": {
              "outlinewidth": 0,
              "ticks": ""
             }
            },
            "type": "scatter3d"
           }
          ],
          "scattercarpet": [
           {
            "marker": {
             "colorbar": {
              "outlinewidth": 0,
              "ticks": ""
             }
            },
            "type": "scattercarpet"
           }
          ],
          "scattergeo": [
           {
            "marker": {
             "colorbar": {
              "outlinewidth": 0,
              "ticks": ""
             }
            },
            "type": "scattergeo"
           }
          ],
          "scattergl": [
           {
            "marker": {
             "colorbar": {
              "outlinewidth": 0,
              "ticks": ""
             }
            },
            "type": "scattergl"
           }
          ],
          "scattermapbox": [
           {
            "marker": {
             "colorbar": {
              "outlinewidth": 0,
              "ticks": ""
             }
            },
            "type": "scattermapbox"
           }
          ],
          "scatterpolar": [
           {
            "marker": {
             "colorbar": {
              "outlinewidth": 0,
              "ticks": ""
             }
            },
            "type": "scatterpolar"
           }
          ],
          "scatterpolargl": [
           {
            "marker": {
             "colorbar": {
              "outlinewidth": 0,
              "ticks": ""
             }
            },
            "type": "scatterpolargl"
           }
          ],
          "scatterternary": [
           {
            "marker": {
             "colorbar": {
              "outlinewidth": 0,
              "ticks": ""
             }
            },
            "type": "scatterternary"
           }
          ],
          "surface": [
           {
            "colorbar": {
             "outlinewidth": 0,
             "ticks": ""
            },
            "colorscale": [
             [
              0,
              "#0d0887"
             ],
             [
              0.1111111111111111,
              "#46039f"
             ],
             [
              0.2222222222222222,
              "#7201a8"
             ],
             [
              0.3333333333333333,
              "#9c179e"
             ],
             [
              0.4444444444444444,
              "#bd3786"
             ],
             [
              0.5555555555555556,
              "#d8576b"
             ],
             [
              0.6666666666666666,
              "#ed7953"
             ],
             [
              0.7777777777777778,
              "#fb9f3a"
             ],
             [
              0.8888888888888888,
              "#fdca26"
             ],
             [
              1,
              "#f0f921"
             ]
            ],
            "type": "surface"
           }
          ],
          "table": [
           {
            "cells": {
             "fill": {
              "color": "#EBF0F8"
             },
             "line": {
              "color": "white"
             }
            },
            "header": {
             "fill": {
              "color": "#C8D4E3"
             },
             "line": {
              "color": "white"
             }
            },
            "type": "table"
           }
          ]
         },
         "layout": {
          "annotationdefaults": {
           "arrowcolor": "#2a3f5f",
           "arrowhead": 0,
           "arrowwidth": 1
          },
          "autotypenumbers": "strict",
          "coloraxis": {
           "colorbar": {
            "outlinewidth": 0,
            "ticks": ""
           }
          },
          "colorscale": {
           "diverging": [
            [
             0,
             "#8e0152"
            ],
            [
             0.1,
             "#c51b7d"
            ],
            [
             0.2,
             "#de77ae"
            ],
            [
             0.3,
             "#f1b6da"
            ],
            [
             0.4,
             "#fde0ef"
            ],
            [
             0.5,
             "#f7f7f7"
            ],
            [
             0.6,
             "#e6f5d0"
            ],
            [
             0.7,
             "#b8e186"
            ],
            [
             0.8,
             "#7fbc41"
            ],
            [
             0.9,
             "#4d9221"
            ],
            [
             1,
             "#276419"
            ]
           ],
           "sequential": [
            [
             0,
             "#0d0887"
            ],
            [
             0.1111111111111111,
             "#46039f"
            ],
            [
             0.2222222222222222,
             "#7201a8"
            ],
            [
             0.3333333333333333,
             "#9c179e"
            ],
            [
             0.4444444444444444,
             "#bd3786"
            ],
            [
             0.5555555555555556,
             "#d8576b"
            ],
            [
             0.6666666666666666,
             "#ed7953"
            ],
            [
             0.7777777777777778,
             "#fb9f3a"
            ],
            [
             0.8888888888888888,
             "#fdca26"
            ],
            [
             1,
             "#f0f921"
            ]
           ],
           "sequentialminus": [
            [
             0,
             "#0d0887"
            ],
            [
             0.1111111111111111,
             "#46039f"
            ],
            [
             0.2222222222222222,
             "#7201a8"
            ],
            [
             0.3333333333333333,
             "#9c179e"
            ],
            [
             0.4444444444444444,
             "#bd3786"
            ],
            [
             0.5555555555555556,
             "#d8576b"
            ],
            [
             0.6666666666666666,
             "#ed7953"
            ],
            [
             0.7777777777777778,
             "#fb9f3a"
            ],
            [
             0.8888888888888888,
             "#fdca26"
            ],
            [
             1,
             "#f0f921"
            ]
           ]
          },
          "colorway": [
           "#636efa",
           "#EF553B",
           "#00cc96",
           "#ab63fa",
           "#FFA15A",
           "#19d3f3",
           "#FF6692",
           "#B6E880",
           "#FF97FF",
           "#FECB52"
          ],
          "font": {
           "color": "#2a3f5f"
          },
          "geo": {
           "bgcolor": "white",
           "lakecolor": "white",
           "landcolor": "#E5ECF6",
           "showlakes": true,
           "showland": true,
           "subunitcolor": "white"
          },
          "hoverlabel": {
           "align": "left"
          },
          "hovermode": "closest",
          "mapbox": {
           "style": "light"
          },
          "paper_bgcolor": "white",
          "plot_bgcolor": "#E5ECF6",
          "polar": {
           "angularaxis": {
            "gridcolor": "white",
            "linecolor": "white",
            "ticks": ""
           },
           "bgcolor": "#E5ECF6",
           "radialaxis": {
            "gridcolor": "white",
            "linecolor": "white",
            "ticks": ""
           }
          },
          "scene": {
           "xaxis": {
            "backgroundcolor": "#E5ECF6",
            "gridcolor": "white",
            "gridwidth": 2,
            "linecolor": "white",
            "showbackground": true,
            "ticks": "",
            "zerolinecolor": "white"
           },
           "yaxis": {
            "backgroundcolor": "#E5ECF6",
            "gridcolor": "white",
            "gridwidth": 2,
            "linecolor": "white",
            "showbackground": true,
            "ticks": "",
            "zerolinecolor": "white"
           },
           "zaxis": {
            "backgroundcolor": "#E5ECF6",
            "gridcolor": "white",
            "gridwidth": 2,
            "linecolor": "white",
            "showbackground": true,
            "ticks": "",
            "zerolinecolor": "white"
           }
          },
          "shapedefaults": {
           "line": {
            "color": "#2a3f5f"
           }
          },
          "ternary": {
           "aaxis": {
            "gridcolor": "white",
            "linecolor": "white",
            "ticks": ""
           },
           "baxis": {
            "gridcolor": "white",
            "linecolor": "white",
            "ticks": ""
           },
           "bgcolor": "#E5ECF6",
           "caxis": {
            "gridcolor": "white",
            "linecolor": "white",
            "ticks": ""
           }
          },
          "title": {
           "x": 0.05
          },
          "xaxis": {
           "automargin": true,
           "gridcolor": "white",
           "linecolor": "white",
           "ticks": "",
           "title": {
            "standoff": 15
           },
           "zerolinecolor": "white",
           "zerolinewidth": 2
          },
          "yaxis": {
           "automargin": true,
           "gridcolor": "white",
           "linecolor": "white",
           "ticks": "",
           "title": {
            "standoff": 15
           },
           "zerolinecolor": "white",
           "zerolinewidth": 2
          }
         }
        },
        "title": {
         "font": {
          "size": 16
         }
        },
        "width": 800
       }
      }
     },
     "metadata": {},
     "output_type": "display_data"
    }
   ],
   "source": [
    "\n",
    "# Create a Parallel Coordinates Plot\n",
    "fig = px.parallel_coordinates(\n",
    "    pivoted_data,\n",
    "    dimensions=['Log_Avg_2011', 'Log_Avg_2014', 'Log_Avg_2015'],  # Log-transformed averages\n",
    "    color='Log_Avg_2011',  # Color based on log-transformed averages in 2011\n",
    "    color_continuous_scale='Viridis',\n",
    "    labels={\n",
    "        'Log_Avg_2011': 'Log(Avg CH₄ + N₂O) (2011)',\n",
    "        'Log_Avg_2014': 'Log(Avg CH₄ + N₂O) (2014)',\n",
    "        'Log_Avg_2015': 'Log(Avg CH₄ + N₂O) (2015)'\n",
    "    }\n",
    ")\n",
    "\n",
    "# # Update layout for aesthetics\n",
    "# fig.update_layout(\n",
    "#     margin=dict(t=50, l=25, r=25, b=25),\n",
    "#     title_font_size=16\n",
    "# )\n",
    "\n",
    "fig.update_layout(\n",
    "    margin=dict(t=50, l=75, r=25, b=25),\n",
    "    title_font_size=16,\n",
    "    width=800  # Reduce the overall plot width\n",
    ")\n",
    "\n",
    "\n",
    "# Display the PCP\n",
    "fig.show()\n"
   ]
  },
  {
   "cell_type": "markdown",
   "metadata": {},
   "source": [
    "We can easily infer from this plot the lower values as they are now evenly distributed. \n",
    "- While some industries have had an increasing and then a stable average emission values, there are a few industries which have reduced their emission from the year 2014 to 2015.\n",
    "- Aviation Industry still has the highest log average emission and is not at all decreasing which could be an area of concern"
   ]
  },
  {
   "cell_type": "markdown",
   "metadata": {},
   "source": [
    "With this, we come to a conclusive end to this set of iterations of our VA workflow. The findings in this part-2 can be verified using the article referenced in the report."
   ]
  },
  {
   "cell_type": "markdown",
   "metadata": {},
   "source": [
    "## Part-3 : Scatter Plot Matrix for CH4 and N2O Emissions and Clustering techniques"
   ]
  },
  {
   "cell_type": "markdown",
   "metadata": {},
   "source": [
    "We now come to the Commodity specific analysis, in which we will analyse the Vehicle emissions data and try to gain insights from them"
   ]
  },
  {
   "cell_type": "markdown",
   "metadata": {},
   "source": [
    "The additional dataset used for this is described below:\n",
    "\n",
    "- **Vehicle Type:** Specifies the category of the vehicle, such as Passenger Cars, Light-Duty Trucks (e.g., vans, pickup trucks, SUVs), Heavy-Duty Vehicles, and Motorcycles.\n",
    "- **CH₄ Factor (g CH₄ / vehicle-mile):** Represents the methane emission factor, measured in grams per vehicle-mile. This factor varies by vehicle type and operational characteristics.\n",
    "- **N₂O Factor (g N₂O / vehicle-mile):** Represents the nitrous oxide emission factor, measured in grams per vehicle-mile. Like methane, this factor is dependent on the vehicle type and other influencing factors.\n"
   ]
  },
  {
   "cell_type": "markdown",
   "metadata": {},
   "source": [
    "We clean this dataset as well, similar to before, to create easy-to-use column names"
   ]
  },
  {
   "cell_type": "code",
   "execution_count": 13,
   "metadata": {},
   "outputs": [],
   "source": [
    "\n",
    "# Load the dataset\n",
    "file_path = 'Data/EF-2014.xlsx'  # Replace with the correct path if needed\n",
    "df = pd.read_excel(file_path, sheet_name='Vehicle analysis')\n",
    "\n",
    "df.columns\n",
    "# Task 1: Renaming columns\n",
    "df.rename(columns={\n",
    "    'N2O Factor \\n(g N2O / vehicle-mile)': 'N2O_factor',\n",
    "    'CH4 Factor \\n(g CH4 / vehicle-mile)': 'CH4_factor'\n",
    "}, inplace=True)\n",
    "\n",
    "# Extract relevant data\n",
    "data = df[['N2O_factor', 'CH4_factor']].dropna()"
   ]
  },
  {
   "cell_type": "markdown",
   "metadata": {},
   "source": [
    "To understand the data in these two numerical columns, we create a SPLOM and analyse the KDE and scatter plots in it."
   ]
  },
  {
   "cell_type": "code",
   "execution_count": 14,
   "metadata": {},
   "outputs": [
    {
     "data": {
      "image/png": "[encoded data removed]",
      "text/plain": [
       "<Figure size 400x400 with 6 Axes>"
      ]
     },
     "metadata": {},
     "output_type": "display_data"
    }
   ],
   "source": [
    "\n",
    "# Create scatter plot matrix\n",
    "sns.pairplot(data, diag_kind='kde', height=2,plot_kws={'color': 'darkblue', 'alpha': 0.6},diag_kws={'color': 'darkgreen'})\n",
    "plt.suptitle(\"Scatter Plot Matrix of CH4 and N2O Emission Factors\", fontsize=14, y=1.02)\n",
    "plt.show()\n"
   ]
  },
  {
   "cell_type": "markdown",
   "metadata": {},
   "source": [
    "- We can clearly see in this plot, the presence of some values above the average of either x or y axis.\n",
    "- There are a lot of values crowded near the origin which show some common features between them.\n",
    "- Due to these naturally visible clusters in our data, we now leverage the SubFlow-3 in our next iteration and create a clustering model to group common data points into separate clusters"
   ]
  },
  {
   "cell_type": "markdown",
   "metadata": {},
   "source": [
    "This is a close-up view from the scatter plot made in the non-diagonal elements of the SPLOM plot in the previous iterations. We can clearly make out the possible clusters through this plot."
   ]
  },
  {
   "cell_type": "code",
   "execution_count": 15,
   "metadata": {},
   "outputs": [
    {
     "name": "stderr",
     "output_type": "stream",
     "text": [
      "C:\\Users\\Lenovo\\AppData\\Local\\Temp\\ipykernel_14908\\998335684.py:5: UserWarning:\n",
      "\n",
      "No artists with labels found to put in legend.  Note that artists whose label start with an underscore are ignored when legend() is called with no argument.\n",
      "\n"
     ]
    },
    {
     "data": {
      "image/png": "[encoded data removed]",
      "text/plain": [
       "<Figure size 640x480 with 1 Axes>"
      ]
     },
     "metadata": {},
     "output_type": "display_data"
    }
   ],
   "source": [
    "plt.scatter(data['N2O_factor'],data['CH4_factor'], c='teal')\n",
    "plt.title(f'Scatter Plot')\n",
    "plt.xlabel('N2O Factor (g/mile)')\n",
    "plt.ylabel('CH4 Factor (g/mile)')\n",
    "plt.legend()\n",
    "plt.show()"
   ]
  },
  {
   "cell_type": "markdown",
   "metadata": {},
   "source": [
    "Before applying clustering, we need to find out the optimal number of clusters suitable for this data. To find that out, we use the classic elbow method."
   ]
  },
  {
   "cell_type": "markdown",
   "metadata": {},
   "source": [
    "We plot a line chart showing variation in WCSS (Within-Cluster Sum of Squares) values with the number of clusters 'k'."
   ]
  },
  {
   "cell_type": "code",
   "execution_count": 16,
   "metadata": {},
   "outputs": [
    {
     "data": {
      "image/png": "[encoded data removed]",
      "text/plain": [
       "<Figure size 800x500 with 1 Axes>"
      ]
     },
     "metadata": {},
     "output_type": "display_data"
    }
   ],
   "source": [
    "# Elbow method for determining optimal clusters\n",
    "wcss = []  # Within-cluster sum of squares\n",
    "k_range = range(1, 11)  # Test for cluster counts from 1 to 10\n",
    "\n",
    "for k in k_range:\n",
    "    kmeans = KMeans(n_clusters=k, random_state=42)\n",
    "    kmeans.fit(data)\n",
    "    wcss.append(kmeans.inertia_)\n",
    "\n",
    "# Plot the elbow method graph\n",
    "plt.figure(figsize=(8, 5))\n",
    "plt.plot(k_range, wcss, marker='o', linestyle='--', color='b')\n",
    "plt.title('Elbow Method for Optimal Clusters', fontsize=14)\n",
    "plt.xlabel('Number of Clusters (k)', fontsize=12)\n",
    "plt.ylabel('Within-Cluster Sum of Squares (WCSS)', fontsize=12)\n",
    "plt.xticks(fontsize=10)\n",
    "plt.yticks(fontsize=10)\n",
    "plt.grid(True)\n",
    "plt.show()\n",
    "\n"
   ]
  },
  {
   "cell_type": "markdown",
   "metadata": {},
   "source": [
    "- We can clearly see the elbow shape of the curve, where there is a sharp decrease in the WCSS values for k=2 and k=3.\n",
    "- After k=3, the WCSS values change negligibly and hence are of no use.\n",
    "- Thus, the optimal number of clusters to be used = 3."
   ]
  },
  {
   "cell_type": "markdown",
   "metadata": {},
   "source": [
    "We now train our model using the data and setting the parameter of optimal clusters as 3. After training, we assign cluster values to each datapoint"
   ]
  },
  {
   "cell_type": "code",
   "execution_count": 17,
   "metadata": {},
   "outputs": [
    {
     "data": {
      "image/png": "[encoded data removed]",
      "text/plain": [
       "<Figure size 800x600 with 1 Axes>"
      ]
     },
     "metadata": {},
     "output_type": "display_data"
    }
   ],
   "source": [
    "# Function to perform K-Means clustering and plot\n",
    "def kmeans_clustering_and_plot(data, n_clusters):\n",
    "    kmeans = KMeans(n_clusters=n_clusters, random_state=42)\n",
    "    data['Cluster'] = kmeans.fit_predict(data[['N2O_factor', 'CH4_factor']])\n",
    "\n",
    "    # Scatter plot\n",
    "    plt.figure(figsize=(8, 6))\n",
    "    for cluster in range(n_clusters):\n",
    "        clustered_data = data[data['Cluster'] == cluster]\n",
    "        plt.scatter(clustered_data['N2O_factor'], clustered_data['CH4_factor'], label=f'Cluster {cluster}')\n",
    "\n",
    "    # Mark centroids\n",
    "    plt.scatter(kmeans.cluster_centers_[:, 0], kmeans.cluster_centers_[:, 1], \n",
    "                s=200, c='red', marker='X', label='Centroids')\n",
    "    plt.title(f'K-Means Clustering with {n_clusters} Clusters')\n",
    "    plt.xlabel('N2O Factor (g/mile)')\n",
    "    plt.ylabel('CH4 Factor (g/mile)')\n",
    "    plt.legend()\n",
    "    plt.show()\n",
    "\n",
    "# Task 2: Apply K-Means clustering for 3 and 4 clusters\n",
    "kmeans_clustering_and_plot(data, 3)"
   ]
  },
  {
   "cell_type": "markdown",
   "metadata": {},
   "source": [
    "In this clustering outcome, we can see that there are 3 clusters created. To better interpret the clusters, they are categorized as follows:\n",
    "\n",
    "- **Cluster 0 (Old Cars):** Vehicles in this cluster generally exhibit **high emission factors** for both CH₄ and N₂O. These vehicles likely represent older models with outdated emission control technologies.\n",
    "- **Cluster 1 (Middle-generation Cars):** Vehicles in this cluster have **moderate CH₄** emissions and **relatively low N₂O** emissions. They likely represent mid-range models with improved, yet not fully modern, emission controls.\n",
    "- **Cluster 2 (Latest Cars):** This cluster contains vehicles with **low emissions** for both CH₄ and N₂O, representing the latest models equipped with advanced emission control systems.\n"
   ]
  },
  {
   "cell_type": "markdown",
   "metadata": {},
   "source": [
    "The clustering output successfully groups vehicles into distinct categories based on their emission profiles. The clear distinction between the clusters highlights the technological evolution in vehicle emission control systems. This analysis provides a foundation for targeting high-emission vehicles (Cluster 0) for retrofitting or replacement, while emphasizing the success of modern emission standards seen in Cluster 2."
   ]
  },
  {
   "cell_type": "markdown",
   "metadata": {},
   "source": [
    "The findings from the clustering analysis, which categorized vehicles into three groups (Old Cars, Middle Cars, and Latest Cars), align with broader trends in vehicle emissions and advancements in technology. Link for the reference of the same has been added in the report."
   ]
  },
  {
   "cell_type": "markdown",
   "metadata": {},
   "source": [
    "With this, I conclude the Task-3 of this Visual Analytics workflow.\n",
    "## Key Takeaways from Task-3\n",
    "\n",
    "### Part-1: Heatmap and Choropleth of Emissions\n",
    "- The task began with a heatmap to identify significant emissions by gas type across industries, highlighting **Air Transportation** as a major contributor.\n",
    "- To complement this, a **choropleth map** was created to visualize region-wise CO₂ emissions in the US based on electricity board-wise emission factors.\n",
    "- Key observations:\n",
    "  - Regions such as the **Rocky Mountain Power Area (RMPA)** and **SPP South** showed the highest CO₂ emissions.\n",
    "  - The visualization effectively compared emissions geographically, emphasizing areas with critical emission levels.\n",
    "- These insights laid the foundation for deeper analysis into region-specific and sectoral emissions.\n",
    "\n",
    "### Part-2: Scatter Plot Matrix (SPLOM)\n",
    "- The SPLOM visualized relationships between CH₄ and N₂O emission factors using pairwise scatter plots and KDE diagonals.\n",
    "- Key insights:\n",
    "  - Highlighted an extreme outlier in CH₄ emissions—**Aviation Gasoline Aircraft**.\n",
    "  - Demonstrated weak correlation between CH₄ and N₂O emissions across vehicle types.\n",
    "- SPLOM effectively identified emission variability, emphasizing the importance of focusing on high-emission sources.\n",
    "- The PCP visualized trends in combined CH₄ and N₂O averages across the years 2011, 2014, and 2015.\n",
    "- Challenges:\n",
    "  - A significant outlier skewed the y-axis, compressing other data points, and reducing interpretability.\n",
    "  - While it revealed overall trends, it required refinement to enhance readability.\n",
    "- Next steps included applying logarithmic transformations to mitigate the impact of outliers for better insights.\n",
    "\n",
    "### Part-3: Vehicle Emissions Analysis and Clustering Insights\n",
    "\n",
    "- A scatter plot was created using CH\\(_4\\) (methane) and N\\(_2\\)O (nitrous oxide) emission factors to visualize emission patterns across different vehicles.\n",
    "- K-Means clustering was applied to group vehicles based on their emission profiles, resulting in three distinct clusters:\n",
    "  - **Old Vehicles:** High emission factors, representing older models with outdated technologies.\n",
    "  - **Mid-Generation Vehicles:** Moderate emission factors, reflecting partial adoption of emission-reducing technologies.\n",
    "  - **Latest Vehicles:** Low emission factors, indicating state-of-the-art technologies in modern vehicles.\n",
    "- The clustering revealed clear trends in emissions, highlighting technological progress and the impact of modern emission control measures.\n",
    "- These insights emphasize the need to target older vehicle groups for retrofitting or replacement to further reduce emissions.\n"
   ]
  }
 ],
 "metadata": {
  "kernelspec": {
   "display_name": "Python 3",
   "language": "python",
   "name": "python3"
  },
  "language_info": {
   "codemirror_mode": {
    "name": "ipython",
    "version": 3
   },
   "file_extension": ".py",
   "mimetype": "text/x-python",
   "name": "python",
   "nbconvert_exporter": "python",
   "pygments_lexer": "ipython3",
   "version": "3.12.2"
  }
 },
 "nbformat": 4,
 "nbformat_minor": 2
}
