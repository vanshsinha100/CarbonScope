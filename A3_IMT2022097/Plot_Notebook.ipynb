{
 "cells": [
  {
   "cell_type": "markdown",
   "id": "b42e20ee",
   "metadata": {},
   "source": [
    "# DAS-732 ASSIGNMENT-3 TEAM - GRAPHGEEKS\n",
    "### MEMBERS:\n",
    "- ASHIRWAD MISHRA IMT2022108 (Team Lead)\n",
    "- KRISH PATEL IMT2022097\n",
    "- VANSH SINHA IMT2022122"
   ]
  },
  {
   "cell_type": "markdown",
   "id": "08abf33b",
   "metadata": {},
   "source": [
    "## Original Dataset description and Visual Analytics Workflow"
   ]
  },
  {
   "cell_type": "markdown",
   "id": "2a3af2b2",
   "metadata": {},
   "source": [
    "![VA_Workflow](Workflow.png)"
   ]
  },
  {
   "cell_type": "markdown",
   "id": "10503e14",
   "metadata": {},
   "source": [
    "### Column-wise Description of Dataset\n",
    "\n",
    "1. **Commodity Code**  \n",
    "   - Code representing the commodity or industry from BEA Make and Use Tables 2012.  \n",
    "   - Includes two levels: 'Detail' (405 sectors) and 'Summary' (medium resolution, 73 commodities & 71 industries).  \n",
    "\n",
    "2. **Commodity Name**  \n",
    "   - Name of the commodity or industry.  \n",
    "   - Detail commodities use USEEIO v1.1 names.\n",
    "\n",
    "3. **Substance**  \n",
    "   - Greenhouse gases:  \n",
    "     - CO2: Carbon dioxide  \n",
    "     - CH4: Methane  \n",
    "     - N2O: Nitrous oxide  \n",
    "     - Other GHGs: HFCs, CF4, SF6, etc.\n",
    "\n",
    "4. **Unit**  \n",
    "   - Emission factors in CO2e (carbon dioxide equivalents) using IPCC AR4 GWP factors.  \n",
    "   - Purchaser price includes producer price + margins.\n",
    "\n",
    "5. **Supply Chain Emission Factors without Margins**  \n",
    "   - GHG emissions from cradle to production point (kg) per 2018 USD.\n",
    "\n",
    "6. **Margins of Supply Chain Emission Factors**  \n",
    "   - GHG emissions from production to sale (kg) per 2018 USD.\n",
    "\n",
    "7. **Supply Chain Emission Factors with Margins**  \n",
    "   - GHG emissions from cradle to sale (kg) per 2018 USD.\n",
    "\n",
    "8. **DQ Reliability Score of Factors without Margins**  \n",
    "   - Data reliability score (1 = best, 5 = worst).  \n",
    "\n",
    "9. **DQ Temporal Correlation of Factors without Margins**  \n",
    "   - Temporal correlation score (1 = best, 5 = worst).  \n",
    "\n",
    "10. **DQ Geographical Correlation of Factors without Margins**  \n",
    "    - Geographical correlation score (1 = best, 5 = worst).  \n",
    "\n",
    "11. **DQ Technological Correlation of Factors without Margins**  \n",
    "    - Technological correlation score (1 = best, 5 = worst).  \n",
    "\n",
    "12. **DQ Data Collection of Factors without Margins**  \n",
    "    - Data collection score (1 = best, 5 = worst).  \n",
    "\n",
    "13. **Year**  \n",
    "    - Added column indicating the year of data recording (created during dataset cleaning).\n"
   ]
  },
  {
   "cell_type": "markdown",
   "id": "93de1390",
   "metadata": {},
   "source": [
    "### Additional Dataset is quite comprehensive and not all of it was used in this assignment, hence would be described whenever invoked into a workflow iteration."
   ]
  },
  {
   "cell_type": "markdown",
   "id": "a3e6c160",
   "metadata": {},
   "source": [
    "## VISUAL ANALYTICS WORKFLOW"
   ]
  },
  {
   "cell_type": "markdown",
   "id": "84c1dc9d",
   "metadata": {},
   "source": [
    "- **Choose Dataset for Model Training:**  \n",
    "  The workflow begins with selecting a dataset for model training. This dataset contains the primary emission data used for analysis.\n",
    "\n",
    "- **Emission Data and Additional Data:**  \n",
    "  These are the primary sources of information. *Emission data* represents the core dataset, while *additional data* complements it by providing supplementary information.\n",
    "\n",
    "- **Cleaning Process:**  \n",
    "  The raw data (both emission and additional) undergoes a cleaning process to ensure consistency, completeness, and readiness for analysis. This process removes invalid or missing values, standardizes formats, and prepares the datasets for downstream tasks.\n",
    "\n",
    "- **Clean Emission Data and Clean Additional Data:**  \n",
    "  After the cleaning process, the emission and additional datasets are stored separately as cleaned datasets. These cleaned datasets are critical for ensuring accurate analysis and visualization.\n",
    "\n",
    "- **Visualizations:**  \n",
    "  Cleaned datasets are transformed into visual representations, facilitating the mapping of data insights. These visualizations highlight patterns, trends, and anomalies in the emission data and serve as a precursor for further modeling.\n",
    "\n",
    "- **Model:**  \n",
    "  This component involves the application of machine learning or statistical models on the cleaned data. Models are trained to extract inferences, predict trends, and provide actionable insights.\n",
    "\n",
    "- **Knowledge:**  \n",
    "  The end goal of the workflow is to convert data into knowledge. Insights derived from visualizations and models are aggregated, validated, and presented as meaningful knowledge to stakeholders.\n"
   ]
  },
  {
   "cell_type": "markdown",
   "id": "b55003c8",
   "metadata": {},
   "source": [
    "- **Subflow-1:**  \n",
    "  Connects visualizations to the knowledge component with a feedback loop for iterative refinement of visual representations, enhancing data interpretation.\n",
    "\n",
    "- **Subflow-2:**  \n",
    "  Links cleaned additional data to visualizations and knowledge. Introduces a feedback loop to refine how supplementary information enriches the analysis.\n",
    "\n",
    "- **Subflow-3:**  \n",
    "  Focuses on applying machine learning models. Involves selecting, cleaning, and preparing datasets (emission or additional data) and training ML models to extract insights.\n"
   ]
  },
  {
   "cell_type": "markdown",
   "id": "0e09f4b4",
   "metadata": {},
   "source": [
    "## TASKS UNDERTAKEN IN THIS ASSIGNMENT:\n",
    "- **Task 1: Industry-Level Emissions Over Time:**  \n",
    "  Analyze historical GHG emissions by industries to identify trends, key contributors, and changes over time.\n",
    "\n",
    "- **Task 2: Commodity-Specific Emissions and Their Drivers:**  \n",
    "  Examine the link between commodity sales and emissions to identify high-emission products and their drivers.\n",
    "\n",
    "- **Task 3: Deeper Analysis into Specific Sectors' Emissions:**  \n",
    "  Perform detailed evaluations of emissions within sectors to explore variability and high-emission sub-sectors.\n"
   ]
  },
  {
   "cell_type": "markdown",
   "id": "aa9513ca",
   "metadata": {},
   "source": [
    "# Import Necessary Libraries\n",
    "This cell imports libraries like Pandas, NumPy, and Matplotlib for data analysis and visualization."
   ]
  },
  {
   "cell_type": "code",
   "execution_count": 1,
   "id": "286026dd-e72f-4b38-be82-658f3ef2c576",
   "metadata": {},
   "outputs": [],
   "source": [
    "import pandas as pd\n",
    "import numpy as np\n",
    "import matplotlib.pyplot as plt"
   ]
  },
  {
   "cell_type": "markdown",
   "id": "b9577daa",
   "metadata": {},
   "source": [
    "# Load Data and Display First Few Rows\n",
    "This cell reads data from a CSV file named 'Summary_Industry.csv' and displays the first three rows to give an overview of the dataset."
   ]
  },
  {
   "cell_type": "code",
   "execution_count": 2,
   "id": "4b600795-0011-4602-9b14-8f13271278a8",
   "metadata": {},
   "outputs": [
    {
     "data": {
      "text/html": [
       "<div>\n",
       "<style scoped>\n",
       "    .dataframe tbody tr th:only-of-type {\n",
       "        vertical-align: middle;\n",
       "    }\n",
       "\n",
       "    .dataframe tbody tr th {\n",
       "        vertical-align: top;\n",
       "    }\n",
       "\n",
       "    .dataframe thead th {\n",
       "        text-align: right;\n",
       "    }\n",
       "</style>\n",
       "<table border=\"1\" class=\"dataframe\">\n",
       "  <thead>\n",
       "    <tr style=\"text-align: right;\">\n",
       "      <th></th>\n",
       "      <th>Year</th>\n",
       "      <th>Industry Code</th>\n",
       "      <th>Industry Name</th>\n",
       "      <th>Substance</th>\n",
       "      <th>Unit</th>\n",
       "      <th>Supply Chain Emission Factors without Margins</th>\n",
       "      <th>Margins of Supply Chain Emission Factors</th>\n",
       "      <th>Supply Chain Emission Factors with Margins</th>\n",
       "      <th>DQ ReliabilityScore of Factors without Margins</th>\n",
       "      <th>DQ TemporalCorrelation of Factors without Margins</th>\n",
       "      <th>DQ GeographicalCorrelation of Factors without Margins</th>\n",
       "      <th>DQ TechnologicalCorrelation of Factors without Margins</th>\n",
       "      <th>DQ DataCollection of Factors without Margins</th>\n",
       "    </tr>\n",
       "  </thead>\n",
       "  <tbody>\n",
       "    <tr>\n",
       "      <th>0</th>\n",
       "      <td>2016</td>\n",
       "      <td>111CA</td>\n",
       "      <td>Farms</td>\n",
       "      <td>carbon dioxide</td>\n",
       "      <td>kg/2018 USD, purchaser price</td>\n",
       "      <td>0.466</td>\n",
       "      <td>0.043</td>\n",
       "      <td>0.510</td>\n",
       "      <td>4</td>\n",
       "      <td>2</td>\n",
       "      <td>1</td>\n",
       "      <td>4</td>\n",
       "      <td>1</td>\n",
       "    </tr>\n",
       "    <tr>\n",
       "      <th>1</th>\n",
       "      <td>2016</td>\n",
       "      <td>111CA</td>\n",
       "      <td>Farms</td>\n",
       "      <td>methane</td>\n",
       "      <td>kg/2018 USD, purchaser price</td>\n",
       "      <td>0.025</td>\n",
       "      <td>0.000</td>\n",
       "      <td>0.026</td>\n",
       "      <td>3</td>\n",
       "      <td>2</td>\n",
       "      <td>1</td>\n",
       "      <td>1</td>\n",
       "      <td>1</td>\n",
       "    </tr>\n",
       "    <tr>\n",
       "      <th>2</th>\n",
       "      <td>2016</td>\n",
       "      <td>111CA</td>\n",
       "      <td>Farms</td>\n",
       "      <td>nitrous oxide</td>\n",
       "      <td>kg/2018 USD, purchaser price</td>\n",
       "      <td>0.002</td>\n",
       "      <td>0.000</td>\n",
       "      <td>0.002</td>\n",
       "      <td>4</td>\n",
       "      <td>2</td>\n",
       "      <td>1</td>\n",
       "      <td>4</td>\n",
       "      <td>1</td>\n",
       "    </tr>\n",
       "  </tbody>\n",
       "</table>\n",
       "</div>"
      ],
      "text/plain": [
       "   Year Industry Code Industry Name       Substance  \\\n",
       "0  2016         111CA         Farms  carbon dioxide   \n",
       "1  2016         111CA         Farms         methane   \n",
       "2  2016         111CA         Farms   nitrous oxide   \n",
       "\n",
       "                           Unit  \\\n",
       "0  kg/2018 USD, purchaser price   \n",
       "1  kg/2018 USD, purchaser price   \n",
       "2  kg/2018 USD, purchaser price   \n",
       "\n",
       "   Supply Chain Emission Factors without Margins  \\\n",
       "0                                          0.466   \n",
       "1                                          0.025   \n",
       "2                                          0.002   \n",
       "\n",
       "   Margins of Supply Chain Emission Factors  \\\n",
       "0                                     0.043   \n",
       "1                                     0.000   \n",
       "2                                     0.000   \n",
       "\n",
       "   Supply Chain Emission Factors with Margins  \\\n",
       "0                                       0.510   \n",
       "1                                       0.026   \n",
       "2                                       0.002   \n",
       "\n",
       "   DQ ReliabilityScore of Factors without Margins  \\\n",
       "0                                               4   \n",
       "1                                               3   \n",
       "2                                               4   \n",
       "\n",
       "   DQ TemporalCorrelation of Factors without Margins  \\\n",
       "0                                                  2   \n",
       "1                                                  2   \n",
       "2                                                  2   \n",
       "\n",
       "   DQ GeographicalCorrelation of Factors without Margins  \\\n",
       "0                                                  1       \n",
       "1                                                  1       \n",
       "2                                                  1       \n",
       "\n",
       "   DQ TechnologicalCorrelation of Factors without Margins  \\\n",
       "0                                                  4        \n",
       "1                                                  1        \n",
       "2                                                  4        \n",
       "\n",
       "   DQ DataCollection of Factors without Margins  \n",
       "0                                             1  \n",
       "1                                             1  \n",
       "2                                             1  "
      ]
     },
     "execution_count": 2,
     "metadata": {},
     "output_type": "execute_result"
    }
   ],
   "source": [
    "ori = pd.read_csv(\"Summary_Industry.csv\")\n",
    "ori.head(3)"
   ]
  },
  {
   "cell_type": "markdown",
   "id": "4b215ede",
   "metadata": {},
   "source": [
    "# Filter Data by Industry and Save to Separate Files\n",
    "Here, data for specific industries (e.g., Utilities, Farms, Petroleum) is filtered from the main dataset and saved into separate CSV files."
   ]
  },
  {
   "cell_type": "code",
   "execution_count": 3,
   "id": "414b18a1-a117-475e-a89a-97a33f90065c",
   "metadata": {},
   "outputs": [],
   "source": [
    "utl = ori.loc[ori['Industry Name'] == 'Utilities']\n",
    "utl.to_csv('2016_ind.csv', index = False)\n",
    "\n",
    "farm = ori.loc[ori['Industry Name'] == 'Farms']\n",
    "farm.to_csv('frm_ind.csv', index = False)\n",
    "\n",
    "pet = ori.loc[ori['Industry Name'] == 'Petroleum and coal products']\n",
    "pet.to_csv('pet_ind.csv', index = False)\n",
    "\n",
    "wat = ori.loc[ori['Industry Name'] == 'Water transportation']\n",
    "wat.to_csv('wat_ind.csv', index = False)\n",
    "\n",
    "air = ori.loc[ori['Industry Name'] == 'Air transportation']\n",
    "air.to_csv('air_ind.csv', index = False)"
   ]
  },
  {
   "cell_type": "markdown",
   "id": "eda1c43f",
   "metadata": {},
   "source": [
    "# Create Multi-Industry Emissions Visualization\n",
    "This cell generates an interactive plot with multiple subplots showcasing emissions data for various industries across years."
   ]
  },
  {
   "cell_type": "code",
   "execution_count": 4,
   "id": "f99c1b84-72d7-4396-9741-85ac42991354",
   "metadata": {},
   "outputs": [
    {
     "name": "stdout",
     "output_type": "stream",
     "text": [
      "Interactive visualization saved as 'multi_industry_emissions.html'\n"
     ]
    },
    {
     "data": {
      "application/vnd.plotly.v1+json": {
       "config": {
        "plotlyServerURL": "https://plot.ly"
       },
       "data": [
        {
         "hovertemplate": "Utilities - carbon dioxide<br>Year: %{x}<br>Emission Factor: %{y:.4f} kg/2018 USD<extra></extra>",
         "line": {
          "color": "red"
         },
         "mode": "lines+markers",
         "name": "Utilities - carbon dioxide",
         "type": "scatter",
         "x": [
          2016,
          2015,
          2014,
          2013,
          2012,
          2011,
          2010
         ],
         "xaxis": "x",
         "y": [
          3.448,
          3.425,
          3.505,
          3.804,
          3.988,
          4.068,
          4.226
         ],
         "yaxis": "y"
        },
        {
         "hovertemplate": "Utilities - methane<br>Year: %{x}<br>Emission Factor: %{y:.4f} kg/2018 USD<extra></extra>",
         "line": {
          "color": "blue"
         },
         "mode": "lines+markers",
         "name": "Utilities - methane",
         "type": "scatter",
         "x": [
          2016,
          2015,
          2014,
          2013,
          2012,
          2011,
          2010
         ],
         "xaxis": "x",
         "y": [
          0.005,
          0.006,
          0.006,
          0.006,
          0.006,
          0.007,
          0.008
         ],
         "yaxis": "y"
        },
        {
         "hovertemplate": "Utilities - nitrous oxide<br>Year: %{x}<br>Emission Factor: %{y:.4f} kg/2018 USD<extra></extra>",
         "line": {
          "color": "green"
         },
         "mode": "lines+markers",
         "name": "Utilities - nitrous oxide",
         "type": "scatter",
         "x": [
          2016,
          2015,
          2014,
          2013,
          2012,
          2011,
          2010
         ],
         "xaxis": "x",
         "y": [
          0,
          0,
          0,
          0,
          0,
          0,
          0
         ],
         "yaxis": "y"
        },
        {
         "hovertemplate": "Utilities - other GHGs<br>Year: %{x}<br>Emission Factor: %{y:.4f} kg/2018 USD<extra></extra>",
         "line": {
          "color": "purple"
         },
         "mode": "lines+markers",
         "name": "Utilities - other GHGs",
         "type": "scatter",
         "x": [
          2016,
          2015,
          2014,
          2013,
          2012,
          2011,
          2010
         ],
         "xaxis": "x",
         "y": [
          0.011,
          0.011,
          0.011,
          0.012,
          0.013,
          0.015,
          0.014
         ],
         "yaxis": "y"
        },
        {
         "hovertemplate": "Farms - carbon dioxide<br>Year: %{x}<br>Emission Factor: %{y:.4f} kg/2018 USD<extra></extra>",
         "line": {
          "color": "red"
         },
         "mode": "lines+markers",
         "name": "Farms - carbon dioxide",
         "type": "scatter",
         "x": [
          2016,
          2015,
          2014,
          2013,
          2012,
          2011,
          2010
         ],
         "xaxis": "x2",
         "y": [
          0.51,
          0.465,
          0.437,
          0.454,
          0.484,
          0.486,
          0.582
         ],
         "yaxis": "y2"
        },
        {
         "hovertemplate": "Farms - methane<br>Year: %{x}<br>Emission Factor: %{y:.4f} kg/2018 USD<extra></extra>",
         "line": {
          "color": "blue"
         },
         "mode": "lines+markers",
         "name": "Farms - methane",
         "type": "scatter",
         "x": [
          2016,
          2015,
          2014,
          2013,
          2012,
          2011,
          2010
         ],
         "xaxis": "x2",
         "y": [
          0.026,
          0.023,
          0.02,
          0.02,
          0.022,
          0.024,
          0.03
         ],
         "yaxis": "y2"
        },
        {
         "hovertemplate": "Farms - nitrous oxide<br>Year: %{x}<br>Emission Factor: %{y:.4f} kg/2018 USD<extra></extra>",
         "line": {
          "color": "green"
         },
         "mode": "lines+markers",
         "name": "Farms - nitrous oxide",
         "type": "scatter",
         "x": [
          2016,
          2015,
          2014,
          2013,
          2012,
          2011,
          2010
         ],
         "xaxis": "x2",
         "y": [
          0.002,
          0.002,
          0.002,
          0.002,
          0.002,
          0.002,
          0.003
         ],
         "yaxis": "y2"
        },
        {
         "hovertemplate": "Farms - other GHGs<br>Year: %{x}<br>Emission Factor: %{y:.4f} kg/2018 USD<extra></extra>",
         "line": {
          "color": "purple"
         },
         "mode": "lines+markers",
         "name": "Farms - other GHGs",
         "type": "scatter",
         "x": [
          2016,
          2015,
          2014,
          2013,
          2012,
          2011,
          2010
         ],
         "xaxis": "x2",
         "y": [
          0.004,
          0.004,
          0.004,
          0.003,
          0.004,
          0.005,
          0.005
         ],
         "yaxis": "y2"
        },
        {
         "hovertemplate": "Petroleum and Coal Products - carbon dioxide<br>Year: %{x}<br>Emission Factor: %{y:.4f} kg/2018 USD<extra></extra>",
         "line": {
          "color": "red"
         },
         "mode": "lines+markers",
         "name": "Petroleum and Coal Products - carbon dioxide",
         "type": "scatter",
         "x": [
          2016,
          2015,
          2014,
          2013,
          2012,
          2011,
          2010
         ],
         "xaxis": "x3",
         "y": [
          0.79,
          0.68,
          0.53,
          0.628,
          0.6,
          0.636,
          0.737
         ],
         "yaxis": "y3"
        },
        {
         "hovertemplate": "Petroleum and Coal Products - methane<br>Year: %{x}<br>Emission Factor: %{y:.4f} kg/2018 USD<extra></extra>",
         "line": {
          "color": "blue"
         },
         "mode": "lines+markers",
         "name": "Petroleum and Coal Products - methane",
         "type": "scatter",
         "x": [
          2016,
          2015,
          2014,
          2013,
          2012,
          2011,
          2010
         ],
         "xaxis": "x3",
         "y": [
          0.018,
          0.016,
          0.012,
          0.012,
          0.014,
          0.014,
          0.017
         ],
         "yaxis": "y3"
        },
        {
         "hovertemplate": "Petroleum and Coal Products - nitrous oxide<br>Year: %{x}<br>Emission Factor: %{y:.4f} kg/2018 USD<extra></extra>",
         "line": {
          "color": "green"
         },
         "mode": "lines+markers",
         "name": "Petroleum and Coal Products - nitrous oxide",
         "type": "scatter",
         "x": [
          2016,
          2015,
          2014,
          2013,
          2012,
          2011,
          2010
         ],
         "xaxis": "x3",
         "y": [
          0,
          0,
          0,
          0,
          0,
          0,
          0
         ],
         "yaxis": "y3"
        },
        {
         "hovertemplate": "Petroleum and Coal Products - other GHGs<br>Year: %{x}<br>Emission Factor: %{y:.4f} kg/2018 USD<extra></extra>",
         "line": {
          "color": "purple"
         },
         "mode": "lines+markers",
         "name": "Petroleum and Coal Products - other GHGs",
         "type": "scatter",
         "x": [
          2016,
          2015,
          2014,
          2013,
          2012,
          2011,
          2010
         ],
         "xaxis": "x3",
         "y": [
          0.004,
          0.004,
          0.003,
          0.003,
          0.003,
          0.004,
          0.003
         ],
         "yaxis": "y3"
        }
       ],
       "layout": {
        "annotations": [
         {
          "font": {
           "size": 16
          },
          "showarrow": false,
          "text": "Utilities",
          "x": 0.5,
          "xanchor": "center",
          "xref": "paper",
          "y": 1,
          "yanchor": "bottom",
          "yref": "paper"
         },
         {
          "font": {
           "size": 16
          },
          "showarrow": false,
          "text": "Farms",
          "x": 0.5,
          "xanchor": "center",
          "xref": "paper",
          "y": 0.6333333333333333,
          "yanchor": "bottom",
          "yref": "paper"
         },
         {
          "font": {
           "size": 16
          },
          "showarrow": false,
          "text": "Petroleum and Coal Products",
          "x": 0.5,
          "xanchor": "center",
          "xref": "paper",
          "y": 0.26666666666666666,
          "yanchor": "bottom",
          "yref": "paper"
         }
        ],
        "height": 1200,
        "hovermode": "closest",
        "showlegend": true,
        "template": {
         "data": {
          "bar": [
           {
            "error_x": {
             "color": "#2a3f5f"
            },
            "error_y": {
             "color": "#2a3f5f"
            },
            "marker": {
             "line": {
              "color": "#E5ECF6",
              "width": 0.5
             },
             "pattern": {
              "fillmode": "overlay",
              "size": 10,
              "solidity": 0.2
             }
            },
            "type": "bar"
           }
          ],
          "barpolar": [
           {
            "marker": {
             "line": {
              "color": "#E5ECF6",
              "width": 0.5
             },
             "pattern": {
              "fillmode": "overlay",
              "size": 10,
              "solidity": 0.2
             }
            },
            "type": "barpolar"
           }
          ],
          "carpet": [
           {
            "aaxis": {
             "endlinecolor": "#2a3f5f",
             "gridcolor": "white",
             "linecolor": "white",
             "minorgridcolor": "white",
             "startlinecolor": "#2a3f5f"
            },
            "baxis": {
             "endlinecolor": "#2a3f5f",
             "gridcolor": "white",
             "linecolor": "white",
             "minorgridcolor": "white",
             "startlinecolor": "#2a3f5f"
            },
            "type": "carpet"
           }
          ],
          "choropleth": [
           {
            "colorbar": {
             "outlinewidth": 0,
             "ticks": ""
            },
            "type": "choropleth"
           }
          ],
          "contour": [
           {
            "colorbar": {
             "outlinewidth": 0,
             "ticks": ""
            },
            "colorscale": [
             [
              0,
              "#0d0887"
             ],
             [
              0.1111111111111111,
              "#46039f"
             ],
             [
              0.2222222222222222,
              "#7201a8"
             ],
             [
              0.3333333333333333,
              "#9c179e"
             ],
             [
              0.4444444444444444,
              "#bd3786"
             ],
             [
              0.5555555555555556,
              "#d8576b"
             ],
             [
              0.6666666666666666,
              "#ed7953"
             ],
             [
              0.7777777777777778,
              "#fb9f3a"
             ],
             [
              0.8888888888888888,
              "#fdca26"
             ],
             [
              1,
              "#f0f921"
             ]
            ],
            "type": "contour"
           }
          ],
          "contourcarpet": [
           {
            "colorbar": {
             "outlinewidth": 0,
             "ticks": ""
            },
            "type": "contourcarpet"
           }
          ],
          "heatmap": [
           {
            "colorbar": {
             "outlinewidth": 0,
             "ticks": ""
            },
            "colorscale": [
             [
              0,
              "#0d0887"
             ],
             [
              0.1111111111111111,
              "#46039f"
             ],
             [
              0.2222222222222222,
              "#7201a8"
             ],
             [
              0.3333333333333333,
              "#9c179e"
             ],
             [
              0.4444444444444444,
              "#bd3786"
             ],
             [
              0.5555555555555556,
              "#d8576b"
             ],
             [
              0.6666666666666666,
              "#ed7953"
             ],
             [
              0.7777777777777778,
              "#fb9f3a"
             ],
             [
              0.8888888888888888,
              "#fdca26"
             ],
             [
              1,
              "#f0f921"
             ]
            ],
            "type": "heatmap"
           }
          ],
          "heatmapgl": [
           {
            "colorbar": {
             "outlinewidth": 0,
             "ticks": ""
            },
            "colorscale": [
             [
              0,
              "#0d0887"
             ],
             [
              0.1111111111111111,
              "#46039f"
             ],
             [
              0.2222222222222222,
              "#7201a8"
             ],
             [
              0.3333333333333333,
              "#9c179e"
             ],
             [
              0.4444444444444444,
              "#bd3786"
             ],
             [
              0.5555555555555556,
              "#d8576b"
             ],
             [
              0.6666666666666666,
              "#ed7953"
             ],
             [
              0.7777777777777778,
              "#fb9f3a"
             ],
             [
              0.8888888888888888,
              "#fdca26"
             ],
             [
              1,
              "#f0f921"
             ]
            ],
            "type": "heatmapgl"
           }
          ],
          "histogram": [
           {
            "marker": {
             "pattern": {
              "fillmode": "overlay",
              "size": 10,
              "solidity": 0.2
             }
            },
            "type": "histogram"
           }
          ],
          "histogram2d": [
           {
            "colorbar": {
             "outlinewidth": 0,
             "ticks": ""
            },
            "colorscale": [
             [
              0,
              "#0d0887"
             ],
             [
              0.1111111111111111,
              "#46039f"
             ],
             [
              0.2222222222222222,
              "#7201a8"
             ],
             [
              0.3333333333333333,
              "#9c179e"
             ],
             [
              0.4444444444444444,
              "#bd3786"
             ],
             [
              0.5555555555555556,
              "#d8576b"
             ],
             [
              0.6666666666666666,
              "#ed7953"
             ],
             [
              0.7777777777777778,
              "#fb9f3a"
             ],
             [
              0.8888888888888888,
              "#fdca26"
             ],
             [
              1,
              "#f0f921"
             ]
            ],
            "type": "histogram2d"
           }
          ],
          "histogram2dcontour": [
           {
            "colorbar": {
             "outlinewidth": 0,
             "ticks": ""
            },
            "colorscale": [
             [
              0,
              "#0d0887"
             ],
             [
              0.1111111111111111,
              "#46039f"
             ],
             [
              0.2222222222222222,
              "#7201a8"
             ],
             [
              0.3333333333333333,
              "#9c179e"
             ],
             [
              0.4444444444444444,
              "#bd3786"
             ],
             [
              0.5555555555555556,
              "#d8576b"
             ],
             [
              0.6666666666666666,
              "#ed7953"
             ],
             [
              0.7777777777777778,
              "#fb9f3a"
             ],
             [
              0.8888888888888888,
              "#fdca26"
             ],
             [
              1,
              "#f0f921"
             ]
            ],
            "type": "histogram2dcontour"
           }
          ],
          "mesh3d": [
           {
            "colorbar": {
             "outlinewidth": 0,
             "ticks": ""
            },
            "type": "mesh3d"
           }
          ],
          "parcoords": [
           {
            "line": {
             "colorbar": {
              "outlinewidth": 0,
              "ticks": ""
             }
            },
            "type": "parcoords"
           }
          ],
          "pie": [
           {
            "automargin": true,
            "type": "pie"
           }
          ],
          "scatter": [
           {
            "fillpattern": {
             "fillmode": "overlay",
             "size": 10,
             "solidity": 0.2
            },
            "type": "scatter"
           }
          ],
          "scatter3d": [
           {
            "line": {
             "colorbar": {
              "outlinewidth": 0,
              "ticks": ""
             }
            },
            "marker": {
             "colorbar": {
              "outlinewidth": 0,
              "ticks": ""
             }
            },
            "type": "scatter3d"
           }
          ],
          "scattercarpet": [
           {
            "marker": {
             "colorbar": {
              "outlinewidth": 0,
              "ticks": ""
             }
            },
            "type": "scattercarpet"
           }
          ],
          "scattergeo": [
           {
            "marker": {
             "colorbar": {
              "outlinewidth": 0,
              "ticks": ""
             }
            },
            "type": "scattergeo"
           }
          ],
          "scattergl": [
           {
            "marker": {
             "colorbar": {
              "outlinewidth": 0,
              "ticks": ""
             }
            },
            "type": "scattergl"
           }
          ],
          "scattermapbox": [
           {
            "marker": {
             "colorbar": {
              "outlinewidth": 0,
              "ticks": ""
             }
            },
            "type": "scattermapbox"
           }
          ],
          "scatterpolar": [
           {
            "marker": {
             "colorbar": {
              "outlinewidth": 0,
              "ticks": ""
             }
            },
            "type": "scatterpolar"
           }
          ],
          "scatterpolargl": [
           {
            "marker": {
             "colorbar": {
              "outlinewidth": 0,
              "ticks": ""
             }
            },
            "type": "scatterpolargl"
           }
          ],
          "scatterternary": [
           {
            "marker": {
             "colorbar": {
              "outlinewidth": 0,
              "ticks": ""
             }
            },
            "type": "scatterternary"
           }
          ],
          "surface": [
           {
            "colorbar": {
             "outlinewidth": 0,
             "ticks": ""
            },
            "colorscale": [
             [
              0,
              "#0d0887"
             ],
             [
              0.1111111111111111,
              "#46039f"
             ],
             [
              0.2222222222222222,
              "#7201a8"
             ],
             [
              0.3333333333333333,
              "#9c179e"
             ],
             [
              0.4444444444444444,
              "#bd3786"
             ],
             [
              0.5555555555555556,
              "#d8576b"
             ],
             [
              0.6666666666666666,
              "#ed7953"
             ],
             [
              0.7777777777777778,
              "#fb9f3a"
             ],
             [
              0.8888888888888888,
              "#fdca26"
             ],
             [
              1,
              "#f0f921"
             ]
            ],
            "type": "surface"
           }
          ],
          "table": [
           {
            "cells": {
             "fill": {
              "color": "#EBF0F8"
             },
             "line": {
              "color": "white"
             }
            },
            "header": {
             "fill": {
              "color": "#C8D4E3"
             },
             "line": {
              "color": "white"
             }
            },
            "type": "table"
           }
          ]
         },
         "layout": {
          "annotationdefaults": {
           "arrowcolor": "#2a3f5f",
           "arrowhead": 0,
           "arrowwidth": 1
          },
          "autotypenumbers": "strict",
          "coloraxis": {
           "colorbar": {
            "outlinewidth": 0,
            "ticks": ""
           }
          },
          "colorscale": {
           "diverging": [
            [
             0,
             "#8e0152"
            ],
            [
             0.1,
             "#c51b7d"
            ],
            [
             0.2,
             "#de77ae"
            ],
            [
             0.3,
             "#f1b6da"
            ],
            [
             0.4,
             "#fde0ef"
            ],
            [
             0.5,
             "#f7f7f7"
            ],
            [
             0.6,
             "#e6f5d0"
            ],
            [
             0.7,
             "#b8e186"
            ],
            [
             0.8,
             "#7fbc41"
            ],
            [
             0.9,
             "#4d9221"
            ],
            [
             1,
             "#276419"
            ]
           ],
           "sequential": [
            [
             0,
             "#0d0887"
            ],
            [
             0.1111111111111111,
             "#46039f"
            ],
            [
             0.2222222222222222,
             "#7201a8"
            ],
            [
             0.3333333333333333,
             "#9c179e"
            ],
            [
             0.4444444444444444,
             "#bd3786"
            ],
            [
             0.5555555555555556,
             "#d8576b"
            ],
            [
             0.6666666666666666,
             "#ed7953"
            ],
            [
             0.7777777777777778,
             "#fb9f3a"
            ],
            [
             0.8888888888888888,
             "#fdca26"
            ],
            [
             1,
             "#f0f921"
            ]
           ],
           "sequentialminus": [
            [
             0,
             "#0d0887"
            ],
            [
             0.1111111111111111,
             "#46039f"
            ],
            [
             0.2222222222222222,
             "#7201a8"
            ],
            [
             0.3333333333333333,
             "#9c179e"
            ],
            [
             0.4444444444444444,
             "#bd3786"
            ],
            [
             0.5555555555555556,
             "#d8576b"
            ],
            [
             0.6666666666666666,
             "#ed7953"
            ],
            [
             0.7777777777777778,
             "#fb9f3a"
            ],
            [
             0.8888888888888888,
             "#fdca26"
            ],
            [
             1,
             "#f0f921"
            ]
           ]
          },
          "colorway": [
           "#636efa",
           "#EF553B",
           "#00cc96",
           "#ab63fa",
           "#FFA15A",
           "#19d3f3",
           "#FF6692",
           "#B6E880",
           "#FF97FF",
           "#FECB52"
          ],
          "font": {
           "color": "#2a3f5f"
          },
          "geo": {
           "bgcolor": "white",
           "lakecolor": "white",
           "landcolor": "#E5ECF6",
           "showlakes": true,
           "showland": true,
           "subunitcolor": "white"
          },
          "hoverlabel": {
           "align": "left"
          },
          "hovermode": "closest",
          "mapbox": {
           "style": "light"
          },
          "paper_bgcolor": "white",
          "plot_bgcolor": "#E5ECF6",
          "polar": {
           "angularaxis": {
            "gridcolor": "white",
            "linecolor": "white",
            "ticks": ""
           },
           "bgcolor": "#E5ECF6",
           "radialaxis": {
            "gridcolor": "white",
            "linecolor": "white",
            "ticks": ""
           }
          },
          "scene": {
           "xaxis": {
            "backgroundcolor": "#E5ECF6",
            "gridcolor": "white",
            "gridwidth": 2,
            "linecolor": "white",
            "showbackground": true,
            "ticks": "",
            "zerolinecolor": "white"
           },
           "yaxis": {
            "backgroundcolor": "#E5ECF6",
            "gridcolor": "white",
            "gridwidth": 2,
            "linecolor": "white",
            "showbackground": true,
            "ticks": "",
            "zerolinecolor": "white"
           },
           "zaxis": {
            "backgroundcolor": "#E5ECF6",
            "gridcolor": "white",
            "gridwidth": 2,
            "linecolor": "white",
            "showbackground": true,
            "ticks": "",
            "zerolinecolor": "white"
           }
          },
          "shapedefaults": {
           "line": {
            "color": "#2a3f5f"
           }
          },
          "ternary": {
           "aaxis": {
            "gridcolor": "white",
            "linecolor": "white",
            "ticks": ""
           },
           "baxis": {
            "gridcolor": "white",
            "linecolor": "white",
            "ticks": ""
           },
           "bgcolor": "#E5ECF6",
           "caxis": {
            "gridcolor": "white",
            "linecolor": "white",
            "ticks": ""
           }
          },
          "title": {
           "x": 0.05
          },
          "xaxis": {
           "automargin": true,
           "gridcolor": "white",
           "linecolor": "white",
           "ticks": "",
           "title": {
            "standoff": 15
           },
           "zerolinecolor": "white",
           "zerolinewidth": 2
          },
          "yaxis": {
           "automargin": true,
           "gridcolor": "white",
           "linecolor": "white",
           "ticks": "",
           "title": {
            "standoff": 15
           },
           "zerolinecolor": "white",
           "zerolinewidth": 2
          }
         }
        },
        "title": {
         "text": "Greenhouse Gas Emissions by Industry (2010-2016)"
        },
        "width": 1000,
        "xaxis": {
         "anchor": "y",
         "domain": [
          0,
          1
         ]
        },
        "xaxis2": {
         "anchor": "y2",
         "domain": [
          0,
          1
         ]
        },
        "xaxis3": {
         "anchor": "y3",
         "domain": [
          0,
          1
         ],
         "title": {
          "text": "Year"
         }
        },
        "yaxis": {
         "anchor": "x",
         "domain": [
          0.7333333333333334,
          1
         ],
         "title": {
          "text": "Emission Factors (kg/2018 USD)"
         }
        },
        "yaxis2": {
         "anchor": "x2",
         "domain": [
          0.3666666666666667,
          0.6333333333333333
         ],
         "title": {
          "text": "Emission Factors (kg/2018 USD)"
         }
        },
        "yaxis3": {
         "anchor": "x3",
         "domain": [
          0,
          0.26666666666666666
         ],
         "title": {
          "text": "Emission Factors (kg/2018 USD)"
         }
        }
       }
      }
     },
     "metadata": {},
     "output_type": "display_data"
    }
   ],
   "source": [
    "import pandas as pd\n",
    "import plotly.graph_objs as go\n",
    "from plotly.subplots import make_subplots\n",
    "\n",
    "# Read the CSV files\n",
    "utilities_df = pd.read_csv('2016_ind.csv')\n",
    "farms_df = pd.read_csv('frm_ind.csv')\n",
    "petroleum_df = pd.read_csv('pet_ind.csv')\n",
    "\n",
    "# Function to create interactive subplot visualization\n",
    "def create_multi_industry_visualization(utilities_df, farms_df, petroleum_df):\n",
    "    # Prepare data for each industry\n",
    "    industries = {\n",
    "        'Utilities': utilities_df,\n",
    "        'Farms': farms_df,\n",
    "        'Petroleum and Coal Products': petroleum_df\n",
    "    }\n",
    "    \n",
    "    # Create subplots\n",
    "    fig = make_subplots(\n",
    "        rows=3, cols=1, \n",
    "        subplot_titles=list(industries.keys()),\n",
    "        vertical_spacing=0.1\n",
    "    )\n",
    "    \n",
    "    # Color palette for substances\n",
    "    colors = {\n",
    "        'carbon dioxide': 'red',\n",
    "        'methane': 'blue', \n",
    "        'nitrous oxide': 'green',\n",
    "        'other GHGs': 'purple'\n",
    "    }\n",
    "    \n",
    "    # Add traces for each industry\n",
    "    for idx, (industry, df) in enumerate(industries.items(), 1):\n",
    "        substances = df['Substance'].unique()\n",
    "        \n",
    "        for substance in substances:\n",
    "            subset = df[df['Substance'] == substance]\n",
    "            fig.add_trace(\n",
    "                go.Scatter(\n",
    "                    x=subset['Year'], \n",
    "                    y=subset['Supply Chain Emission Factors with Margins'],\n",
    "                    mode='lines+markers',\n",
    "                    name=f'{industry} - {substance}',\n",
    "                    line=dict(color=colors.get(substance, 'gray')),\n",
    "                    hovertemplate=f'{industry} - {substance}<br>Year: %{{x}}<br>Emission Factor: %{{y:.4f}} kg/2018 USD<extra></extra>'\n",
    "                ),\n",
    "                row=idx, col=1\n",
    "            )\n",
    "    \n",
    "    # Update layout\n",
    "    fig.update_layout(\n",
    "        height=1200, \n",
    "        width=1000, \n",
    "        title_text='Greenhouse Gas Emissions by Industry (2010-2016)',\n",
    "        showlegend=True,\n",
    "        hovermode='closest'\n",
    "    )\n",
    "    \n",
    "    # Update y-axes titles\n",
    "    fig.update_yaxes(title_text='Emission Factors (kg/2018 USD)', row=1, col=1)\n",
    "    fig.update_yaxes(title_text='Emission Factors (kg/2018 USD)', row=2, col=1)\n",
    "    fig.update_yaxes(title_text='Emission Factors (kg/2018 USD)', row=3, col=1)\n",
    "    \n",
    "    # Update x-axes titles\n",
    "    fig.update_xaxes(title_text='Year', row=3, col=1)\n",
    "    \n",
    "    # Save the interactive plot\n",
    "    fig.write_html('multi_industry_emissions.html')\n",
    "    print(\"Interactive visualization saved as 'multi_industry_emissions.html'\")\n",
    "    fig.show()\n",
    "\n",
    "# Generate visualization\n",
    "create_multi_industry_visualization(utilities_df, farms_df, petroleum_df)"
   ]
  },
  {
   "cell_type": "markdown",
   "id": "917e7d70",
   "metadata": {},
   "source": [
    "# Create Braided Emissions Plot\n",
    "This cell creates a braided plot, which highlights the emission factors across different industries and substances, adding a visual distinction between them."
   ]
  },
  {
   "cell_type": "code",
   "execution_count": 5,
   "id": "0eade325-687d-464a-bad7-188eb11d7629",
   "metadata": {},
   "outputs": [
    {
     "name": "stdout",
     "output_type": "stream",
     "text": [
      "Braided plot saved as 'braided_industry_emissions.html'\n"
     ]
    },
    {
     "data": {
      "application/vnd.plotly.v1+json": {
       "config": {
        "plotlyServerURL": "https://plot.ly"
       },
       "data": [
        {
         "hovertemplate": "Utilities - carbon dioxide<br>Year: %{x}<br>Emission Factor: %{y:.4f} kg/2018 USD<extra></extra>",
         "line": {
          "color": "rgba(255, 0, 0, 0.7)",
          "shape": "spline",
          "width": 2
         },
         "mode": "lines+markers",
         "name": "Utilities - carbon dioxide",
         "type": "scatter",
         "x": [
          2016,
          2015,
          2014,
          2013,
          2012,
          2011,
          2010
         ],
         "y": [
          3.548,
          3.525,
          3.605,
          3.904,
          4.088,
          4.167999999999999,
          4.326
         ]
        },
        {
         "hovertemplate": "Utilities - methane<br>Year: %{x}<br>Emission Factor: %{y:.4f} kg/2018 USD<extra></extra>",
         "line": {
          "color": "rgba(255, 165, 0, 0.7)",
          "shape": "spline",
          "width": 2
         },
         "mode": "lines+markers",
         "name": "Utilities - methane",
         "type": "scatter",
         "x": [
          2016,
          2015,
          2014,
          2013,
          2012,
          2011,
          2010
         ],
         "y": [
          0.10500000000000001,
          0.10600000000000001,
          0.10600000000000001,
          0.10600000000000001,
          0.10600000000000001,
          0.10700000000000001,
          0.10800000000000001
         ]
        },
        {
         "hovertemplate": "Utilities - nitrous oxide<br>Year: %{x}<br>Emission Factor: %{y:.4f} kg/2018 USD<extra></extra>",
         "line": {
          "color": "rgba(255, 69, 0, 0.7)",
          "shape": "spline",
          "width": 2
         },
         "mode": "lines+markers",
         "name": "Utilities - nitrous oxide",
         "type": "scatter",
         "x": [
          2016,
          2015,
          2014,
          2013,
          2012,
          2011,
          2010
         ],
         "y": [
          0.1,
          0.1,
          0.1,
          0.1,
          0.1,
          0.1,
          0.1
         ]
        },
        {
         "hovertemplate": "Utilities - other GHGs<br>Year: %{x}<br>Emission Factor: %{y:.4f} kg/2018 USD<extra></extra>",
         "line": {
          "color": "rgba(220, 20, 60, 0.7)",
          "shape": "spline",
          "width": 2
         },
         "mode": "lines+markers",
         "name": "Utilities - other GHGs",
         "type": "scatter",
         "x": [
          2016,
          2015,
          2014,
          2013,
          2012,
          2011,
          2010
         ],
         "y": [
          0.111,
          0.111,
          0.111,
          0.112,
          0.113,
          0.115,
          0.114
         ]
        },
        {
         "hovertemplate": "Farms - carbon dioxide<br>Year: %{x}<br>Emission Factor: %{y:.4f} kg/2018 USD<extra></extra>",
         "line": {
          "color": "rgba(0, 128, 0, 0.7)",
          "shape": "spline",
          "width": 2
         },
         "mode": "lines+markers",
         "name": "Farms - carbon dioxide",
         "type": "scatter",
         "x": [
          2016,
          2015,
          2014,
          2013,
          2012,
          2011,
          2010
         ],
         "y": [
          0.51,
          0.465,
          0.437,
          0.454,
          0.484,
          0.486,
          0.582
         ]
        },
        {
         "hovertemplate": "Farms - methane<br>Year: %{x}<br>Emission Factor: %{y:.4f} kg/2018 USD<extra></extra>",
         "line": {
          "color": "rgba(34, 139, 34, 0.7)",
          "shape": "spline",
          "width": 2
         },
         "mode": "lines+markers",
         "name": "Farms - methane",
         "type": "scatter",
         "x": [
          2016,
          2015,
          2014,
          2013,
          2012,
          2011,
          2010
         ],
         "y": [
          0.026,
          0.023,
          0.02,
          0.02,
          0.022,
          0.024,
          0.03
         ]
        },
        {
         "hovertemplate": "Farms - nitrous oxide<br>Year: %{x}<br>Emission Factor: %{y:.4f} kg/2018 USD<extra></extra>",
         "line": {
          "color": "rgba(0, 255, 127, 0.7)",
          "shape": "spline",
          "width": 2
         },
         "mode": "lines+markers",
         "name": "Farms - nitrous oxide",
         "type": "scatter",
         "x": [
          2016,
          2015,
          2014,
          2013,
          2012,
          2011,
          2010
         ],
         "y": [
          0.002,
          0.002,
          0.002,
          0.002,
          0.002,
          0.002,
          0.003
         ]
        },
        {
         "hovertemplate": "Farms - other GHGs<br>Year: %{x}<br>Emission Factor: %{y:.4f} kg/2018 USD<extra></extra>",
         "line": {
          "color": "rgba(107, 142, 35, 0.7)",
          "shape": "spline",
          "width": 2
         },
         "mode": "lines+markers",
         "name": "Farms - other GHGs",
         "type": "scatter",
         "x": [
          2016,
          2015,
          2014,
          2013,
          2012,
          2011,
          2010
         ],
         "y": [
          0.004,
          0.004,
          0.004,
          0.003,
          0.004,
          0.005,
          0.005
         ]
        },
        {
         "hovertemplate": "Petroleum and Coal Products - carbon dioxide<br>Year: %{x}<br>Emission Factor: %{y:.4f} kg/2018 USD<extra></extra>",
         "line": {
          "color": "rgba(0, 0, 255, 0.7)",
          "shape": "spline",
          "width": 2
         },
         "mode": "lines+markers",
         "name": "Petroleum and Coal Products - carbon dioxide",
         "type": "scatter",
         "x": [
          2016,
          2015,
          2014,
          2013,
          2012,
          2011,
          2010
         ],
         "y": [
          0.6900000000000001,
          0.5800000000000001,
          0.43000000000000005,
          0.528,
          0.5,
          0.536,
          0.637
         ]
        },
        {
         "hovertemplate": "Petroleum and Coal Products - methane<br>Year: %{x}<br>Emission Factor: %{y:.4f} kg/2018 USD<extra></extra>",
         "line": {
          "color": "rgba(65, 105, 225, 0.7)",
          "shape": "spline",
          "width": 2
         },
         "mode": "lines+markers",
         "name": "Petroleum and Coal Products - methane",
         "type": "scatter",
         "x": [
          2016,
          2015,
          2014,
          2013,
          2012,
          2011,
          2010
         ],
         "y": [
          -0.082,
          -0.084,
          -0.08800000000000001,
          -0.08800000000000001,
          -0.08600000000000001,
          -0.08600000000000001,
          -0.083
         ]
        },
        {
         "hovertemplate": "Petroleum and Coal Products - nitrous oxide<br>Year: %{x}<br>Emission Factor: %{y:.4f} kg/2018 USD<extra></extra>",
         "line": {
          "color": "rgba(30, 144, 255, 0.7)",
          "shape": "spline",
          "width": 2
         },
         "mode": "lines+markers",
         "name": "Petroleum and Coal Products - nitrous oxide",
         "type": "scatter",
         "x": [
          2016,
          2015,
          2014,
          2013,
          2012,
          2011,
          2010
         ],
         "y": [
          -0.1,
          -0.1,
          -0.1,
          -0.1,
          -0.1,
          -0.1,
          -0.1
         ]
        },
        {
         "hovertemplate": "Petroleum and Coal Products - other GHGs<br>Year: %{x}<br>Emission Factor: %{y:.4f} kg/2018 USD<extra></extra>",
         "line": {
          "color": "rgba(0, 191, 255, 0.7)",
          "shape": "spline",
          "width": 2
         },
         "mode": "lines+markers",
         "name": "Petroleum and Coal Products - other GHGs",
         "type": "scatter",
         "x": [
          2016,
          2015,
          2014,
          2013,
          2012,
          2011,
          2010
         ],
         "y": [
          -0.096,
          -0.096,
          -0.097,
          -0.097,
          -0.097,
          -0.096,
          -0.097
         ]
        }
       ],
       "layout": {
        "height": 600,
        "hovermode": "closest",
        "legend": {
         "orientation": "h",
         "x": 1,
         "xanchor": "right",
         "y": 1.02,
         "yanchor": "bottom"
        },
        "plot_bgcolor": "white",
        "template": {
         "data": {
          "bar": [
           {
            "error_x": {
             "color": "#2a3f5f"
            },
            "error_y": {
             "color": "#2a3f5f"
            },
            "marker": {
             "line": {
              "color": "#E5ECF6",
              "width": 0.5
             },
             "pattern": {
              "fillmode": "overlay",
              "size": 10,
              "solidity": 0.2
             }
            },
            "type": "bar"
           }
          ],
          "barpolar": [
           {
            "marker": {
             "line": {
              "color": "#E5ECF6",
              "width": 0.5
             },
             "pattern": {
              "fillmode": "overlay",
              "size": 10,
              "solidity": 0.2
             }
            },
            "type": "barpolar"
           }
          ],
          "carpet": [
           {
            "aaxis": {
             "endlinecolor": "#2a3f5f",
             "gridcolor": "white",
             "linecolor": "white",
             "minorgridcolor": "white",
             "startlinecolor": "#2a3f5f"
            },
            "baxis": {
             "endlinecolor": "#2a3f5f",
             "gridcolor": "white",
             "linecolor": "white",
             "minorgridcolor": "white",
             "startlinecolor": "#2a3f5f"
            },
            "type": "carpet"
           }
          ],
          "choropleth": [
           {
            "colorbar": {
             "outlinewidth": 0,
             "ticks": ""
            },
            "type": "choropleth"
           }
          ],
          "contour": [
           {
            "colorbar": {
             "outlinewidth": 0,
             "ticks": ""
            },
            "colorscale": [
             [
              0,
              "#0d0887"
             ],
             [
              0.1111111111111111,
              "#46039f"
             ],
             [
              0.2222222222222222,
              "#7201a8"
             ],
             [
              0.3333333333333333,
              "#9c179e"
             ],
             [
              0.4444444444444444,
              "#bd3786"
             ],
             [
              0.5555555555555556,
              "#d8576b"
             ],
             [
              0.6666666666666666,
              "#ed7953"
             ],
             [
              0.7777777777777778,
              "#fb9f3a"
             ],
             [
              0.8888888888888888,
              "#fdca26"
             ],
             [
              1,
              "#f0f921"
             ]
            ],
            "type": "contour"
           }
          ],
          "contourcarpet": [
           {
            "colorbar": {
             "outlinewidth": 0,
             "ticks": ""
            },
            "type": "contourcarpet"
           }
          ],
          "heatmap": [
           {
            "colorbar": {
             "outlinewidth": 0,
             "ticks": ""
            },
            "colorscale": [
             [
              0,
              "#0d0887"
             ],
             [
              0.1111111111111111,
              "#46039f"
             ],
             [
              0.2222222222222222,
              "#7201a8"
             ],
             [
              0.3333333333333333,
              "#9c179e"
             ],
             [
              0.4444444444444444,
              "#bd3786"
             ],
             [
              0.5555555555555556,
              "#d8576b"
             ],
             [
              0.6666666666666666,
              "#ed7953"
             ],
             [
              0.7777777777777778,
              "#fb9f3a"
             ],
             [
              0.8888888888888888,
              "#fdca26"
             ],
             [
              1,
              "#f0f921"
             ]
            ],
            "type": "heatmap"
           }
          ],
          "heatmapgl": [
           {
            "colorbar": {
             "outlinewidth": 0,
             "ticks": ""
            },
            "colorscale": [
             [
              0,
              "#0d0887"
             ],
             [
              0.1111111111111111,
              "#46039f"
             ],
             [
              0.2222222222222222,
              "#7201a8"
             ],
             [
              0.3333333333333333,
              "#9c179e"
             ],
             [
              0.4444444444444444,
              "#bd3786"
             ],
             [
              0.5555555555555556,
              "#d8576b"
             ],
             [
              0.6666666666666666,
              "#ed7953"
             ],
             [
              0.7777777777777778,
              "#fb9f3a"
             ],
             [
              0.8888888888888888,
              "#fdca26"
             ],
             [
              1,
              "#f0f921"
             ]
            ],
            "type": "heatmapgl"
           }
          ],
          "histogram": [
           {
            "marker": {
             "pattern": {
              "fillmode": "overlay",
              "size": 10,
              "solidity": 0.2
             }
            },
            "type": "histogram"
           }
          ],
          "histogram2d": [
           {
            "colorbar": {
             "outlinewidth": 0,
             "ticks": ""
            },
            "colorscale": [
             [
              0,
              "#0d0887"
             ],
             [
              0.1111111111111111,
              "#46039f"
             ],
             [
              0.2222222222222222,
              "#7201a8"
             ],
             [
              0.3333333333333333,
              "#9c179e"
             ],
             [
              0.4444444444444444,
              "#bd3786"
             ],
             [
              0.5555555555555556,
              "#d8576b"
             ],
             [
              0.6666666666666666,
              "#ed7953"
             ],
             [
              0.7777777777777778,
              "#fb9f3a"
             ],
             [
              0.8888888888888888,
              "#fdca26"
             ],
             [
              1,
              "#f0f921"
             ]
            ],
            "type": "histogram2d"
           }
          ],
          "histogram2dcontour": [
           {
            "colorbar": {
             "outlinewidth": 0,
             "ticks": ""
            },
            "colorscale": [
             [
              0,
              "#0d0887"
             ],
             [
              0.1111111111111111,
              "#46039f"
             ],
             [
              0.2222222222222222,
              "#7201a8"
             ],
             [
              0.3333333333333333,
              "#9c179e"
             ],
             [
              0.4444444444444444,
              "#bd3786"
             ],
             [
              0.5555555555555556,
              "#d8576b"
             ],
             [
              0.6666666666666666,
              "#ed7953"
             ],
             [
              0.7777777777777778,
              "#fb9f3a"
             ],
             [
              0.8888888888888888,
              "#fdca26"
             ],
             [
              1,
              "#f0f921"
             ]
            ],
            "type": "histogram2dcontour"
           }
          ],
          "mesh3d": [
           {
            "colorbar": {
             "outlinewidth": 0,
             "ticks": ""
            },
            "type": "mesh3d"
           }
          ],
          "parcoords": [
           {
            "line": {
             "colorbar": {
              "outlinewidth": 0,
              "ticks": ""
             }
            },
            "type": "parcoords"
           }
          ],
          "pie": [
           {
            "automargin": true,
            "type": "pie"
           }
          ],
          "scatter": [
           {
            "fillpattern": {
             "fillmode": "overlay",
             "size": 10,
             "solidity": 0.2
            },
            "type": "scatter"
           }
          ],
          "scatter3d": [
           {
            "line": {
             "colorbar": {
              "outlinewidth": 0,
              "ticks": ""
             }
            },
            "marker": {
             "colorbar": {
              "outlinewidth": 0,
              "ticks": ""
             }
            },
            "type": "scatter3d"
           }
          ],
          "scattercarpet": [
           {
            "marker": {
             "colorbar": {
              "outlinewidth": 0,
              "ticks": ""
             }
            },
            "type": "scattercarpet"
           }
          ],
          "scattergeo": [
           {
            "marker": {
             "colorbar": {
              "outlinewidth": 0,
              "ticks": ""
             }
            },
            "type": "scattergeo"
           }
          ],
          "scattergl": [
           {
            "marker": {
             "colorbar": {
              "outlinewidth": 0,
              "ticks": ""
             }
            },
            "type": "scattergl"
           }
          ],
          "scattermapbox": [
           {
            "marker": {
             "colorbar": {
              "outlinewidth": 0,
              "ticks": ""
             }
            },
            "type": "scattermapbox"
           }
          ],
          "scatterpolar": [
           {
            "marker": {
             "colorbar": {
              "outlinewidth": 0,
              "ticks": ""
             }
            },
            "type": "scatterpolar"
           }
          ],
          "scatterpolargl": [
           {
            "marker": {
             "colorbar": {
              "outlinewidth": 0,
              "ticks": ""
             }
            },
            "type": "scatterpolargl"
           }
          ],
          "scatterternary": [
           {
            "marker": {
             "colorbar": {
              "outlinewidth": 0,
              "ticks": ""
             }
            },
            "type": "scatterternary"
           }
          ],
          "surface": [
           {
            "colorbar": {
             "outlinewidth": 0,
             "ticks": ""
            },
            "colorscale": [
             [
              0,
              "#0d0887"
             ],
             [
              0.1111111111111111,
              "#46039f"
             ],
             [
              0.2222222222222222,
              "#7201a8"
             ],
             [
              0.3333333333333333,
              "#9c179e"
             ],
             [
              0.4444444444444444,
              "#bd3786"
             ],
             [
              0.5555555555555556,
              "#d8576b"
             ],
             [
              0.6666666666666666,
              "#ed7953"
             ],
             [
              0.7777777777777778,
              "#fb9f3a"
             ],
             [
              0.8888888888888888,
              "#fdca26"
             ],
             [
              1,
              "#f0f921"
             ]
            ],
            "type": "surface"
           }
          ],
          "table": [
           {
            "cells": {
             "fill": {
              "color": "#EBF0F8"
             },
             "line": {
              "color": "white"
             }
            },
            "header": {
             "fill": {
              "color": "#C8D4E3"
             },
             "line": {
              "color": "white"
             }
            },
            "type": "table"
           }
          ]
         },
         "layout": {
          "annotationdefaults": {
           "arrowcolor": "#2a3f5f",
           "arrowhead": 0,
           "arrowwidth": 1
          },
          "autotypenumbers": "strict",
          "coloraxis": {
           "colorbar": {
            "outlinewidth": 0,
            "ticks": ""
           }
          },
          "colorscale": {
           "diverging": [
            [
             0,
             "#8e0152"
            ],
            [
             0.1,
             "#c51b7d"
            ],
            [
             0.2,
             "#de77ae"
            ],
            [
             0.3,
             "#f1b6da"
            ],
            [
             0.4,
             "#fde0ef"
            ],
            [
             0.5,
             "#f7f7f7"
            ],
            [
             0.6,
             "#e6f5d0"
            ],
            [
             0.7,
             "#b8e186"
            ],
            [
             0.8,
             "#7fbc41"
            ],
            [
             0.9,
             "#4d9221"
            ],
            [
             1,
             "#276419"
            ]
           ],
           "sequential": [
            [
             0,
             "#0d0887"
            ],
            [
             0.1111111111111111,
             "#46039f"
            ],
            [
             0.2222222222222222,
             "#7201a8"
            ],
            [
             0.3333333333333333,
             "#9c179e"
            ],
            [
             0.4444444444444444,
             "#bd3786"
            ],
            [
             0.5555555555555556,
             "#d8576b"
            ],
            [
             0.6666666666666666,
             "#ed7953"
            ],
            [
             0.7777777777777778,
             "#fb9f3a"
            ],
            [
             0.8888888888888888,
             "#fdca26"
            ],
            [
             1,
             "#f0f921"
            ]
           ],
           "sequentialminus": [
            [
             0,
             "#0d0887"
            ],
            [
             0.1111111111111111,
             "#46039f"
            ],
            [
             0.2222222222222222,
             "#7201a8"
            ],
            [
             0.3333333333333333,
             "#9c179e"
            ],
            [
             0.4444444444444444,
             "#bd3786"
            ],
            [
             0.5555555555555556,
             "#d8576b"
            ],
            [
             0.6666666666666666,
             "#ed7953"
            ],
            [
             0.7777777777777778,
             "#fb9f3a"
            ],
            [
             0.8888888888888888,
             "#fdca26"
            ],
            [
             1,
             "#f0f921"
            ]
           ]
          },
          "colorway": [
           "#636efa",
           "#EF553B",
           "#00cc96",
           "#ab63fa",
           "#FFA15A",
           "#19d3f3",
           "#FF6692",
           "#B6E880",
           "#FF97FF",
           "#FECB52"
          ],
          "font": {
           "color": "#2a3f5f"
          },
          "geo": {
           "bgcolor": "white",
           "lakecolor": "white",
           "landcolor": "#E5ECF6",
           "showlakes": true,
           "showland": true,
           "subunitcolor": "white"
          },
          "hoverlabel": {
           "align": "left"
          },
          "hovermode": "closest",
          "mapbox": {
           "style": "light"
          },
          "paper_bgcolor": "white",
          "plot_bgcolor": "#E5ECF6",
          "polar": {
           "angularaxis": {
            "gridcolor": "white",
            "linecolor": "white",
            "ticks": ""
           },
           "bgcolor": "#E5ECF6",
           "radialaxis": {
            "gridcolor": "white",
            "linecolor": "white",
            "ticks": ""
           }
          },
          "scene": {
           "xaxis": {
            "backgroundcolor": "#E5ECF6",
            "gridcolor": "white",
            "gridwidth": 2,
            "linecolor": "white",
            "showbackground": true,
            "ticks": "",
            "zerolinecolor": "white"
           },
           "yaxis": {
            "backgroundcolor": "#E5ECF6",
            "gridcolor": "white",
            "gridwidth": 2,
            "linecolor": "white",
            "showbackground": true,
            "ticks": "",
            "zerolinecolor": "white"
           },
           "zaxis": {
            "backgroundcolor": "#E5ECF6",
            "gridcolor": "white",
            "gridwidth": 2,
            "linecolor": "white",
            "showbackground": true,
            "ticks": "",
            "zerolinecolor": "white"
           }
          },
          "shapedefaults": {
           "line": {
            "color": "#2a3f5f"
           }
          },
          "ternary": {
           "aaxis": {
            "gridcolor": "white",
            "linecolor": "white",
            "ticks": ""
           },
           "baxis": {
            "gridcolor": "white",
            "linecolor": "white",
            "ticks": ""
           },
           "bgcolor": "#E5ECF6",
           "caxis": {
            "gridcolor": "white",
            "linecolor": "white",
            "ticks": ""
           }
          },
          "title": {
           "x": 0.05
          },
          "xaxis": {
           "automargin": true,
           "gridcolor": "white",
           "linecolor": "white",
           "ticks": "",
           "title": {
            "standoff": 15
           },
           "zerolinecolor": "white",
           "zerolinewidth": 2
          },
          "yaxis": {
           "automargin": true,
           "gridcolor": "white",
           "linecolor": "white",
           "ticks": "",
           "title": {
            "standoff": 15
           },
           "zerolinecolor": "white",
           "zerolinewidth": 2
          }
         }
        },
        "width": 1000,
        "xaxis": {
         "gridcolor": "lightgray",
         "linecolor": "black",
         "linewidth": 1,
         "showline": true,
         "title": {
          "text": "Year"
         }
        },
        "yaxis": {
         "gridcolor": "lightgray",
         "linecolor": "black",
         "linewidth": 1,
         "showline": true,
         "title": {
          "text": "Emission Factors (kg/2018 USD)"
         }
        }
       }
      }
     },
     "metadata": {},
     "output_type": "display_data"
    }
   ],
   "source": [
    "import pandas as pd\n",
    "import plotly.graph_objs as go\n",
    "\n",
    "def create_braided_emissions_plot(utilities_df, farms_df, petroleum_df):\n",
    "    \"\"\"\n",
    "    Create a braided plot for greenhouse gas emissions across multiple industries.\n",
    "    \n",
    "    Args:\n",
    "    - utilities_df (pd.DataFrame): Utilities industry emissions data\n",
    "    - farms_df (pd.DataFrame): Farms industry emissions data\n",
    "    - petroleum_df (pd.DataFrame): Petroleum and Coal Products industry emissions data\n",
    "    \n",
    "    Returns:\n",
    "    - plotly.graph_objs.Figure: Interactive braided emissions plot\n",
    "    \"\"\"\n",
    "    # Color palette for industries and substances\n",
    "    colors = {\n",
    "        'Utilities': {\n",
    "            'carbon dioxide': 'rgba(255, 0, 0, 0.7)',   # Red with transparency\n",
    "            'methane': 'rgba(255, 165, 0, 0.7)',        # Orange with transparency\n",
    "            'nitrous oxide': 'rgba(255, 69, 0, 0.7)',   # Red-Orange with transparency\n",
    "            'other GHGs': 'rgba(220, 20, 60, 0.7)'      # Crimson with transparency\n",
    "        },\n",
    "        'Farms': {\n",
    "            'carbon dioxide': 'rgba(0, 128, 0, 0.7)',   # Green with transparency\n",
    "            'methane': 'rgba(34, 139, 34, 0.7)',        # Forest Green with transparency\n",
    "            'nitrous oxide': 'rgba(0, 255, 127, 0.7)',  # Spring Green with transparency\n",
    "            'other GHGs': 'rgba(107, 142, 35, 0.7)'     # Olive Drab with transparency\n",
    "        },\n",
    "        'Petroleum and Coal Products': {\n",
    "            'carbon dioxide': 'rgba(0, 0, 255, 0.7)',   # Blue with transparency\n",
    "            'methane': 'rgba(65, 105, 225, 0.7)',       # Royal Blue with transparency\n",
    "            'nitrous oxide': 'rgba(30, 144, 255, 0.7)', # Dodger Blue with transparency\n",
    "            'other GHGs': 'rgba(0, 191, 255, 0.7)'      # Deep Sky Blue with transparency\n",
    "        }\n",
    "    }\n",
    "    \n",
    "    # Prepare traces for the braided plot\n",
    "    traces = []\n",
    "    \n",
    "    # Offset factors to create a braided effect\n",
    "    offsets = {\n",
    "        'Utilities': 0.1,\n",
    "        'Farms': 0,\n",
    "        'Petroleum and Coal Products': -0.1\n",
    "    }\n",
    "    \n",
    "    # Create traces for each industry and substance\n",
    "    for industry, df in [('Utilities', utilities_df), ('Farms', farms_df), ('Petroleum and Coal Products', petroleum_df)]:\n",
    "        substances = df['Substance'].unique()\n",
    "        \n",
    "        for substance in substances:\n",
    "            subset = df[df['Substance'] == substance]\n",
    "            \n",
    "            # Create a trace with a slight vertical offset\n",
    "            trace = go.Scatter(\n",
    "                x=subset['Year'],\n",
    "                y=subset['Supply Chain Emission Factors with Margins'] + offsets[industry],\n",
    "                mode='lines+markers',\n",
    "                name=f'{industry} - {substance}',\n",
    "                line=dict(\n",
    "                    color=colors[industry][substance],\n",
    "                    width=2,\n",
    "                    shape='spline'  # Use spline interpolation for smoother lines\n",
    "                ),\n",
    "                hovertemplate=f'{industry} - {substance}<br>Year: %{{x}}<br>Emission Factor: %{{y:.4f}} kg/2018 USD<extra></extra>'\n",
    "            )\n",
    "            traces.append(trace)\n",
    "    \n",
    "    # Create the figure layout\n",
    "    layout = go.Layout(\n",
    "        xaxis=dict(\n",
    "            title='Year',\n",
    "            gridcolor='lightgray',\n",
    "            showline=True,\n",
    "            linewidth=1,\n",
    "            linecolor='black'\n",
    "        ),\n",
    "        yaxis=dict(\n",
    "            title='Emission Factors (kg/2018 USD)',\n",
    "            gridcolor='lightgray',\n",
    "            showline=True,\n",
    "            linewidth=1,\n",
    "            linecolor='black'\n",
    "        ),\n",
    "        height=600,\n",
    "        width=1000,\n",
    "        hovermode='closest',\n",
    "        legend=dict(\n",
    "            orientation='h',\n",
    "            yanchor='bottom',\n",
    "            y=1.02,\n",
    "            xanchor='right',\n",
    "            x=1\n",
    "        ),\n",
    "        plot_bgcolor='white'\n",
    "    )\n",
    "    \n",
    "    # Create figure\n",
    "    fig = go.Figure(data=traces, layout=layout)\n",
    "    \n",
    "    # Save the interactive plot\n",
    "    fig.write_html('braided_industry_emissions.html')\n",
    "    print(\"Braided plot saved as 'braided_industry_emissions.html'\")\n",
    "    fig.show()\n",
    "    return fig\n",
    "\n",
    "# Example usage (replace with your actual data loading)\n",
    "def main():\n",
    "    # Read the CSV files\n",
    "    utilities_df = pd.read_csv('2016_ind.csv')\n",
    "    farms_df = pd.read_csv('frm_ind.csv')\n",
    "    petroleum_df = pd.read_csv('pet_ind.csv')\n",
    "    \n",
    "    # Create the braided plot\n",
    "    create_braided_emissions_plot(utilities_df, farms_df, petroleum_df)\n",
    "\n",
    "if __name__ == '__main__':\n",
    "    main()"
   ]
  },
  {
   "cell_type": "code",
   "execution_count": 6,
   "id": "a9b3223c-c1f0-4efe-9e5b-a16c8393ec17",
   "metadata": {},
   "outputs": [
    {
     "data": {
      "application/vnd.plotly.v1+json": {
       "config": {
        "plotlyServerURL": "https://plot.ly"
       },
       "data": [
        {
         "name": "Utilities",
         "type": "bar",
         "x": [
          "carbon dioxide",
          "methane",
          "nitrous oxide",
          "other GHGs"
         ],
         "y": [
          3.7805714285714282,
          0.006285714285714285,
          0,
          0.012428571428571428
         ]
        },
        {
         "name": "Farms",
         "type": "bar",
         "x": [
          "carbon dioxide",
          "methane",
          "nitrous oxide",
          "other GHGs"
         ],
         "y": [
          0.4882857142857143,
          0.023571428571428573,
          0.002142857142857143,
          0.0041428571428571434
         ]
        },
        {
         "name": "Petroleum and Coal Products",
         "type": "bar",
         "x": [
          "carbon dioxide",
          "methane",
          "nitrous oxide",
          "other GHGs"
         ],
         "y": [
          0.6572857142857143,
          0.014714285714285716,
          0,
          0.003428571428571429
         ]
        },
        {
         "name": "Water Transportation",
         "type": "bar",
         "x": [
          "carbon dioxide",
          "methane",
          "nitrous oxide",
          "other GHGs"
         ],
         "y": [
          0.6885714285714286,
          0.002428571428571429,
          0,
          0.04328571428571428
         ]
        },
        {
         "name": "Air Transportation",
         "type": "bar",
         "x": [
          "carbon dioxide",
          "methane",
          "nitrous oxide",
          "other GHGs"
         ],
         "y": [
          0.9177142857142856,
          0.002857142857142857,
          0,
          0.002
         ]
        }
       ],
       "layout": {
        "barmode": "group",
        "template": {
         "data": {
          "bar": [
           {
            "error_x": {
             "color": "#2a3f5f"
            },
            "error_y": {
             "color": "#2a3f5f"
            },
            "marker": {
             "line": {
              "color": "#E5ECF6",
              "width": 0.5
             },
             "pattern": {
              "fillmode": "overlay",
              "size": 10,
              "solidity": 0.2
             }
            },
            "type": "bar"
           }
          ],
          "barpolar": [
           {
            "marker": {
             "line": {
              "color": "#E5ECF6",
              "width": 0.5
             },
             "pattern": {
              "fillmode": "overlay",
              "size": 10,
              "solidity": 0.2
             }
            },
            "type": "barpolar"
           }
          ],
          "carpet": [
           {
            "aaxis": {
             "endlinecolor": "#2a3f5f",
             "gridcolor": "white",
             "linecolor": "white",
             "minorgridcolor": "white",
             "startlinecolor": "#2a3f5f"
            },
            "baxis": {
             "endlinecolor": "#2a3f5f",
             "gridcolor": "white",
             "linecolor": "white",
             "minorgridcolor": "white",
             "startlinecolor": "#2a3f5f"
            },
            "type": "carpet"
           }
          ],
          "choropleth": [
           {
            "colorbar": {
             "outlinewidth": 0,
             "ticks": ""
            },
            "type": "choropleth"
           }
          ],
          "contour": [
           {
            "colorbar": {
             "outlinewidth": 0,
             "ticks": ""
            },
            "colorscale": [
             [
              0,
              "#0d0887"
             ],
             [
              0.1111111111111111,
              "#46039f"
             ],
             [
              0.2222222222222222,
              "#7201a8"
             ],
             [
              0.3333333333333333,
              "#9c179e"
             ],
             [
              0.4444444444444444,
              "#bd3786"
             ],
             [
              0.5555555555555556,
              "#d8576b"
             ],
             [
              0.6666666666666666,
              "#ed7953"
             ],
             [
              0.7777777777777778,
              "#fb9f3a"
             ],
             [
              0.8888888888888888,
              "#fdca26"
             ],
             [
              1,
              "#f0f921"
             ]
            ],
            "type": "contour"
           }
          ],
          "contourcarpet": [
           {
            "colorbar": {
             "outlinewidth": 0,
             "ticks": ""
            },
            "type": "contourcarpet"
           }
          ],
          "heatmap": [
           {
            "colorbar": {
             "outlinewidth": 0,
             "ticks": ""
            },
            "colorscale": [
             [
              0,
              "#0d0887"
             ],
             [
              0.1111111111111111,
              "#46039f"
             ],
             [
              0.2222222222222222,
              "#7201a8"
             ],
             [
              0.3333333333333333,
              "#9c179e"
             ],
             [
              0.4444444444444444,
              "#bd3786"
             ],
             [
              0.5555555555555556,
              "#d8576b"
             ],
             [
              0.6666666666666666,
              "#ed7953"
             ],
             [
              0.7777777777777778,
              "#fb9f3a"
             ],
             [
              0.8888888888888888,
              "#fdca26"
             ],
             [
              1,
              "#f0f921"
             ]
            ],
            "type": "heatmap"
           }
          ],
          "heatmapgl": [
           {
            "colorbar": {
             "outlinewidth": 0,
             "ticks": ""
            },
            "colorscale": [
             [
              0,
              "#0d0887"
             ],
             [
              0.1111111111111111,
              "#46039f"
             ],
             [
              0.2222222222222222,
              "#7201a8"
             ],
             [
              0.3333333333333333,
              "#9c179e"
             ],
             [
              0.4444444444444444,
              "#bd3786"
             ],
             [
              0.5555555555555556,
              "#d8576b"
             ],
             [
              0.6666666666666666,
              "#ed7953"
             ],
             [
              0.7777777777777778,
              "#fb9f3a"
             ],
             [
              0.8888888888888888,
              "#fdca26"
             ],
             [
              1,
              "#f0f921"
             ]
            ],
            "type": "heatmapgl"
           }
          ],
          "histogram": [
           {
            "marker": {
             "pattern": {
              "fillmode": "overlay",
              "size": 10,
              "solidity": 0.2
             }
            },
            "type": "histogram"
           }
          ],
          "histogram2d": [
           {
            "colorbar": {
             "outlinewidth": 0,
             "ticks": ""
            },
            "colorscale": [
             [
              0,
              "#0d0887"
             ],
             [
              0.1111111111111111,
              "#46039f"
             ],
             [
              0.2222222222222222,
              "#7201a8"
             ],
             [
              0.3333333333333333,
              "#9c179e"
             ],
             [
              0.4444444444444444,
              "#bd3786"
             ],
             [
              0.5555555555555556,
              "#d8576b"
             ],
             [
              0.6666666666666666,
              "#ed7953"
             ],
             [
              0.7777777777777778,
              "#fb9f3a"
             ],
             [
              0.8888888888888888,
              "#fdca26"
             ],
             [
              1,
              "#f0f921"
             ]
            ],
            "type": "histogram2d"
           }
          ],
          "histogram2dcontour": [
           {
            "colorbar": {
             "outlinewidth": 0,
             "ticks": ""
            },
            "colorscale": [
             [
              0,
              "#0d0887"
             ],
             [
              0.1111111111111111,
              "#46039f"
             ],
             [
              0.2222222222222222,
              "#7201a8"
             ],
             [
              0.3333333333333333,
              "#9c179e"
             ],
             [
              0.4444444444444444,
              "#bd3786"
             ],
             [
              0.5555555555555556,
              "#d8576b"
             ],
             [
              0.6666666666666666,
              "#ed7953"
             ],
             [
              0.7777777777777778,
              "#fb9f3a"
             ],
             [
              0.8888888888888888,
              "#fdca26"
             ],
             [
              1,
              "#f0f921"
             ]
            ],
            "type": "histogram2dcontour"
           }
          ],
          "mesh3d": [
           {
            "colorbar": {
             "outlinewidth": 0,
             "ticks": ""
            },
            "type": "mesh3d"
           }
          ],
          "parcoords": [
           {
            "line": {
             "colorbar": {
              "outlinewidth": 0,
              "ticks": ""
             }
            },
            "type": "parcoords"
           }
          ],
          "pie": [
           {
            "automargin": true,
            "type": "pie"
           }
          ],
          "scatter": [
           {
            "fillpattern": {
             "fillmode": "overlay",
             "size": 10,
             "solidity": 0.2
            },
            "type": "scatter"
           }
          ],
          "scatter3d": [
           {
            "line": {
             "colorbar": {
              "outlinewidth": 0,
              "ticks": ""
             }
            },
            "marker": {
             "colorbar": {
              "outlinewidth": 0,
              "ticks": ""
             }
            },
            "type": "scatter3d"
           }
          ],
          "scattercarpet": [
           {
            "marker": {
             "colorbar": {
              "outlinewidth": 0,
              "ticks": ""
             }
            },
            "type": "scattercarpet"
           }
          ],
          "scattergeo": [
           {
            "marker": {
             "colorbar": {
              "outlinewidth": 0,
              "ticks": ""
             }
            },
            "type": "scattergeo"
           }
          ],
          "scattergl": [
           {
            "marker": {
             "colorbar": {
              "outlinewidth": 0,
              "ticks": ""
             }
            },
            "type": "scattergl"
           }
          ],
          "scattermapbox": [
           {
            "marker": {
             "colorbar": {
              "outlinewidth": 0,
              "ticks": ""
             }
            },
            "type": "scattermapbox"
           }
          ],
          "scatterpolar": [
           {
            "marker": {
             "colorbar": {
              "outlinewidth": 0,
              "ticks": ""
             }
            },
            "type": "scatterpolar"
           }
          ],
          "scatterpolargl": [
           {
            "marker": {
             "colorbar": {
              "outlinewidth": 0,
              "ticks": ""
             }
            },
            "type": "scatterpolargl"
           }
          ],
          "scatterternary": [
           {
            "marker": {
             "colorbar": {
              "outlinewidth": 0,
              "ticks": ""
             }
            },
            "type": "scatterternary"
           }
          ],
          "surface": [
           {
            "colorbar": {
             "outlinewidth": 0,
             "ticks": ""
            },
            "colorscale": [
             [
              0,
              "#0d0887"
             ],
             [
              0.1111111111111111,
              "#46039f"
             ],
             [
              0.2222222222222222,
              "#7201a8"
             ],
             [
              0.3333333333333333,
              "#9c179e"
             ],
             [
              0.4444444444444444,
              "#bd3786"
             ],
             [
              0.5555555555555556,
              "#d8576b"
             ],
             [
              0.6666666666666666,
              "#ed7953"
             ],
             [
              0.7777777777777778,
              "#fb9f3a"
             ],
             [
              0.8888888888888888,
              "#fdca26"
             ],
             [
              1,
              "#f0f921"
             ]
            ],
            "type": "surface"
           }
          ],
          "table": [
           {
            "cells": {
             "fill": {
              "color": "#EBF0F8"
             },
             "line": {
              "color": "white"
             }
            },
            "header": {
             "fill": {
              "color": "#C8D4E3"
             },
             "line": {
              "color": "white"
             }
            },
            "type": "table"
           }
          ]
         },
         "layout": {
          "annotationdefaults": {
           "arrowcolor": "#2a3f5f",
           "arrowhead": 0,
           "arrowwidth": 1
          },
          "autotypenumbers": "strict",
          "coloraxis": {
           "colorbar": {
            "outlinewidth": 0,
            "ticks": ""
           }
          },
          "colorscale": {
           "diverging": [
            [
             0,
             "#8e0152"
            ],
            [
             0.1,
             "#c51b7d"
            ],
            [
             0.2,
             "#de77ae"
            ],
            [
             0.3,
             "#f1b6da"
            ],
            [
             0.4,
             "#fde0ef"
            ],
            [
             0.5,
             "#f7f7f7"
            ],
            [
             0.6,
             "#e6f5d0"
            ],
            [
             0.7,
             "#b8e186"
            ],
            [
             0.8,
             "#7fbc41"
            ],
            [
             0.9,
             "#4d9221"
            ],
            [
             1,
             "#276419"
            ]
           ],
           "sequential": [
            [
             0,
             "#0d0887"
            ],
            [
             0.1111111111111111,
             "#46039f"
            ],
            [
             0.2222222222222222,
             "#7201a8"
            ],
            [
             0.3333333333333333,
             "#9c179e"
            ],
            [
             0.4444444444444444,
             "#bd3786"
            ],
            [
             0.5555555555555556,
             "#d8576b"
            ],
            [
             0.6666666666666666,
             "#ed7953"
            ],
            [
             0.7777777777777778,
             "#fb9f3a"
            ],
            [
             0.8888888888888888,
             "#fdca26"
            ],
            [
             1,
             "#f0f921"
            ]
           ],
           "sequentialminus": [
            [
             0,
             "#0d0887"
            ],
            [
             0.1111111111111111,
             "#46039f"
            ],
            [
             0.2222222222222222,
             "#7201a8"
            ],
            [
             0.3333333333333333,
             "#9c179e"
            ],
            [
             0.4444444444444444,
             "#bd3786"
            ],
            [
             0.5555555555555556,
             "#d8576b"
            ],
            [
             0.6666666666666666,
             "#ed7953"
            ],
            [
             0.7777777777777778,
             "#fb9f3a"
            ],
            [
             0.8888888888888888,
             "#fdca26"
            ],
            [
             1,
             "#f0f921"
            ]
           ]
          },
          "colorway": [
           "#636efa",
           "#EF553B",
           "#00cc96",
           "#ab63fa",
           "#FFA15A",
           "#19d3f3",
           "#FF6692",
           "#B6E880",
           "#FF97FF",
           "#FECB52"
          ],
          "font": {
           "color": "#2a3f5f"
          },
          "geo": {
           "bgcolor": "white",
           "lakecolor": "white",
           "landcolor": "#E5ECF6",
           "showlakes": true,
           "showland": true,
           "subunitcolor": "white"
          },
          "hoverlabel": {
           "align": "left"
          },
          "hovermode": "closest",
          "mapbox": {
           "style": "light"
          },
          "paper_bgcolor": "white",
          "plot_bgcolor": "#E5ECF6",
          "polar": {
           "angularaxis": {
            "gridcolor": "white",
            "linecolor": "white",
            "ticks": ""
           },
           "bgcolor": "#E5ECF6",
           "radialaxis": {
            "gridcolor": "white",
            "linecolor": "white",
            "ticks": ""
           }
          },
          "scene": {
           "xaxis": {
            "backgroundcolor": "#E5ECF6",
            "gridcolor": "white",
            "gridwidth": 2,
            "linecolor": "white",
            "showbackground": true,
            "ticks": "",
            "zerolinecolor": "white"
           },
           "yaxis": {
            "backgroundcolor": "#E5ECF6",
            "gridcolor": "white",
            "gridwidth": 2,
            "linecolor": "white",
            "showbackground": true,
            "ticks": "",
            "zerolinecolor": "white"
           },
           "zaxis": {
            "backgroundcolor": "#E5ECF6",
            "gridcolor": "white",
            "gridwidth": 2,
            "linecolor": "white",
            "showbackground": true,
            "ticks": "",
            "zerolinecolor": "white"
           }
          },
          "shapedefaults": {
           "line": {
            "color": "#2a3f5f"
           }
          },
          "ternary": {
           "aaxis": {
            "gridcolor": "white",
            "linecolor": "white",
            "ticks": ""
           },
           "baxis": {
            "gridcolor": "white",
            "linecolor": "white",
            "ticks": ""
           },
           "bgcolor": "#E5ECF6",
           "caxis": {
            "gridcolor": "white",
            "linecolor": "white",
            "ticks": ""
           }
          },
          "title": {
           "x": 0.05
          },
          "xaxis": {
           "automargin": true,
           "gridcolor": "white",
           "linecolor": "white",
           "ticks": "",
           "title": {
            "standoff": 15
           },
           "zerolinecolor": "white",
           "zerolinewidth": 2
          },
          "yaxis": {
           "automargin": true,
           "gridcolor": "white",
           "linecolor": "white",
           "ticks": "",
           "title": {
            "standoff": 15
           },
           "zerolinecolor": "white",
           "zerolinewidth": 2
          }
         }
        },
        "title": {
         "text": "Average Supply Chain Emission Factors by Substance and Industry"
        },
        "xaxis": {
         "title": {
          "text": "Substance"
         }
        },
        "yaxis": {
         "title": {
          "text": "Emission Factors (kg/2018 USD)"
         }
        }
       }
      }
     },
     "metadata": {},
     "output_type": "display_data"
    },
    {
     "data": {
      "image/png": "[encoded data removed]",
      "text/plain": [
       "<Figure size 1000x600 with 2 Axes>"
      ]
     },
     "metadata": {},
     "output_type": "display_data"
    },
    {
     "data": {
      "image/png": "[encoded data removed]",
      "text/plain": [
       "<Figure size 1200x600 with 1 Axes>"
      ]
     },
     "metadata": {},
     "output_type": "display_data"
    },
    {
     "name": "stdout",
     "output_type": "stream",
     "text": [
      "Visualizations have been created and saved.\n"
     ]
    }
   ],
   "source": [
    "import pandas as pd\n",
    "import plotly.graph_objs as go\n",
    "import plotly.io as pio\n",
    "import matplotlib.pyplot as plt\n",
    "import seaborn as sns\n",
    "\n",
    "# Read the CSV files\n",
    "utilities_df = pd.read_csv('2016_ind.csv')\n",
    "farms_df = pd.read_csv('frm_ind.csv')\n",
    "petroleum_df = pd.read_csv('pet_ind.csv')\n",
    "water_df = pd.read_csv('wat_ind.csv')\n",
    "air_df = pd.read_csv('air_ind.csv')\n",
    "\n",
    "# Plotly Bar Chart\n",
    "def create_plotly_bar_chart():\n",
    "    # Prepare data for bar chart\n",
    "    substances = ['carbon dioxide', 'methane', 'nitrous oxide', 'other GHGs']\n",
    "    industries = {\n",
    "        'Utilities': utilities_df.groupby('Substance')['Supply Chain Emission Factors with Margins'].mean(),\n",
    "        'Farms': farms_df.groupby('Substance')['Supply Chain Emission Factors with Margins'].mean(),\n",
    "        'Petroleum and Coal Products': petroleum_df.groupby('Substance')['Supply Chain Emission Factors with Margins'].mean(),\n",
    "        'Water Transportation': water_df.groupby('Substance')['Supply Chain Emission Factors with Margins'].mean(),\n",
    "        'Air Transportation': air_df.groupby('Substance')['Supply Chain Emission Factors with Margins'].mean()\n",
    "    }\n",
    "    \n",
    "    # Create bar chart\n",
    "    fig = go.Figure()\n",
    "    for industry, data in industries.items():\n",
    "        fig.add_trace(go.Bar(\n",
    "            x=substances,\n",
    "            y=[data.get(substance, 0) for substance in substances],\n",
    "            name=industry\n",
    "        ))\n",
    "    \n",
    "    fig.update_layout(\n",
    "        title='Average Supply Chain Emission Factors by Substance and Industry',\n",
    "        xaxis_title='Substance',\n",
    "        yaxis_title='Emission Factors (kg/2018 USD)',\n",
    "        barmode='group'\n",
    "    )\n",
    "    \n",
    "    # Save the plot\n",
    "    pio.write_html(fig, file='emissions_bar_chart.html')\n",
    "    fig.show()\n",
    "\n",
    "# Matplotlib Heatmap\n",
    "def create_matplotlib_heatmap():\n",
    "    # Prepare data for heatmap\n",
    "    heatmap_data = pd.DataFrame({\n",
    "        'Utilities': utilities_df.groupby('Substance')['Supply Chain Emission Factors with Margins'].mean(),\n",
    "        'Farms': farms_df.groupby('Substance')['Supply Chain Emission Factors with Margins'].mean(),\n",
    "        'Petroleum and Coal Products': petroleum_df.groupby('Substance')['Supply Chain Emission Factors with Margins'].mean(),\n",
    "        'Water Transportation': water_df.groupby('Substance')['Supply Chain Emission Factors with Margins'].mean(),\n",
    "        'Air Transportation': air_df.groupby('Substance')['Supply Chain Emission Factors with Margins'].mean()\n",
    "    }).T\n",
    "    \n",
    "    # Create heatmap\n",
    "    plt.figure(figsize=(10, 6))\n",
    "    sns.heatmap(heatmap_data, annot=True, cmap='YlOrRd', fmt='.3f')\n",
    "    plt.title('Supply Chain Emission Factors Heatmap')\n",
    "    plt.xlabel('Substances')\n",
    "    plt.ylabel('Industries')\n",
    "    plt.tight_layout()\n",
    "    plt.savefig('emissions_heatmap.png')\n",
    "    plt.show()\n",
    "\n",
    "# Time Series Line Plot\n",
    "def create_time_series_plot():\n",
    "    # Prepare data for time series\n",
    "    plt.figure(figsize=(12, 6))\n",
    "    \n",
    "    # Plot CO2 emissions over time for each industry\n",
    "    plt.plot(utilities_df[utilities_df['Substance'] == 'carbon dioxide']['Year'], \n",
    "             utilities_df[utilities_df['Substance'] == 'carbon dioxide']['Supply Chain Emission Factors with Margins'], \n",
    "             label='Utilities CO2')\n",
    "    plt.plot(farms_df[farms_df['Substance'] == 'carbon dioxide']['Year'], \n",
    "             farms_df[farms_df['Substance'] == 'carbon dioxide']['Supply Chain Emission Factors with Margins'], \n",
    "             label='Farms CO2')\n",
    "    plt.plot(petroleum_df[petroleum_df['Substance'] == 'carbon dioxide']['Year'], \n",
    "             petroleum_df[petroleum_df['Substance'] == 'carbon dioxide']['Supply Chain Emission Factors with Margins'], \n",
    "             label='Petroleum CO2')\n",
    "    \n",
    "    plt.title('CO2 Emissions Over Time by Industry')\n",
    "    plt.xlabel('Year')\n",
    "    plt.ylabel('CO2 Emission Factors (kg/2018 USD)')\n",
    "    plt.legend()\n",
    "    plt.tight_layout()\n",
    "    plt.savefig('co2_time_series.png')\n",
    "    plt.show()\n",
    "\n",
    "# Execute all visualization functions\n",
    "create_plotly_bar_chart()\n",
    "create_matplotlib_heatmap()\n",
    "create_time_series_plot()\n",
    "\n",
    "print(\"Visualizations have been created and saved.\")"
   ]
  },
  {
   "cell_type": "code",
   "execution_count": 7,
   "id": "3e11512a-b203-4802-94b0-f8cb7bc32c02",
   "metadata": {},
   "outputs": [
    {
     "data": {
      "application/vnd.plotly.v1+json": {
       "config": {
        "plotlyServerURL": "https://plot.ly"
       },
       "data": [
        {
         "fill": "tozeroy",
         "fillcolor": "rgba(31, 119, 180, 0.2)",
         "line": {
          "color": "rgba(31, 119, 180, 0)",
          "width": 0
         },
         "mode": "lines",
         "name": "Utilities - Band 1",
         "type": "scatter",
         "x": [
          2016,
          2015,
          2014,
          2013,
          2012,
          2011,
          2010
         ],
         "y": [
          3.448,
          3.425,
          3.505,
          3.804,
          3.988,
          4.068,
          4.226
         ]
        },
        {
         "line": {
          "color": "rgb(31, 119, 180)",
          "width": 2
         },
         "mode": "lines",
         "name": "Utilities",
         "type": "scatter",
         "x": [
          2016,
          2015,
          2014,
          2013,
          2012,
          2011,
          2010
         ],
         "y": [
          3.448,
          3.425,
          3.505,
          3.804,
          3.988,
          4.068,
          4.226
         ]
        },
        {
         "fill": "tozeroy",
         "fillcolor": "rgba(255, 127, 14, 0.2)",
         "line": {
          "color": "rgba(255, 127, 14, 0)",
          "width": 0
         },
         "mode": "lines",
         "name": "Farms - Band 1",
         "type": "scatter",
         "x": [
          2016,
          2015,
          2014,
          2013,
          2012,
          2011,
          2010
         ],
         "y": [
          0.51,
          0.465,
          0.437,
          0.454,
          0.484,
          0.486,
          0.582
         ]
        },
        {
         "line": {
          "color": "rgb(255, 127, 14)",
          "width": 2
         },
         "mode": "lines",
         "name": "Farms",
         "type": "scatter",
         "x": [
          2016,
          2015,
          2014,
          2013,
          2012,
          2011,
          2010
         ],
         "y": [
          0.51,
          0.465,
          0.437,
          0.454,
          0.484,
          0.486,
          0.582
         ]
        },
        {
         "fill": "tozeroy",
         "fillcolor": "rgba(44, 160, 44, 0.2)",
         "line": {
          "color": "rgba(44, 160, 44, 0)",
          "width": 0
         },
         "mode": "lines",
         "name": "Petroleum - Band 1",
         "type": "scatter",
         "x": [
          2016,
          2015,
          2014,
          2013,
          2012,
          2011,
          2010
         ],
         "y": [
          0.79,
          0.68,
          0.53,
          0.628,
          0.6,
          0.636,
          0.737
         ]
        },
        {
         "line": {
          "color": "rgb(44, 160, 44)",
          "width": 2
         },
         "mode": "lines",
         "name": "Petroleum",
         "type": "scatter",
         "x": [
          2016,
          2015,
          2014,
          2013,
          2012,
          2011,
          2010
         ],
         "y": [
          0.79,
          0.68,
          0.53,
          0.628,
          0.6,
          0.636,
          0.737
         ]
        }
       ],
       "layout": {
        "hovermode": "closest",
        "template": {
         "data": {
          "bar": [
           {
            "error_x": {
             "color": "#2a3f5f"
            },
            "error_y": {
             "color": "#2a3f5f"
            },
            "marker": {
             "line": {
              "color": "#E5ECF6",
              "width": 0.5
             },
             "pattern": {
              "fillmode": "overlay",
              "size": 10,
              "solidity": 0.2
             }
            },
            "type": "bar"
           }
          ],
          "barpolar": [
           {
            "marker": {
             "line": {
              "color": "#E5ECF6",
              "width": 0.5
             },
             "pattern": {
              "fillmode": "overlay",
              "size": 10,
              "solidity": 0.2
             }
            },
            "type": "barpolar"
           }
          ],
          "carpet": [
           {
            "aaxis": {
             "endlinecolor": "#2a3f5f",
             "gridcolor": "white",
             "linecolor": "white",
             "minorgridcolor": "white",
             "startlinecolor": "#2a3f5f"
            },
            "baxis": {
             "endlinecolor": "#2a3f5f",
             "gridcolor": "white",
             "linecolor": "white",
             "minorgridcolor": "white",
             "startlinecolor": "#2a3f5f"
            },
            "type": "carpet"
           }
          ],
          "choropleth": [
           {
            "colorbar": {
             "outlinewidth": 0,
             "ticks": ""
            },
            "type": "choropleth"
           }
          ],
          "contour": [
           {
            "colorbar": {
             "outlinewidth": 0,
             "ticks": ""
            },
            "colorscale": [
             [
              0,
              "#0d0887"
             ],
             [
              0.1111111111111111,
              "#46039f"
             ],
             [
              0.2222222222222222,
              "#7201a8"
             ],
             [
              0.3333333333333333,
              "#9c179e"
             ],
             [
              0.4444444444444444,
              "#bd3786"
             ],
             [
              0.5555555555555556,
              "#d8576b"
             ],
             [
              0.6666666666666666,
              "#ed7953"
             ],
             [
              0.7777777777777778,
              "#fb9f3a"
             ],
             [
              0.8888888888888888,
              "#fdca26"
             ],
             [
              1,
              "#f0f921"
             ]
            ],
            "type": "contour"
           }
          ],
          "contourcarpet": [
           {
            "colorbar": {
             "outlinewidth": 0,
             "ticks": ""
            },
            "type": "contourcarpet"
           }
          ],
          "heatmap": [
           {
            "colorbar": {
             "outlinewidth": 0,
             "ticks": ""
            },
            "colorscale": [
             [
              0,
              "#0d0887"
             ],
             [
              0.1111111111111111,
              "#46039f"
             ],
             [
              0.2222222222222222,
              "#7201a8"
             ],
             [
              0.3333333333333333,
              "#9c179e"
             ],
             [
              0.4444444444444444,
              "#bd3786"
             ],
             [
              0.5555555555555556,
              "#d8576b"
             ],
             [
              0.6666666666666666,
              "#ed7953"
             ],
             [
              0.7777777777777778,
              "#fb9f3a"
             ],
             [
              0.8888888888888888,
              "#fdca26"
             ],
             [
              1,
              "#f0f921"
             ]
            ],
            "type": "heatmap"
           }
          ],
          "heatmapgl": [
           {
            "colorbar": {
             "outlinewidth": 0,
             "ticks": ""
            },
            "colorscale": [
             [
              0,
              "#0d0887"
             ],
             [
              0.1111111111111111,
              "#46039f"
             ],
             [
              0.2222222222222222,
              "#7201a8"
             ],
             [
              0.3333333333333333,
              "#9c179e"
             ],
             [
              0.4444444444444444,
              "#bd3786"
             ],
             [
              0.5555555555555556,
              "#d8576b"
             ],
             [
              0.6666666666666666,
              "#ed7953"
             ],
             [
              0.7777777777777778,
              "#fb9f3a"
             ],
             [
              0.8888888888888888,
              "#fdca26"
             ],
             [
              1,
              "#f0f921"
             ]
            ],
            "type": "heatmapgl"
           }
          ],
          "histogram": [
           {
            "marker": {
             "pattern": {
              "fillmode": "overlay",
              "size": 10,
              "solidity": 0.2
             }
            },
            "type": "histogram"
           }
          ],
          "histogram2d": [
           {
            "colorbar": {
             "outlinewidth": 0,
             "ticks": ""
            },
            "colorscale": [
             [
              0,
              "#0d0887"
             ],
             [
              0.1111111111111111,
              "#46039f"
             ],
             [
              0.2222222222222222,
              "#7201a8"
             ],
             [
              0.3333333333333333,
              "#9c179e"
             ],
             [
              0.4444444444444444,
              "#bd3786"
             ],
             [
              0.5555555555555556,
              "#d8576b"
             ],
             [
              0.6666666666666666,
              "#ed7953"
             ],
             [
              0.7777777777777778,
              "#fb9f3a"
             ],
             [
              0.8888888888888888,
              "#fdca26"
             ],
             [
              1,
              "#f0f921"
             ]
            ],
            "type": "histogram2d"
           }
          ],
          "histogram2dcontour": [
           {
            "colorbar": {
             "outlinewidth": 0,
             "ticks": ""
            },
            "colorscale": [
             [
              0,
              "#0d0887"
             ],
             [
              0.1111111111111111,
              "#46039f"
             ],
             [
              0.2222222222222222,
              "#7201a8"
             ],
             [
              0.3333333333333333,
              "#9c179e"
             ],
             [
              0.4444444444444444,
              "#bd3786"
             ],
             [
              0.5555555555555556,
              "#d8576b"
             ],
             [
              0.6666666666666666,
              "#ed7953"
             ],
             [
              0.7777777777777778,
              "#fb9f3a"
             ],
             [
              0.8888888888888888,
              "#fdca26"
             ],
             [
              1,
              "#f0f921"
             ]
            ],
            "type": "histogram2dcontour"
           }
          ],
          "mesh3d": [
           {
            "colorbar": {
             "outlinewidth": 0,
             "ticks": ""
            },
            "type": "mesh3d"
           }
          ],
          "parcoords": [
           {
            "line": {
             "colorbar": {
              "outlinewidth": 0,
              "ticks": ""
             }
            },
            "type": "parcoords"
           }
          ],
          "pie": [
           {
            "automargin": true,
            "type": "pie"
           }
          ],
          "scatter": [
           {
            "fillpattern": {
             "fillmode": "overlay",
             "size": 10,
             "solidity": 0.2
            },
            "type": "scatter"
           }
          ],
          "scatter3d": [
           {
            "line": {
             "colorbar": {
              "outlinewidth": 0,
              "ticks": ""
             }
            },
            "marker": {
             "colorbar": {
              "outlinewidth": 0,
              "ticks": ""
             }
            },
            "type": "scatter3d"
           }
          ],
          "scattercarpet": [
           {
            "marker": {
             "colorbar": {
              "outlinewidth": 0,
              "ticks": ""
             }
            },
            "type": "scattercarpet"
           }
          ],
          "scattergeo": [
           {
            "marker": {
             "colorbar": {
              "outlinewidth": 0,
              "ticks": ""
             }
            },
            "type": "scattergeo"
           }
          ],
          "scattergl": [
           {
            "marker": {
             "colorbar": {
              "outlinewidth": 0,
              "ticks": ""
             }
            },
            "type": "scattergl"
           }
          ],
          "scattermapbox": [
           {
            "marker": {
             "colorbar": {
              "outlinewidth": 0,
              "ticks": ""
             }
            },
            "type": "scattermapbox"
           }
          ],
          "scatterpolar": [
           {
            "marker": {
             "colorbar": {
              "outlinewidth": 0,
              "ticks": ""
             }
            },
            "type": "scatterpolar"
           }
          ],
          "scatterpolargl": [
           {
            "marker": {
             "colorbar": {
              "outlinewidth": 0,
              "ticks": ""
             }
            },
            "type": "scatterpolargl"
           }
          ],
          "scatterternary": [
           {
            "marker": {
             "colorbar": {
              "outlinewidth": 0,
              "ticks": ""
             }
            },
            "type": "scatterternary"
           }
          ],
          "surface": [
           {
            "colorbar": {
             "outlinewidth": 0,
             "ticks": ""
            },
            "colorscale": [
             [
              0,
              "#0d0887"
             ],
             [
              0.1111111111111111,
              "#46039f"
             ],
             [
              0.2222222222222222,
              "#7201a8"
             ],
             [
              0.3333333333333333,
              "#9c179e"
             ],
             [
              0.4444444444444444,
              "#bd3786"
             ],
             [
              0.5555555555555556,
              "#d8576b"
             ],
             [
              0.6666666666666666,
              "#ed7953"
             ],
             [
              0.7777777777777778,
              "#fb9f3a"
             ],
             [
              0.8888888888888888,
              "#fdca26"
             ],
             [
              1,
              "#f0f921"
             ]
            ],
            "type": "surface"
           }
          ],
          "table": [
           {
            "cells": {
             "fill": {
              "color": "#EBF0F8"
             },
             "line": {
              "color": "white"
             }
            },
            "header": {
             "fill": {
              "color": "#C8D4E3"
             },
             "line": {
              "color": "white"
             }
            },
            "type": "table"
           }
          ]
         },
         "layout": {
          "annotationdefaults": {
           "arrowcolor": "#2a3f5f",
           "arrowhead": 0,
           "arrowwidth": 1
          },
          "autotypenumbers": "strict",
          "coloraxis": {
           "colorbar": {
            "outlinewidth": 0,
            "ticks": ""
           }
          },
          "colorscale": {
           "diverging": [
            [
             0,
             "#8e0152"
            ],
            [
             0.1,
             "#c51b7d"
            ],
            [
             0.2,
             "#de77ae"
            ],
            [
             0.3,
             "#f1b6da"
            ],
            [
             0.4,
             "#fde0ef"
            ],
            [
             0.5,
             "#f7f7f7"
            ],
            [
             0.6,
             "#e6f5d0"
            ],
            [
             0.7,
             "#b8e186"
            ],
            [
             0.8,
             "#7fbc41"
            ],
            [
             0.9,
             "#4d9221"
            ],
            [
             1,
             "#276419"
            ]
           ],
           "sequential": [
            [
             0,
             "#0d0887"
            ],
            [
             0.1111111111111111,
             "#46039f"
            ],
            [
             0.2222222222222222,
             "#7201a8"
            ],
            [
             0.3333333333333333,
             "#9c179e"
            ],
            [
             0.4444444444444444,
             "#bd3786"
            ],
            [
             0.5555555555555556,
             "#d8576b"
            ],
            [
             0.6666666666666666,
             "#ed7953"
            ],
            [
             0.7777777777777778,
             "#fb9f3a"
            ],
            [
             0.8888888888888888,
             "#fdca26"
            ],
            [
             1,
             "#f0f921"
            ]
           ],
           "sequentialminus": [
            [
             0,
             "#0d0887"
            ],
            [
             0.1111111111111111,
             "#46039f"
            ],
            [
             0.2222222222222222,
             "#7201a8"
            ],
            [
             0.3333333333333333,
             "#9c179e"
            ],
            [
             0.4444444444444444,
             "#bd3786"
            ],
            [
             0.5555555555555556,
             "#d8576b"
            ],
            [
             0.6666666666666666,
             "#ed7953"
            ],
            [
             0.7777777777777778,
             "#fb9f3a"
            ],
            [
             0.8888888888888888,
             "#fdca26"
            ],
            [
             1,
             "#f0f921"
            ]
           ]
          },
          "colorway": [
           "#636efa",
           "#EF553B",
           "#00cc96",
           "#ab63fa",
           "#FFA15A",
           "#19d3f3",
           "#FF6692",
           "#B6E880",
           "#FF97FF",
           "#FECB52"
          ],
          "font": {
           "color": "#2a3f5f"
          },
          "geo": {
           "bgcolor": "white",
           "lakecolor": "white",
           "landcolor": "#E5ECF6",
           "showlakes": true,
           "showland": true,
           "subunitcolor": "white"
          },
          "hoverlabel": {
           "align": "left"
          },
          "hovermode": "closest",
          "mapbox": {
           "style": "light"
          },
          "paper_bgcolor": "white",
          "plot_bgcolor": "#E5ECF6",
          "polar": {
           "angularaxis": {
            "gridcolor": "white",
            "linecolor": "white",
            "ticks": ""
           },
           "bgcolor": "#E5ECF6",
           "radialaxis": {
            "gridcolor": "white",
            "linecolor": "white",
            "ticks": ""
           }
          },
          "scene": {
           "xaxis": {
            "backgroundcolor": "#E5ECF6",
            "gridcolor": "white",
            "gridwidth": 2,
            "linecolor": "white",
            "showbackground": true,
            "ticks": "",
            "zerolinecolor": "white"
           },
           "yaxis": {
            "backgroundcolor": "#E5ECF6",
            "gridcolor": "white",
            "gridwidth": 2,
            "linecolor": "white",
            "showbackground": true,
            "ticks": "",
            "zerolinecolor": "white"
           },
           "zaxis": {
            "backgroundcolor": "#E5ECF6",
            "gridcolor": "white",
            "gridwidth": 2,
            "linecolor": "white",
            "showbackground": true,
            "ticks": "",
            "zerolinecolor": "white"
           }
          },
          "shapedefaults": {
           "line": {
            "color": "#2a3f5f"
           }
          },
          "ternary": {
           "aaxis": {
            "gridcolor": "white",
            "linecolor": "white",
            "ticks": ""
           },
           "baxis": {
            "gridcolor": "white",
            "linecolor": "white",
            "ticks": ""
           },
           "bgcolor": "#E5ECF6",
           "caxis": {
            "gridcolor": "white",
            "linecolor": "white",
            "ticks": ""
           }
          },
          "title": {
           "x": 0.05
          },
          "xaxis": {
           "automargin": true,
           "gridcolor": "white",
           "linecolor": "white",
           "ticks": "",
           "title": {
            "standoff": 15
           },
           "zerolinecolor": "white",
           "zerolinewidth": 2
          },
          "yaxis": {
           "automargin": true,
           "gridcolor": "white",
           "linecolor": "white",
           "ticks": "",
           "title": {
            "standoff": 15
           },
           "zerolinecolor": "white",
           "zerolinewidth": 2
          }
         }
        },
        "title": {
         "text": "CO2 Emissions Over Time by Industry (Horizon Plot)"
        },
        "xaxis": {
         "title": {
          "text": "Year"
         }
        },
        "yaxis": {
         "title": {
          "text": "CO2 Emission Factors (kg/2018 USD)"
         }
        }
       }
      }
     },
     "metadata": {},
     "output_type": "display_data"
    },
    {
     "name": "stdout",
     "output_type": "stream",
     "text": [
      "Interactive CO2 emissions horizon plot created successfully.\n"
     ]
    }
   ],
   "source": [
    "import plotly.graph_objs as go\n",
    "import pandas as pd\n",
    "import numpy as np\n",
    "\n",
    "def create_horizon_plot():\n",
    "    # Prepare data for horizon plot\n",
    "    utilities_co2 = utilities_df[utilities_df['Substance'] == 'carbon dioxide']\n",
    "    farms_co2 = farms_df[farms_df['Substance'] == 'carbon dioxide']\n",
    "    petroleum_co2 = petroleum_df[petroleum_df['Substance'] == 'carbon dioxide']\n",
    "\n",
    "    # Create traces with different color bands to simulate horizon plot effect\n",
    "    def create_horizon_trace(df, name, color_rgb):\n",
    "        traces = []\n",
    "        y = df['Supply Chain Emission Factors with Margins']\n",
    "        bands = 1  # Number of color bands\n",
    "        \n",
    "        # Create multiple bands with decreasing opacity\n",
    "        for i in range(bands):\n",
    "            threshold = np.percentile(y, (i + 1) * (100 / bands))\n",
    "            trace = go.Scatter(\n",
    "                x=df['Year'],\n",
    "                y=np.minimum(y, threshold),\n",
    "                mode='lines',\n",
    "                name=f'{name} - Band {i+1}',\n",
    "                line=dict(color='rgba(' + color_rgb + ', 0)', width=0),\n",
    "                fill='tozeroy',\n",
    "                fillcolor=f'rgba({color_rgb}, {0.2 * (bands - i)})'\n",
    "            )\n",
    "            traces.append(trace)\n",
    "        \n",
    "        # Add line on top\n",
    "        traces.append(go.Scatter(\n",
    "            x=df['Year'],\n",
    "            y=y,\n",
    "            mode='lines',\n",
    "            name=name,\n",
    "            line=dict(color=f'rgb({color_rgb})', width=2)\n",
    "        ))\n",
    "        \n",
    "        return traces\n",
    "\n",
    "    # Combine traces\n",
    "    layout = go.Layout(\n",
    "        title='CO2 Emissions Over Time by Industry (Horizon Plot)',\n",
    "        xaxis_title='Year',\n",
    "        yaxis_title='CO2 Emission Factors (kg/2018 USD)',\n",
    "        hovermode='closest'\n",
    "    )\n",
    "\n",
    "    # Create figure with all traces\n",
    "    fig = go.Figure(\n",
    "        data=(\n",
    "            create_horizon_trace(utilities_co2, 'Utilities', '31, 119, 180') +\n",
    "            create_horizon_trace(farms_co2, 'Farms', '255, 127, 14') +\n",
    "            create_horizon_trace(petroleum_co2, 'Petroleum', '44, 160, 44')\n",
    "        ),\n",
    "        layout=layout\n",
    "    )\n",
    "\n",
    "    # Save interactive HTML\n",
    "    fig.write_html('co2_horizon_plot.html')\n",
    "    fig.show()\n",
    "    return fig\n",
    "\n",
    "# Generate the plot\n",
    "horizon_plot = create_horizon_plot()\n",
    "print(\"Interactive CO2 emissions horizon plot created successfully.\")"
   ]
  },
  {
   "cell_type": "code",
   "execution_count": 8,
   "id": "5cbe503a-a45e-4fe1-a297-86976e012af7",
   "metadata": {},
   "outputs": [
    {
     "name": "stdout",
     "output_type": "stream",
     "text": [
      "Interactive clustering visualization saved as 'emissions_clustering.html'\n",
      "\n",
      "Cluster Analysis:\n",
      "\n",
      "Cluster 0:\n",
      "Industries: ['Petroleum and coal products']\n",
      "Years: [2010 2011 2012 2013 2014 2015 2016]\n",
      "\n",
      "Average Emission Factors:\n",
      "Substance\n",
      "carbon dioxide    0.657286\n",
      "methane           0.014714\n",
      "nitrous oxide     0.000000\n",
      "other GHGs        0.003429\n",
      "dtype: float64\n",
      "\n",
      "Cluster 1:\n",
      "Industries: ['Utilities']\n",
      "Years: [2010 2011 2012 2013 2014 2015 2016]\n",
      "\n",
      "Average Emission Factors:\n",
      "Substance\n",
      "carbon dioxide    3.780571\n",
      "methane           0.006286\n",
      "nitrous oxide     0.000000\n",
      "other GHGs        0.012429\n",
      "dtype: float64\n",
      "\n",
      "Cluster 2:\n",
      "Industries: ['Farms']\n",
      "Years: [2010 2011 2012 2013 2014 2015 2016]\n",
      "\n",
      "Average Emission Factors:\n",
      "Substance\n",
      "carbon dioxide    0.488286\n",
      "methane           0.023571\n",
      "nitrous oxide     0.002143\n",
      "other GHGs        0.004143\n",
      "dtype: float64\n"
     ]
    }
   ],
   "source": [
    "import pandas as pd\n",
    "import numpy as np\n",
    "import plotly.graph_objs as go\n",
    "import plotly.express as px\n",
    "import matplotlib.pyplot as plt\n",
    "from sklearn.preprocessing import StandardScaler\n",
    "from sklearn.cluster import KMeans\n",
    "from sklearn.decomposition import PCA\n",
    "\n",
    "def prepare_clustering_data(utilities_df, farms_df, petroleum_df):\n",
    "    \"\"\"\n",
    "    Prepare data for clustering by combining and preprocessing emissions data\n",
    "    \n",
    "    Args:\n",
    "    - utilities_df (pd.DataFrame): Utilities industry emissions data\n",
    "    - farms_df (pd.DataFrame): Farms industry emissions data\n",
    "    - petroleum_df (pd.DataFrame): Petroleum and Coal Products industry emissions data\n",
    "    \n",
    "    Returns:\n",
    "    - tuple: Processed DataFrame and feature matrix\n",
    "    \"\"\"\n",
    "    # Combine dataframes\n",
    "    combined_df = pd.concat([utilities_df, farms_df, petroleum_df], ignore_index=True)\n",
    "    \n",
    "    # Create a pivot table with wide format\n",
    "    emissions_pivot = combined_df.pivot_table(\n",
    "        index=['Year', 'Industry Name'], \n",
    "        columns='Substance', \n",
    "        values='Supply Chain Emission Factors with Margins',\n",
    "        fill_value=0\n",
    "    )\n",
    "    \n",
    "    # Flatten the multi-index\n",
    "    emissions_pivot.reset_index(inplace=True)\n",
    "    \n",
    "    # Prepare feature matrix (excluding Year and Industry Name columns)\n",
    "    feature_columns = [col for col in emissions_pivot.columns if col not in ['Year', 'Industry Name']]\n",
    "    X = emissions_pivot[feature_columns].values\n",
    "    \n",
    "    return emissions_pivot, X\n",
    "\n",
    "def perform_kmeans_clustering(X, n_clusters=3):\n",
    "    \"\"\"\n",
    "    Perform K-means clustering on the prepared data\n",
    "    \n",
    "    Args:\n",
    "    - X (numpy.ndarray): Feature matrix\n",
    "    - n_clusters (int): Number of clusters to create\n",
    "    \n",
    "    Returns:\n",
    "    - tuple: Clustering results and PCA transformation\n",
    "    \"\"\"\n",
    "    # Standardize the features\n",
    "    scaler = StandardScaler()\n",
    "    X_scaled = scaler.fit_transform(X)\n",
    "    \n",
    "    # Perform PCA for visualization\n",
    "    pca = PCA(n_components=3)\n",
    "    X_pca = pca.fit_transform(X_scaled)\n",
    "    \n",
    "    # Perform K-means clustering\n",
    "    kmeans = KMeans(n_clusters=n_clusters, random_state=42, n_init=10)\n",
    "    clusters = kmeans.fit_predict(X_scaled)\n",
    "    \n",
    "    return X_pca, clusters, kmeans, pca, scaler\n",
    "\n",
    "def create_interactive_clustering_plot(emissions_pivot, X_pca, clusters):\n",
    "    \"\"\"\n",
    "    Create an interactive 3D scatter plot of clusters\n",
    "    \n",
    "    Args:\n",
    "    - emissions_pivot (pd.DataFrame): Original pivot table\n",
    "    - X_pca (numpy.ndarray): PCA-transformed data\n",
    "    - clusters (numpy.ndarray): Cluster assignments\n",
    "    \n",
    "    Returns:\n",
    "    - plotly.graph_objs.Figure: Interactive clustering visualization\n",
    "    \"\"\"\n",
    "    # Create a DataFrame with PCA and cluster information\n",
    "    plot_df = emissions_pivot.copy()\n",
    "    plot_df['PCA1'] = X_pca[:, 0]\n",
    "    plot_df['PCA2'] = X_pca[:, 1]\n",
    "    plot_df['PCA3'] = X_pca[:, 2]\n",
    "    plot_df['Cluster'] = clusters\n",
    "    \n",
    "    # Create interactive 3D scatter plot\n",
    "    fig = px.scatter_3d(\n",
    "        plot_df, \n",
    "        x='PCA1', \n",
    "        y='PCA2', \n",
    "        z='PCA3',\n",
    "        color='Cluster',\n",
    "        hover_data=['Year', 'Industry Name'],\n",
    "        title='K-Means Clustering of Emissions Data',\n",
    "        labels={'PCA1': 'First Principal Component', \n",
    "                'PCA2': 'Second Principal Component', \n",
    "                'PCA3': 'Third Principal Component'}\n",
    "    )\n",
    "    \n",
    "    fig.update_layout(\n",
    "        scene=dict(\n",
    "            xaxis_title='First Principal Component',\n",
    "            yaxis_title='Second Principal Component',\n",
    "            zaxis_title='Third Principal Component'\n",
    "        ),\n",
    "        height=800,\n",
    "        width=1000\n",
    "    )\n",
    "    \n",
    "    # Save the interactive plot\n",
    "    fig.write_html('emissions_clustering.html')\n",
    "    print(\"Interactive clustering visualization saved as 'emissions_clustering.html'\")\n",
    "    \n",
    "    return fig\n",
    "\n",
    "def analyze_clusters(emissions_pivot, clusters, kmeans):\n",
    "    \"\"\"\n",
    "    Analyze and print details about the formed clusters\n",
    "    \n",
    "    Args:\n",
    "    - emissions_pivot (pd.DataFrame): Original pivot table\n",
    "    - clusters (numpy.ndarray): Cluster assignments\n",
    "    - kmeans (KMeans): Fitted KMeans model\n",
    "    \"\"\"\n",
    "    # Add cluster information to the original DataFrame\n",
    "    cluster_df = emissions_pivot.copy()\n",
    "    cluster_df['Cluster'] = clusters\n",
    "    \n",
    "    # Print cluster details\n",
    "    print(\"\\nCluster Analysis:\")\n",
    "    for cluster in range(kmeans.n_clusters):\n",
    "        cluster_group = cluster_df[cluster_df['Cluster'] == cluster]\n",
    "        \n",
    "        print(f\"\\nCluster {cluster}:\")\n",
    "        print(\"Industries:\", cluster_group['Industry Name'].unique())\n",
    "        print(\"Years:\", cluster_group['Year'].unique())\n",
    "        \n",
    "        # Print average emission factors for this cluster\n",
    "        print(\"\\nAverage Emission Factors:\")\n",
    "        cluster_columns = [col for col in cluster_df.columns if col not in ['Year', 'Industry Name', 'Cluster']]\n",
    "        cluster_avg = cluster_group[cluster_columns].mean()\n",
    "        print(cluster_avg)\n",
    "\n",
    "def main():\n",
    "    # Read the CSV files\n",
    "    utilities_df = pd.read_csv('2016_ind.csv')\n",
    "    farms_df = pd.read_csv('frm_ind.csv')\n",
    "    petroleum_df = pd.read_csv('pet_ind.csv')\n",
    "    \n",
    "    # Prepare data for clustering\n",
    "    emissions_pivot, X = prepare_clustering_data(utilities_df, farms_df, petroleum_df)\n",
    "    \n",
    "    # Perform K-means clustering\n",
    "    X_pca, clusters, kmeans, pca, scaler = perform_kmeans_clustering(X)\n",
    "    \n",
    "    # Create interactive 3D clustering plot\n",
    "    interactive_plot = create_interactive_clustering_plot(emissions_pivot, X_pca, clusters)\n",
    "    \n",
    "    # Analyze and print cluster details\n",
    "    analyze_clusters(emissions_pivot, clusters, kmeans)\n",
    "\n",
    "if __name__ == '__main__':\n",
    "    main()"
   ]
  },
  {
   "cell_type": "code",
   "execution_count": 9,
   "id": "d24c23f1-26a6-408d-a0fe-e55961d780ff",
   "metadata": {},
   "outputs": [],
   "source": [
    "#2011 supplementary + original\n",
    "\n",
    "ori_2011 = ori.loc[ori['Year'] == 2011]\n",
    "pet_2011 = ori_2011.loc[ori_2011['Industry Name'] == 'Petroleum and coal products']\n",
    "min_2011 = ori_2011.loc[ori_2011['Industry Name'] == 'Mining, except oil and gas']\n",
    "wood_2011 = ori_2011.loc[ori_2011['Industry Name'] == 'Wood products']\n",
    "plastic_2011 = ori_2011.loc[ori_2011['Industry Name'] == 'Plastics and rubber products']\n",
    "waste_2011 = ori_2011.loc[ori_2011['Industry Name'] == 'Waste management and remediation services']"
   ]
  },
  {
   "cell_type": "code",
   "execution_count": 10,
   "id": "86716aaf-a45c-481b-885f-fbe7fd2aaf6c",
   "metadata": {},
   "outputs": [
    {
     "name": "stderr",
     "output_type": "stream",
     "text": [
      "c:\\Python312\\Lib\\site-packages\\openpyxl\\worksheet\\header_footer.py:48: UserWarning:\n",
      "\n",
      "Cannot parse header or footer so it will be ignored\n",
      "\n"
     ]
    }
   ],
   "source": [
    "#CO2 analysis\n",
    "\n",
    "ori_value1 = pet_2011.loc[pet_2011['Substance'] == 'carbon dioxide']['Supply Chain Emission Factors without Margins'].sum()\n",
    "ori_value2 = min_2011.loc[min_2011['Substance'] == 'carbon dioxide']['Supply Chain Emission Factors without Margins'].sum()\n",
    "ori_value3 = wood_2011.loc[wood_2011['Substance'] == 'carbon dioxide']['Supply Chain Emission Factors without Margins'].sum()\n",
    "ori_value4 = plastic_2011.loc[plastic_2011['Substance'] == 'carbon dioxide']['Supply Chain Emission Factors without Margins'].sum()\n",
    "ori_value5 = waste_2011.loc[waste_2011['Substance'] == 'carbon dioxide']['Supply Chain Emission Factors without Margins'].sum()\n",
    "\n",
    "ori_value_co2 = ori_value1 + ori_value2 + ori_value3 + ori_value4 + ori_value5\n",
    "\n",
    "supp_2011 = pd.read_excel('ghg-emission-factors-hub-2011.xlsx')\n",
    "coal_emissions = supp_2011[17:37]\n",
    "co2_em_coal_supp = coal_emissions['Unnamed: 4'].sum()\n",
    "pur_price_2018 = 251\n",
    "doll_per_million_btu = 3.15\n",
    "con_value_co2 = co2_em_coal_supp/(pur_price_2018*doll_per_million_btu)"
   ]
  },
  {
   "cell_type": "code",
   "execution_count": 11,
   "id": "33d9727c-c23e-4f1c-a7c1-e52092571a2a",
   "metadata": {},
   "outputs": [
    {
     "data": {
      "text/plain": [
       "2.0906342882438502"
      ]
     },
     "execution_count": 11,
     "metadata": {},
     "output_type": "execute_result"
    }
   ],
   "source": [
    "con_value_co2"
   ]
  },
  {
   "cell_type": "code",
   "execution_count": 12,
   "id": "75f64e0f-401a-4676-bb46-90b824df9be6",
   "metadata": {},
   "outputs": [
    {
     "data": {
      "text/plain": [
       "2.095"
      ]
     },
     "execution_count": 12,
     "metadata": {},
     "output_type": "execute_result"
    }
   ],
   "source": [
    "ori_value_co2"
   ]
  },
  {
   "cell_type": "code",
   "execution_count": 13,
   "id": "0a65fe7c-449a-4bc1-bf4a-f5d4fa4fa4d6",
   "metadata": {},
   "outputs": [
    {
     "data": {
      "application/vnd.plotly.v1+json": {
       "config": {
        "plotlyServerURL": "https://plot.ly"
       },
       "data": [
        {
         "hoverinfo": "text",
         "name": "Petroleum",
         "text": [
          "Petroleum: 0.6300"
         ],
         "textposition": "auto",
         "type": "bar",
         "x": [
          "Original Emissions"
         ],
         "y": [
          0.63
         ]
        },
        {
         "hoverinfo": "text",
         "name": "Mining",
         "text": [
          "Mining: 0.6150"
         ],
         "textposition": "auto",
         "type": "bar",
         "x": [
          "Original Emissions"
         ],
         "y": [
          0.615
         ]
        },
        {
         "hoverinfo": "text",
         "name": "Wood",
         "text": [
          "Wood: 0.2560"
         ],
         "textposition": "auto",
         "type": "bar",
         "x": [
          "Original Emissions"
         ],
         "y": [
          0.256
         ]
        },
        {
         "hoverinfo": "text",
         "name": "Plastic",
         "text": [
          "Plastic: 0.2780"
         ],
         "textposition": "auto",
         "type": "bar",
         "x": [
          "Original Emissions"
         ],
         "y": [
          0.278
         ]
        },
        {
         "hoverinfo": "text",
         "name": "Waste",
         "text": [
          "Waste: 0.3160"
         ],
         "textposition": "auto",
         "type": "bar",
         "x": [
          "Original Emissions"
         ],
         "y": [
          0.316
         ]
        },
        {
         "hoverinfo": "text",
         "name": "Supplementary CO2 Emissions",
         "text": [
          "Total: 2.0906"
         ],
         "textposition": "auto",
         "type": "bar",
         "x": [
          "Supplementary Emissions"
         ],
         "y": [
          2.0906342882438502
         ]
        }
       ],
       "layout": {
        "barmode": "stack",
        "legend": {
         "title": {
          "text": "Emission Sources"
         }
        },
        "template": {
         "data": {
          "bar": [
           {
            "error_x": {
             "color": "#2a3f5f"
            },
            "error_y": {
             "color": "#2a3f5f"
            },
            "marker": {
             "line": {
              "color": "#E5ECF6",
              "width": 0.5
             },
             "pattern": {
              "fillmode": "overlay",
              "size": 10,
              "solidity": 0.2
             }
            },
            "type": "bar"
           }
          ],
          "barpolar": [
           {
            "marker": {
             "line": {
              "color": "#E5ECF6",
              "width": 0.5
             },
             "pattern": {
              "fillmode": "overlay",
              "size": 10,
              "solidity": 0.2
             }
            },
            "type": "barpolar"
           }
          ],
          "carpet": [
           {
            "aaxis": {
             "endlinecolor": "#2a3f5f",
             "gridcolor": "white",
             "linecolor": "white",
             "minorgridcolor": "white",
             "startlinecolor": "#2a3f5f"
            },
            "baxis": {
             "endlinecolor": "#2a3f5f",
             "gridcolor": "white",
             "linecolor": "white",
             "minorgridcolor": "white",
             "startlinecolor": "#2a3f5f"
            },
            "type": "carpet"
           }
          ],
          "choropleth": [
           {
            "colorbar": {
             "outlinewidth": 0,
             "ticks": ""
            },
            "type": "choropleth"
           }
          ],
          "contour": [
           {
            "colorbar": {
             "outlinewidth": 0,
             "ticks": ""
            },
            "colorscale": [
             [
              0,
              "#0d0887"
             ],
             [
              0.1111111111111111,
              "#46039f"
             ],
             [
              0.2222222222222222,
              "#7201a8"
             ],
             [
              0.3333333333333333,
              "#9c179e"
             ],
             [
              0.4444444444444444,
              "#bd3786"
             ],
             [
              0.5555555555555556,
              "#d8576b"
             ],
             [
              0.6666666666666666,
              "#ed7953"
             ],
             [
              0.7777777777777778,
              "#fb9f3a"
             ],
             [
              0.8888888888888888,
              "#fdca26"
             ],
             [
              1,
              "#f0f921"
             ]
            ],
            "type": "contour"
           }
          ],
          "contourcarpet": [
           {
            "colorbar": {
             "outlinewidth": 0,
             "ticks": ""
            },
            "type": "contourcarpet"
           }
          ],
          "heatmap": [
           {
            "colorbar": {
             "outlinewidth": 0,
             "ticks": ""
            },
            "colorscale": [
             [
              0,
              "#0d0887"
             ],
             [
              0.1111111111111111,
              "#46039f"
             ],
             [
              0.2222222222222222,
              "#7201a8"
             ],
             [
              0.3333333333333333,
              "#9c179e"
             ],
             [
              0.4444444444444444,
              "#bd3786"
             ],
             [
              0.5555555555555556,
              "#d8576b"
             ],
             [
              0.6666666666666666,
              "#ed7953"
             ],
             [
              0.7777777777777778,
              "#fb9f3a"
             ],
             [
              0.8888888888888888,
              "#fdca26"
             ],
             [
              1,
              "#f0f921"
             ]
            ],
            "type": "heatmap"
           }
          ],
          "heatmapgl": [
           {
            "colorbar": {
             "outlinewidth": 0,
             "ticks": ""
            },
            "colorscale": [
             [
              0,
              "#0d0887"
             ],
             [
              0.1111111111111111,
              "#46039f"
             ],
             [
              0.2222222222222222,
              "#7201a8"
             ],
             [
              0.3333333333333333,
              "#9c179e"
             ],
             [
              0.4444444444444444,
              "#bd3786"
             ],
             [
              0.5555555555555556,
              "#d8576b"
             ],
             [
              0.6666666666666666,
              "#ed7953"
             ],
             [
              0.7777777777777778,
              "#fb9f3a"
             ],
             [
              0.8888888888888888,
              "#fdca26"
             ],
             [
              1,
              "#f0f921"
             ]
            ],
            "type": "heatmapgl"
           }
          ],
          "histogram": [
           {
            "marker": {
             "pattern": {
              "fillmode": "overlay",
              "size": 10,
              "solidity": 0.2
             }
            },
            "type": "histogram"
           }
          ],
          "histogram2d": [
           {
            "colorbar": {
             "outlinewidth": 0,
             "ticks": ""
            },
            "colorscale": [
             [
              0,
              "#0d0887"
             ],
             [
              0.1111111111111111,
              "#46039f"
             ],
             [
              0.2222222222222222,
              "#7201a8"
             ],
             [
              0.3333333333333333,
              "#9c179e"
             ],
             [
              0.4444444444444444,
              "#bd3786"
             ],
             [
              0.5555555555555556,
              "#d8576b"
             ],
             [
              0.6666666666666666,
              "#ed7953"
             ],
             [
              0.7777777777777778,
              "#fb9f3a"
             ],
             [
              0.8888888888888888,
              "#fdca26"
             ],
             [
              1,
              "#f0f921"
             ]
            ],
            "type": "histogram2d"
           }
          ],
          "histogram2dcontour": [
           {
            "colorbar": {
             "outlinewidth": 0,
             "ticks": ""
            },
            "colorscale": [
             [
              0,
              "#0d0887"
             ],
             [
              0.1111111111111111,
              "#46039f"
             ],
             [
              0.2222222222222222,
              "#7201a8"
             ],
             [
              0.3333333333333333,
              "#9c179e"
             ],
             [
              0.4444444444444444,
              "#bd3786"
             ],
             [
              0.5555555555555556,
              "#d8576b"
             ],
             [
              0.6666666666666666,
              "#ed7953"
             ],
             [
              0.7777777777777778,
              "#fb9f3a"
             ],
             [
              0.8888888888888888,
              "#fdca26"
             ],
             [
              1,
              "#f0f921"
             ]
            ],
            "type": "histogram2dcontour"
           }
          ],
          "mesh3d": [
           {
            "colorbar": {
             "outlinewidth": 0,
             "ticks": ""
            },
            "type": "mesh3d"
           }
          ],
          "parcoords": [
           {
            "line": {
             "colorbar": {
              "outlinewidth": 0,
              "ticks": ""
             }
            },
            "type": "parcoords"
           }
          ],
          "pie": [
           {
            "automargin": true,
            "type": "pie"
           }
          ],
          "scatter": [
           {
            "fillpattern": {
             "fillmode": "overlay",
             "size": 10,
             "solidity": 0.2
            },
            "type": "scatter"
           }
          ],
          "scatter3d": [
           {
            "line": {
             "colorbar": {
              "outlinewidth": 0,
              "ticks": ""
             }
            },
            "marker": {
             "colorbar": {
              "outlinewidth": 0,
              "ticks": ""
             }
            },
            "type": "scatter3d"
           }
          ],
          "scattercarpet": [
           {
            "marker": {
             "colorbar": {
              "outlinewidth": 0,
              "ticks": ""
             }
            },
            "type": "scattercarpet"
           }
          ],
          "scattergeo": [
           {
            "marker": {
             "colorbar": {
              "outlinewidth": 0,
              "ticks": ""
             }
            },
            "type": "scattergeo"
           }
          ],
          "scattergl": [
           {
            "marker": {
             "colorbar": {
              "outlinewidth": 0,
              "ticks": ""
             }
            },
            "type": "scattergl"
           }
          ],
          "scattermapbox": [
           {
            "marker": {
             "colorbar": {
              "outlinewidth": 0,
              "ticks": ""
             }
            },
            "type": "scattermapbox"
           }
          ],
          "scatterpolar": [
           {
            "marker": {
             "colorbar": {
              "outlinewidth": 0,
              "ticks": ""
             }
            },
            "type": "scatterpolar"
           }
          ],
          "scatterpolargl": [
           {
            "marker": {
             "colorbar": {
              "outlinewidth": 0,
              "ticks": ""
             }
            },
            "type": "scatterpolargl"
           }
          ],
          "scatterternary": [
           {
            "marker": {
             "colorbar": {
              "outlinewidth": 0,
              "ticks": ""
             }
            },
            "type": "scatterternary"
           }
          ],
          "surface": [
           {
            "colorbar": {
             "outlinewidth": 0,
             "ticks": ""
            },
            "colorscale": [
             [
              0,
              "#0d0887"
             ],
             [
              0.1111111111111111,
              "#46039f"
             ],
             [
              0.2222222222222222,
              "#7201a8"
             ],
             [
              0.3333333333333333,
              "#9c179e"
             ],
             [
              0.4444444444444444,
              "#bd3786"
             ],
             [
              0.5555555555555556,
              "#d8576b"
             ],
             [
              0.6666666666666666,
              "#ed7953"
             ],
             [
              0.7777777777777778,
              "#fb9f3a"
             ],
             [
              0.8888888888888888,
              "#fdca26"
             ],
             [
              1,
              "#f0f921"
             ]
            ],
            "type": "surface"
           }
          ],
          "table": [
           {
            "cells": {
             "fill": {
              "color": "#EBF0F8"
             },
             "line": {
              "color": "white"
             }
            },
            "header": {
             "fill": {
              "color": "#C8D4E3"
             },
             "line": {
              "color": "white"
             }
            },
            "type": "table"
           }
          ]
         },
         "layout": {
          "annotationdefaults": {
           "arrowcolor": "#2a3f5f",
           "arrowhead": 0,
           "arrowwidth": 1
          },
          "autotypenumbers": "strict",
          "coloraxis": {
           "colorbar": {
            "outlinewidth": 0,
            "ticks": ""
           }
          },
          "colorscale": {
           "diverging": [
            [
             0,
             "#8e0152"
            ],
            [
             0.1,
             "#c51b7d"
            ],
            [
             0.2,
             "#de77ae"
            ],
            [
             0.3,
             "#f1b6da"
            ],
            [
             0.4,
             "#fde0ef"
            ],
            [
             0.5,
             "#f7f7f7"
            ],
            [
             0.6,
             "#e6f5d0"
            ],
            [
             0.7,
             "#b8e186"
            ],
            [
             0.8,
             "#7fbc41"
            ],
            [
             0.9,
             "#4d9221"
            ],
            [
             1,
             "#276419"
            ]
           ],
           "sequential": [
            [
             0,
             "#0d0887"
            ],
            [
             0.1111111111111111,
             "#46039f"
            ],
            [
             0.2222222222222222,
             "#7201a8"
            ],
            [
             0.3333333333333333,
             "#9c179e"
            ],
            [
             0.4444444444444444,
             "#bd3786"
            ],
            [
             0.5555555555555556,
             "#d8576b"
            ],
            [
             0.6666666666666666,
             "#ed7953"
            ],
            [
             0.7777777777777778,
             "#fb9f3a"
            ],
            [
             0.8888888888888888,
             "#fdca26"
            ],
            [
             1,
             "#f0f921"
            ]
           ],
           "sequentialminus": [
            [
             0,
             "#0d0887"
            ],
            [
             0.1111111111111111,
             "#46039f"
            ],
            [
             0.2222222222222222,
             "#7201a8"
            ],
            [
             0.3333333333333333,
             "#9c179e"
            ],
            [
             0.4444444444444444,
             "#bd3786"
            ],
            [
             0.5555555555555556,
             "#d8576b"
            ],
            [
             0.6666666666666666,
             "#ed7953"
            ],
            [
             0.7777777777777778,
             "#fb9f3a"
            ],
            [
             0.8888888888888888,
             "#fdca26"
            ],
            [
             1,
             "#f0f921"
            ]
           ]
          },
          "colorway": [
           "#636efa",
           "#EF553B",
           "#00cc96",
           "#ab63fa",
           "#FFA15A",
           "#19d3f3",
           "#FF6692",
           "#B6E880",
           "#FF97FF",
           "#FECB52"
          ],
          "font": {
           "color": "#2a3f5f"
          },
          "geo": {
           "bgcolor": "white",
           "lakecolor": "white",
           "landcolor": "#E5ECF6",
           "showlakes": true,
           "showland": true,
           "subunitcolor": "white"
          },
          "hoverlabel": {
           "align": "left"
          },
          "hovermode": "closest",
          "mapbox": {
           "style": "light"
          },
          "paper_bgcolor": "white",
          "plot_bgcolor": "#E5ECF6",
          "polar": {
           "angularaxis": {
            "gridcolor": "white",
            "linecolor": "white",
            "ticks": ""
           },
           "bgcolor": "#E5ECF6",
           "radialaxis": {
            "gridcolor": "white",
            "linecolor": "white",
            "ticks": ""
           }
          },
          "scene": {
           "xaxis": {
            "backgroundcolor": "#E5ECF6",
            "gridcolor": "white",
            "gridwidth": 2,
            "linecolor": "white",
            "showbackground": true,
            "ticks": "",
            "zerolinecolor": "white"
           },
           "yaxis": {
            "backgroundcolor": "#E5ECF6",
            "gridcolor": "white",
            "gridwidth": 2,
            "linecolor": "white",
            "showbackground": true,
            "ticks": "",
            "zerolinecolor": "white"
           },
           "zaxis": {
            "backgroundcolor": "#E5ECF6",
            "gridcolor": "white",
            "gridwidth": 2,
            "linecolor": "white",
            "showbackground": true,
            "ticks": "",
            "zerolinecolor": "white"
           }
          },
          "shapedefaults": {
           "line": {
            "color": "#2a3f5f"
           }
          },
          "ternary": {
           "aaxis": {
            "gridcolor": "white",
            "linecolor": "white",
            "ticks": ""
           },
           "baxis": {
            "gridcolor": "white",
            "linecolor": "white",
            "ticks": ""
           },
           "bgcolor": "#E5ECF6",
           "caxis": {
            "gridcolor": "white",
            "linecolor": "white",
            "ticks": ""
           }
          },
          "title": {
           "x": 0.05
          },
          "xaxis": {
           "automargin": true,
           "gridcolor": "white",
           "linecolor": "white",
           "ticks": "",
           "title": {
            "standoff": 15
           },
           "zerolinecolor": "white",
           "zerolinewidth": 2
          },
          "yaxis": {
           "automargin": true,
           "gridcolor": "white",
           "linecolor": "white",
           "ticks": "",
           "title": {
            "standoff": 15
           },
           "zerolinecolor": "white",
           "zerolinewidth": 2
          }
         }
        },
        "title": {
         "text": "CO2 Emissions: Original vs Supplementary (Year 2011)"
        },
        "yaxis": {
         "title": {
          "text": "CO2 Emissions"
         }
        }
       }
      }
     },
     "metadata": {},
     "output_type": "display_data"
    },
    {
     "name": "stdout",
     "output_type": "stream",
     "text": [
      "Interactive CO2 emissions chart created successfully.\n"
     ]
    }
   ],
   "source": [
    "import plotly.graph_objs as go\n",
    "import plotly.io as pio\n",
    "\n",
    "# Create interactive stacked bar chart\n",
    "def create_co2_stacked_bar():\n",
    "    # Components of original CO2 emissions\n",
    "    original_components = {\n",
    "        'Petroleum': ori_value1,\n",
    "        'Mining': ori_value2,\n",
    "        'Wood': ori_value3,\n",
    "        'Plastic': ori_value4,\n",
    "        'Waste': ori_value5\n",
    "    }\n",
    "    \n",
    "    # Create a list of bars for original components\n",
    "    original_bars = [\n",
    "        go.Bar(\n",
    "            name=component,\n",
    "            x=['Original Emissions'],\n",
    "            y=[value],\n",
    "            text=[f'{component}: {value:.4f}'],\n",
    "            textposition='auto',\n",
    "            hoverinfo='text'\n",
    "        )\n",
    "        for component, value in original_components.items()\n",
    "    ]\n",
    "    \n",
    "    # Add the supplementary emissions as a separate bar\n",
    "    supplementary_bar = go.Bar(\n",
    "        name='Supplementary CO2 Emissions',\n",
    "        x=['Supplementary Emissions'],\n",
    "        y=[con_value_co2],\n",
    "        text=[f'Total: {con_value_co2:.4f}'],\n",
    "        textposition='auto',\n",
    "        hoverinfo='text'\n",
    "    )\n",
    "    \n",
    "    # Combine all bars into a single figure\n",
    "    fig = go.Figure(data=original_bars + [supplementary_bar])\n",
    "    \n",
    "    # Update layout\n",
    "    fig.update_layout(\n",
    "        title='CO2 Emissions: Original vs Supplementary (Year 2011)',\n",
    "        yaxis_title='CO2 Emissions',\n",
    "        barmode='stack',\n",
    "        legend_title='Emission Sources'\n",
    "    )\n",
    "    \n",
    "    # Save interactive HTML\n",
    "    pio.write_html(fig, file='co2_ori_supp.html')\n",
    "    fig.show()\n",
    "    return fig\n",
    "\n",
    "# Generate the plot\n",
    "co2_plot = create_co2_stacked_bar()\n",
    "print(\"Interactive CO2 emissions chart created successfully.\")\n"
   ]
  },
  {
   "cell_type": "code",
   "execution_count": null,
   "id": "9abb8eff-3f2a-41d1-a096-68d595dce501",
   "metadata": {},
   "outputs": [],
   "source": []
  }
 ],
 "metadata": {
  "kernelspec": {
   "display_name": "Python 3",
   "language": "python",
   "name": "python3"
  },
  "language_info": {
   "codemirror_mode": {
    "name": "ipython",
    "version": 3
   },
   "file_extension": ".py",
   "mimetype": "text/x-python",
   "name": "python",
   "nbconvert_exporter": "python",
   "pygments_lexer": "ipython3",
   "version": "3.12.2"
  }
 },
 "nbformat": 4,
 "nbformat_minor": 5
}
