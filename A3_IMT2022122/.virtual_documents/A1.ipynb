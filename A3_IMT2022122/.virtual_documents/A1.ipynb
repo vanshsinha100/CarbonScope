#To supress Future Warning of Pandas
import warnings
warnings.simplefilter(action='ignore', category=FutureWarning) 
#Importing the modules
import numpy as np
import pandas as pd


df = pd.read_excel('SupplyChainEmissionFactorsforUSIndustriesCommodities.xlsx',sheet_name='Data Dictionary')




















df16_sum_com = pd.read_excel('SupplyChainEmissionFactorsforUSIndustriesCommodities.xlsx', sheet_name = '2016_Summary_Commodity')
df15_sum_com = pd.read_excel('SupplyChainEmissionFactorsforUSIndustriesCommodities.xlsx', sheet_name = '2015_Summary_Commodity')
df14_sum_com = pd.read_excel('SupplyChainEmissionFactorsforUSIndustriesCommodities.xlsx', sheet_name = '2014_Summary_Commodity')
df13_sum_com = pd.read_excel('SupplyChainEmissionFactorsforUSIndustriesCommodities.xlsx', sheet_name = '2013_Summary_Commodity')
df12_sum_com = pd.read_excel('SupplyChainEmissionFactorsforUSIndustriesCommodities.xlsx', sheet_name = '2012_Summary_Commodity')
df11_sum_com = pd.read_excel('SupplyChainEmissionFactorsforUSIndustriesCommodities.xlsx', sheet_name = '2011_Summary_Commodity')
df10_sum_com = pd.read_excel('SupplyChainEmissionFactorsforUSIndustriesCommodities.xlsx', sheet_name = '2010_Summary_Commodity')


df16_sum_com.drop('Unnamed: 7', axis = 1, inplace = True)
df15_sum_com.drop('Unnamed: 7', axis = 1, inplace = True)
df14_sum_com.drop('Unnamed: 7', axis = 1, inplace = True)
df13_sum_com.drop('Unnamed: 7', axis = 1, inplace = True)
df12_sum_com.drop('Unnamed: 7', axis = 1, inplace = True)
df11_sum_com.drop('Unnamed: 7', axis = 1, inplace = True)
df10_sum_com.drop('Unnamed: 7', axis = 1, inplace = True)


df16_sum_com.isnull().sum()


df16_sum_com.describe()


df16_sum_com.columns


df16_sum_com.columns


df16_sum_com['Year'] = 2016


df16_sum_com.head(5)


df15_sum_com['Year'] = 2015
df14_sum_com['Year'] = 2014
df13_sum_com['Year'] = 2013
df12_sum_com['Year'] = 2012
df11_sum_com['Year'] = 2011
df10_sum_com['Year'] = 2010


frame = [df16_sum_com, df15_sum_com, df14_sum_com, df13_sum_com, df12_sum_com, df11_sum_com, df10_sum_com]
df16_sum_com.set_index('Year', inplace = True)
df16_sum_com


df15_sum_com.set_index('Year', inplace = True)
df14_sum_com.set_index('Year', inplace = True)
df13_sum_com.set_index('Year', inplace = True)
df12_sum_com.set_index('Year', inplace = True)
df11_sum_com.set_index('Year', inplace = True)
df10_sum_com.set_index('Year', inplace = True)


df = pd.concat(frame)
df


df.dtypes


df = df.astype({'Commodity Code': str})
df.dtypes


df.to_csv('Summary_Commodity.csv', index = True)


df16_sum_ind = pd.read_excel('SupplyChainEmissionFactorsforUSIndustriesCommodities.xlsx', sheet_name = '2016_Summary_Industry')
df15_sum_ind = pd.read_excel('SupplyChainEmissionFactorsforUSIndustriesCommodities.xlsx', sheet_name = '2015_Summary_Industry')
df14_sum_ind = pd.read_excel('SupplyChainEmissionFactorsforUSIndustriesCommodities.xlsx', sheet_name = '2014_Summary_Industry')
df13_sum_ind = pd.read_excel('SupplyChainEmissionFactorsforUSIndustriesCommodities.xlsx', sheet_name = '2013_Summary_Industry')
df12_sum_ind = pd.read_excel('SupplyChainEmissionFactorsforUSIndustriesCommodities.xlsx', sheet_name = '2012_Summary_Industry')
df11_sum_ind = pd.read_excel('SupplyChainEmissionFactorsforUSIndustriesCommodities.xlsx', sheet_name = '2011_Summary_Industry')
df10_sum_ind = pd.read_excel('SupplyChainEmissionFactorsforUSIndustriesCommodities.xlsx', sheet_name = '2010_Summary_Industry')


df16_sum_ind.head(3)


df16_sum_ind.drop('Unnamed: 7', axis = 1, inplace = True)
df15_sum_ind.drop('Unnamed: 7', axis = 1, inplace = True)
df14_sum_ind.drop('Unnamed: 7', axis = 1, inplace = True)
df13_sum_ind.drop('Unnamed: 7', axis = 1, inplace = True)
df12_sum_ind.drop('Unnamed: 7', axis = 1, inplace = True)
df11_sum_ind.drop('Unnamed: 7', axis = 1, inplace = True)
df10_sum_ind.drop('Unnamed: 7', axis = 1, inplace = True)


df16_sum_ind.columns


df16_sum_ind.isna().sum()


df16_sum_ind['Year'] = 2016
df15_sum_ind['Year'] = 2015
df14_sum_ind['Year'] = 2014
df13_sum_ind['Year'] = 2013
df12_sum_ind['Year'] = 2012
df11_sum_ind['Year'] = 2011
df10_sum_ind['Year'] = 2010


df16_sum_ind.set_index('Year', inplace = True)
df15_sum_ind.set_index('Year', inplace = True)
df14_sum_ind.set_index('Year', inplace = True)
df13_sum_ind.set_index('Year', inplace = True)
df12_sum_ind.set_index('Year', inplace = True)
df11_sum_ind.set_index('Year', inplace = True)
df10_sum_ind.set_index('Year', inplace = True)


frame_ind = [df16_sum_ind, df15_sum_ind, df14_sum_ind, df13_sum_ind, df12_sum_ind, df11_sum_ind, df10_sum_ind]
df_ind = pd.concat(frame_ind)
df_ind


df_ind.dtypes


df_ind = df_ind.astype({'Industry Code': str})


df_ind.to_csv('Summary_Industry.csv', index = True)


df16_det_com = pd.read_excel('SupplyChainEmissionFactorsforUSIndustriesCommodities.xlsx', sheet_name = '2016_Detail_Commodity')
df15_det_com = pd.read_excel('SupplyChainEmissionFactorsforUSIndustriesCommodities.xlsx', sheet_name = '2015_Detail_Commodity')
df14_det_com = pd.read_excel('SupplyChainEmissionFactorsforUSIndustriesCommodities.xlsx', sheet_name = '2014_Detail_Commodity')
df13_det_com = pd.read_excel('SupplyChainEmissionFactorsforUSIndustriesCommodities.xlsx', sheet_name = '2013_Detail_Commodity')
df12_det_com = pd.read_excel('SupplyChainEmissionFactorsforUSIndustriesCommodities.xlsx', sheet_name = '2012_Detail_Commodity')
df11_det_com = pd.read_excel('SupplyChainEmissionFactorsforUSIndustriesCommodities.xlsx', sheet_name = '2011_Detail_Commodity')
df10_det_com = pd.read_excel('SupplyChainEmissionFactorsforUSIndustriesCommodities.xlsx', sheet_name = '2010_Detail_Commodity')


df16_det_com.columns


df16_det_com.drop('Unnamed: 7', axis = 1, inplace = True)
df15_det_com.drop('Unnamed: 7', axis = 1, inplace = True)
df14_det_com.drop('Unnamed: 7', axis = 1, inplace = True)
df13_det_com.drop('Unnamed: 7', axis = 1, inplace = True)
df12_det_com.drop('Unnamed: 7', axis = 1, inplace = True)
df11_det_com.drop('Unnamed: 7', axis = 1, inplace = True)
df10_det_com.drop('Unnamed: 7', axis = 1, inplace = True)


df16_det_com.columns


df16_det_com['Year'] = 2016
df15_det_com['Year'] = 2015
df14_det_com['Year'] = 2014
df13_det_com['Year'] = 2013
df12_det_com['Year'] = 2012
df11_det_com['Year'] = 2011
df10_det_com['Year'] = 2010


df16_det_com.isnull().sum()


df16_det_com.set_index('Year', inplace = True)
df15_det_com.set_index('Year', inplace = True)
df14_det_com.set_index('Year', inplace = True)
df13_det_com.set_index('Year', inplace = True)
df12_det_com.set_index('Year', inplace = True)
df11_det_com.set_index('Year', inplace = True)
df10_det_com.set_index('Year', inplace = True)


frame_det_com = [df16_det_com, df15_det_com, df14_det_com, df13_det_com, df12_det_com, df11_det_com, df10_det_com]
df_det_com = pd.concat(frame_det_com)
df_det_com


df_det_com.to_csv('Detail_Commodity.csv', index = True)


df16_det_ind = pd.read_excel('SupplyChainEmissionFactorsforUSIndustriesCommodities.xlsx', sheet_name = '2016_Detail_Industry')
df15_det_ind = pd.read_excel('SupplyChainEmissionFactorsforUSIndustriesCommodities.xlsx', sheet_name = '2015_Detail_Industry')
df14_det_ind = pd.read_excel('SupplyChainEmissionFactorsforUSIndustriesCommodities.xlsx', sheet_name = '2014_Detail_Industry')
df13_det_ind = pd.read_excel('SupplyChainEmissionFactorsforUSIndustriesCommodities.xlsx', sheet_name = '2013_Detail_Industry')
df12_det_ind = pd.read_excel('SupplyChainEmissionFactorsforUSIndustriesCommodities.xlsx', sheet_name = '2012_Detail_Industry')
df11_det_ind = pd.read_excel('SupplyChainEmissionFactorsforUSIndustriesCommodities.xlsx', sheet_name = '2011_Detail_Industry')
df10_det_ind = pd.read_excel('SupplyChainEmissionFactorsforUSIndustriesCommodities.xlsx', sheet_name = '2010_Detail_Industry')


df16_det_ind.columns


df16_det_ind.drop('Unnamed: 7', axis = 1, inplace = True)
df15_det_ind.drop('Unnamed: 7', axis = 1, inplace = True)
df14_det_ind.drop('Unnamed: 7', axis = 1, inplace = True)
df13_det_ind.drop('Unnamed: 7', axis = 1, inplace = True)
df12_det_ind.drop('Unnamed: 7', axis = 1, inplace = True)
df11_det_ind.drop('Unnamed: 7', axis = 1, inplace = True)
df10_det_ind.drop('Unnamed: 7', axis = 1, inplace = True)


df16_det_ind.isnull().sum()


df16_det_ind['Year'] = 2016
df15_det_ind['Year'] = 2015
df14_det_ind['Year'] = 2014
df13_det_ind['Year'] = 2013
df12_det_ind['Year'] = 2012
df11_det_ind['Year'] = 2011
df10_det_ind['Year'] = 2010


df16_det_ind.set_index('Year', inplace = True)
df15_det_ind.set_index('Year', inplace = True)
df14_det_ind.set_index('Year', inplace = True)
df13_det_ind.set_index('Year', inplace = True)
df12_det_ind.set_index('Year', inplace = True)
df11_det_ind.set_index('Year', inplace = True)
df10_det_ind.set_index('Year', inplace = True)


frame_det_ind = [df16_det_ind, df15_det_ind, df14_det_ind, df13_det_ind, df12_det_ind, df11_det_ind, df10_det_ind]
df_det_ind = pd.concat(frame_det_ind)


df_det_ind


df_det_ind.to_csv('Detail_Industry.csv', index = True)








import matplotlib.pyplot as plt
import seaborn as sns
import plotly.express as px
import plotly.graph_objects as go
from plotly.subplots import make_subplots


df1 = df16_sum_com.loc[df16_sum_com['Substance'] == 'carbon dioxide']
df2 = df1.sort_values('Supply Chain Emission Factors with Margins', ascending = False)[['Commodity Name', 'Supply Chain Emission Factors with Margins']]


palette_color = sns.color_palette('bright')
exp = [0.1, 0.1, 0.1, 0.1, 0.1]
def func(pct, allvalues):
    absolute = pct / 100.*np.sum(allvalues)
    return "{:.1f}%\n({:.3f} kg)".format(pct, absolute)
plt.pie(df2['Supply Chain Emission Factors with Margins'].head(5), 
        autopct=lambda pct: func(pct, df2['Supply Chain Emission Factors with Margins'].head(5)), 
        textprops=dict(size=8))
plt.legend(labels = df2['Commodity Name'].head(5), bbox_to_anchor=(1, 0, 0.5, 1))
plt.title('2016 CO2 Top 5')
plt.show()


df3 = df10_sum_com.loc[df10_sum_com['Substance'] == 'carbon dioxide']
df4 = df3.sort_values('Supply Chain Emission Factors with Margins', ascending = False)[['Commodity Name', 'Supply Chain Emission Factors with Margins']]


plt.pie(df4['Supply Chain Emission Factors with Margins'].head(5), 
        autopct=lambda pct: func(pct, df4['Supply Chain Emission Factors with Margins'].head(5)), 
        textprops=dict(size=8))
plt.legend(labels = df4['Commodity Name'].head(5), bbox_to_anchor=(1, 0, 0.5, 1))
plt.title('2010 CO2 Top 10')
plt.show()


df3 = df10_sum_com.loc[df10_sum_com['Substance'] == 'carbon dioxide']
df4 = df3.sort_values('Supply Chain Emission Factors with Margins', ascending = False)[['Commodity Name', 'Supply Chain Emission Factors with Margins']]


plt.pie(df4['Supply Chain Emission Factors with Margins'].head(5), 
        autopct=lambda pct: func(pct, df4['Supply Chain Emission Factors with Margins'].head(5)), 
        textprops=dict(size=8))
plt.legend(labels = df4['Commodity Name'].head(5), bbox_to_anchor=(1, 0, 0.5, 1))
plt.title('2010 CO2 Top 10')
plt.show()


df5 = df10_sum_com.loc[df10_sum_com['Substance'] == 'methane']
df6 = df5.sort_values('Supply Chain Emission Factors with Margins', ascending = False)[['Commodity Name', 'Supply Chain Emission Factors with Margins']]


plt.pie(df6['Supply Chain Emission Factors with Margins'].head(5), 
        autopct=lambda pct: func(pct, df6['Supply Chain Emission Factors with Margins'].head(5)), 
        textprops=dict(size=6))
plt.legend(labels = df6['Commodity Name'].head(5), bbox_to_anchor=(1, 0, 0.5, 1))
plt.title('2010 Methane Top 10')
plt.show()


df7 = df16_sum_com.loc[df16_sum_com['Substance'] == 'methane']
df8 = df7.sort_values('Supply Chain Emission Factors with Margins', ascending = False)[['Commodity Name', 'Supply Chain Emission Factors with Margins']]


plt.pie(df8['Supply Chain Emission Factors with Margins'].head(10), 
        autopct=lambda pct: func(pct, df8['Supply Chain Emission Factors with Margins'].head(10)), 
        textprops=dict(size=6))
plt.legend(labels = df8['Commodity Name'].head(10), bbox_to_anchor=(1, 0, 0.5, 1))
plt.title('2016 Methane top 10')
plt.show()


df9 = df16_sum_com.loc[df16_sum_com['Substance'] == 'other GHGs']
df10 = df9.sort_values('Supply Chain Emission Factors with Margins', ascending = False)[['Commodity Name', 'Supply Chain Emission Factors with Margins']]


plt.pie(df10['Supply Chain Emission Factors with Margins'].head(10), 
        autopct=lambda pct: func(pct, df10['Supply Chain Emission Factors with Margins'].head(10)), 
        textprops=dict(size=6))
plt.legend(labels = df10['Commodity Name'].head(10), bbox_to_anchor=(1, 0, 0.5, 1))
plt.title('2016 Other GHGs top 10')
plt.show()


df11 = df10_sum_com.loc[df10_sum_com['Substance'] == 'other GHGs']
df12 = df11.sort_values('Supply Chain Emission Factors with Margins', ascending = False)[['Commodity Name', 'Supply Chain Emission Factors with Margins']]


plt.pie(df12['Supply Chain Emission Factors with Margins'].head(10), 
        autopct=lambda pct: func(pct, df12['Supply Chain Emission Factors with Margins'].head(10)), 
        textprops=dict(size=6))
plt.legend(labels = df12['Commodity Name'].head(10), bbox_to_anchor=(1, 0, 0.5, 1))
plt.title('2010 Other GHGs Top 10')
plt.show()


col = df16_sum_com['Commodity Name'].unique()
l = []
for name in col:
    if1 = df16_sum_com[(df16_sum_com['Commodity Name'] == name) & ((df16_sum_com['Substance'] == 'carbon dioxide') | (df16_sum_com['Substance'] == 'methane')
                                                                     | (df16_sum_com['Substance'] == 'nitrous oxide') | (df16_sum_com['Substance'] == 'other GHGs'))]
    sum_em = if1['Supply Chain Emission Factors without Margins'].sum()
    l.append(sum_em)
dic = {col[i] : l[i] for i in range(len(col))}
dic_sort = {k: v for k, v in sorted(dic.items(), key=lambda item: item[1], reverse = True)}
plt.pie(list(dic_sort.values())[:10], autopct=lambda pct: func(pct, list(dic_sort.values())[:10]), 
        textprops=dict(size=6))
plt.legend(labels = list(dic_sort.keys())[:10], bbox_to_anchor=(1, 0, 0.5, 1))
plt.title('All GHGs Emissions 2016')
plt.show()


col2 = df10_sum_com['Commodity Name'].unique()
l2 = []
for name in col2:
    if1 = df10_sum_com[(df10_sum_com['Commodity Name'] == name) & ((df10_sum_com['Substance'] == 'carbon dioxide') | (df10_sum_com['Substance'] == 'methane')
                                                                     | (df10_sum_com['Substance'] == 'nitrous oxide') | (df10_sum_com['Substance'] == 'other GHGs'))]
    sum_em = if1['Supply Chain Emission Factors without Margins'].sum()
    l2.append(sum_em)
dic = {col2[i] : l2[i] for i in range(len(col2))}
dic_sort2 = {k: v for k, v in sorted(dic.items(), key=lambda item: item[1], reverse = True)}
plt.pie(list(dic_sort2.values())[:10], autopct=lambda pct: func(pct, list(dic_sort2.values())[:10]), 
        textprops=dict(size=6))
plt.legend(labels = list(dic_sort2.keys())[:10], bbox_to_anchor=(1, 0, 0.5, 1))
plt.title('All GHGs Emissions 2010')
plt.show()


name = 'Utilities'
l3 = []
n = 'Truck transportation'
n1 = 'Pipeline transportation'
n2 = 'Petroleum and coal products'
n3 = 'Air transportation'
l1 = []
l2 = []
l4 = []
ll = []
for df in frame:
    if1 = df[(df['Commodity Name'] == name) & ((df['Substance'] == 'carbon dioxide') | (df['Substance'] == 'methane')
                                                                     | (df['Substance'] == 'nitrous oxide') | (df['Substance'] == 'other GHGs'))]
    sum_em = if1['Supply Chain Emission Factors with Margins'].sum()
    l3.append(sum_em)
    if1 = df[(df['Commodity Name'] == n) & ((df['Substance'] == 'carbon dioxide') | (df['Substance'] == 'methane')
                                                                     | (df['Substance'] == 'nitrous oxide') | (df['Substance'] == 'other GHGs'))]
    sum_em = if1['Supply Chain Emission Factors with Margins'].sum()
    l1.append(sum_em)
    if1 = df[(df['Commodity Name'] == n1) & ((df['Substance'] == 'carbon dioxide') | (df['Substance'] == 'methane')
                                                                     | (df['Substance'] == 'nitrous oxide') | (df['Substance'] == 'other GHGs'))]
    sum_em = if1['Supply Chain Emission Factors with Margins'].sum()
    l2.append(sum_em)
    if1 = df[(df['Commodity Name'] == n2) & ((df['Substance'] == 'carbon dioxide') | (df['Substance'] == 'methane')
                                                                     | (df['Substance'] == 'nitrous oxide') | (df['Substance'] == 'other GHGs'))]
    sum_em = if1['Supply Chain Emission Factors with Margins'].sum()
    l4.append(sum_em)
    if1 = df[(df['Commodity Name'] == n3) & ((df['Substance'] == 'carbon dioxide') | (df['Substance'] == 'methane')
                                                                     | (df['Substance'] == 'nitrous oxide') | (df['Substance'] == 'other GHGs'))]
    sum_em = if1['Supply Chain Emission Factors with Margins'].sum()
    ll.append(sum_em)
l3.reverse()
l1.reverse()
l2.reverse()
l4.reverse()
ll.reverse()
df = pd.DataFrame({
    'Year': ['2010', '2011', '2012', '2013', '2014', '2015', '2016'],
    'Utilities': l3,
    'Truck transportation': l1,
    'Pipeline transportation': l2,
    'Air transportation': ll,
    'Petroleum and coal products': l4
})
years = ['2010', '2011', '2012', '2013', '2014', '2015', '2016']
fig = px.line(df, x="Year", y=[l3, l1, l2, ll,  l4], title='Supply Chain Emissions by Commodity', markers = True, width=800, height=500)
fig.update_layout(yaxis_title='Total Emission(kg/2018 USD, purchaser price)',
                  xaxis_title='Year',
                  legend_title='Commodity',
                  title_font=dict(size=16, color='Black'),
                  )
fig.for_each_trace(lambda trace: trace.update(name=trace.name.replace('wide_variable_0', 'Utilities')
                                              .replace('wide_variable_1', 'Truck Transportation')
                                              .replace('wide_variable_2', 'Pipeline Transportation')
                                             .replace('wide_variable_3', 'Air transportation')
                                             .replace('wide_variable_4', 'Petroleum and coal products')))

fig.show()



name = 'Utilities'
l3 = []
n = 'Truck transportation'
n1 = 'Pipeline transportation'
n2 = 'Petroleum and coal products'
n3 = 'Air transportation'
l1 = []
l2 = []
l4 = []
ll = []
for df in frame_ind:
    if1 = df[(df['Industry Name'] == name) & ((df['Substance'] == 'carbon dioxide') | (df['Substance'] == 'methane')
                                                                     | (df['Substance'] == 'nitrous oxide') | (df['Substance'] == 'other GHGs'))]
    sum_em = if1['Supply Chain Emission Factors with Margins'].sum()
    l3.append(sum_em)
    if1 = df[(df['Industry Name'] == n) & ((df['Substance'] == 'carbon dioxide') | (df['Substance'] == 'methane')
                                                                     | (df['Substance'] == 'nitrous oxide') | (df['Substance'] == 'other GHGs'))]
    sum_em = if1['Supply Chain Emission Factors with Margins'].sum()
    l1.append(sum_em)
    if1 = df[(df['Industry Name'] == n1) & ((df['Substance'] == 'carbon dioxide') | (df['Substance'] == 'methane')
                                                                     | (df['Substance'] == 'nitrous oxide') | (df['Substance'] == 'other GHGs'))]
    sum_em = if1['Supply Chain Emission Factors with Margins'].sum()
    l2.append(sum_em)
    if1 = df[(df['Industry Name'] == n2) & ((df['Substance'] == 'carbon dioxide') | (df['Substance'] == 'methane')
                                                                     | (df['Substance'] == 'nitrous oxide') | (df['Substance'] == 'other GHGs'))]
    sum_em = if1['Supply Chain Emission Factors with Margins'].sum()
    l4.append(sum_em)
    if1 = df[(df['Industry Name'] == n3) & ((df['Substance'] == 'carbon dioxide') | (df['Substance'] == 'methane')
                                                                     | (df['Substance'] == 'nitrous oxide') | (df['Substance'] == 'other GHGs'))]
    sum_em = if1['Supply Chain Emission Factors with Margins'].sum()
    ll.append(sum_em)
l3.reverse()
l1.reverse()
l2.reverse()
l4.reverse()
ll.reverse()
df = pd.DataFrame({
    'Year': ['2010', '2011', '2012', '2013', '2014', '2015', '2016'],
    'Utilities': l3,
    'Truck transportation': l1,
    'Pipeline transportation': l2,
    'Air transportation': ll,
    'Petroleum and coal products': l4
})
years = ['2010', '2011', '2012', '2013', '2014', '2015', '2016']
fig = px.line(df, x="Year", y=[l3, l1, l2, ll,  l4], title='Supply Chain Emissions by Industry', markers = True, width=800, height=500)
fig.update_layout(yaxis_title='Total Emission(kg/2018 USD, purchaser price)',
                  xaxis_title='Year',
                  legend_title='Industry',
                  title_font=dict(size=16, color='Black'),
                  )
fig.for_each_trace(lambda trace: trace.update(name=trace.name.replace('wide_variable_0', 'Utilities')
                                              .replace('wide_variable_1', 'Truck Transportation')
                                              .replace('wide_variable_2', 'Pipeline Transportation')
                                             .replace('wide_variable_3', 'Air transportation')
                                             .replace('wide_variable_4', 'Petroleum and coal products')))

fig.show()



name3 = 'Oil and gas extraction'
l5 = []
name4 = 'Farms'
l6 = []
name5 = 'Waste management and remediation services'
l7 = []
for df in frame:
    if1 = df[(df['Commodity Name'] == name3) & (df['Substance'] == 'methane')]
    sum_em = if1['Supply Chain Emission Factors with Margins'].sum()
    if2 = df[(df['Commodity Name'] == name4) & (df['Substance'] == 'methane')]
    sum2 = if2['Supply Chain Emission Factors with Margins'].sum()
    l5.append(sum_em)
    l6.append(sum2)
    if2 = df[(df['Commodity Name'] == name5) & (df['Substance'] == 'methane')]
    sum2 = if2['Supply Chain Emission Factors with Margins'].sum()
    l7.append(sum2)
    
l5.reverse()
l6.reverse()
l7.reverse()
df = pd.DataFrame({
    'Year': ['2010', '2011', '2012', '2013', '2014', '2015', '2016'],
    'Oil and gas extraction': l5,
    'Farms': l6,
    'Waste management and remediation services': l7
})
df.plot('Year', ['Oil and gas extraction', 'Farms', 'Waste management and remediation services'], kind = 'bar', title = 'Methane Emissions over the years')
plt.legend(bbox_to_anchor=(1, 0, 0.8, 1))
plt.ylabel('Total Emission(kg/2018 USD, purchaser price)')
plt.grid(axis = 'y', linestyle = '--', linewidth = 0.4)
#plt.savefig('plots/methane_emissions.png')


name3 = 'Water transportation'
name4 = 'Machinery'
name5 = 'Primary metals'
l5 = []
l6 = []
l7 = []

# Process each DataFrame in the 'frame' list
for df in frame:
    if1 = df[(df['Commodity Name'] == name3) & (df['Substance'] == 'other GHGs')]
    sum_em = if1['Supply Chain Emission Factors with Margins'].sum()
    l5.append(sum_em)
    
    if2 = df[(df['Commodity Name'] == name4) & (df['Substance'] == 'other GHGs')]
    sum2 = if2['Supply Chain Emission Factors with Margins'].sum()
    l6.append(sum2)
    
    if2 = df[(df['Commodity Name'] == name5) & (df['Substance'] == 'other GHGs')]
    sum2 = if2['Supply Chain Emission Factors with Margins'].sum()
    l7.append(sum2)

# Reverse the lists to match the chronological order
l5.reverse()
l6.reverse()
l7.reverse()

# Create DataFrame for plotting
df_plot = pd.DataFrame({
    'Year': ['2010', '2011', '2012', '2013', '2014', '2015', '2016'],
    'Water transportation': l5,
    'Machinery': l6,
    'Primary Metals': l7
})

# Plotting with Plotly Express
fig = px.bar(df_plot, x='Year', y=['Water transportation', 'Machinery', 'Primary Metals'], title='Other GHGs Emissions by Commodities over the Years',
             labels={'value': 'Emission Factors with Margins', 'variable': 'Commodity'},
             height=500, width = 700) # Adjust height for better layout
fig.update_traces(width=0.5)
# Update layout to add gridlines and customize appearance
fig.update_layout(
    xaxis_title='Year',
    yaxis_title='Total Emission(kg/2018 USD, purchaser price)',
    title_font=dict(size=16, color='Black'),
    xaxis=dict(tickmode='linear'),  # Ensure all years are shown
    yaxis=dict(showgrid=True, gridcolor='LightGray', gridwidth=1),
    legend_title='Commodity',
)

# Show plot
fig.show()


name3 = 'Farms'
name4 = 'Food and beverage and tobacco products'
l5 = []
l6 = []

# Process each DataFrame in the 'frame' list
for df in frame:
    if1 = df[(df['Commodity Name'] == name3) & (df['Substance'] == 'nitrous oxide')]
    sum_em = if1['Supply Chain Emission Factors with Margins'].sum()
    l5.append(sum_em)
    
    if2 = df[(df['Commodity Name'] == name4) & (df['Substance'] == 'nitrous oxide')]
    sum2 = if2['Supply Chain Emission Factors with Margins'].sum()
    l6.append(sum2)

# Reverse the lists to match the chronological order
l5.reverse()
l6.reverse()

# Create DataFrame for plotting
df_plot = pd.DataFrame({
    'Year': ['2010', '2011', '2012', '2013', '2014', '2015', '2016'],
    'Farms': l5,
    'Food and beverage and tobacco products': l6,
})

# Plotting with Plotly Express
fig = px.bar(df_plot, x='Year', y=['Farms', 'Food and beverage and tobacco products'], title='Nitrous Oxide Emissions by Commodities over the Years',
             labels={'value': 'Emission Factors with Margins', 'variable': 'Commodity'},
             height=500, width = 800) # Adjust height for better layout
fig.update_traces(width=0.5)
# Update layout to add gridlines and customize appearance
fig.update_layout(
    xaxis_title='Year',
    yaxis_title='Total Emission(kg/2018 USD, purchaser price)',
    title_font=dict(size=16, color='Black'),
    xaxis=dict(tickmode='linear'),  # Ensure all years are shown
    yaxis=dict(showgrid=True, gridcolor='LightGray', gridwidth=1),
    legend_title='Commodity',
)

# Show plot
fig.show()


def func(pct, allvalues):
    absolute = pct / 100.*sum(allvalues)
    return "{:.1f}%\n({:.2f} units)".format(pct, absolute)
sizes = df4['Supply Chain Emission Factors with Margins'].head(5)
labels = df4['Commodity Name'].head(5)
colors = plt.cm.Paired(range(len(labels)))
fig, ax = plt.subplots(figsize=(6, 4))
wedges, texts, autotexts = ax.pie(
    sizes,
    autopct=lambda pct: func(pct, sizes),
    colors=colors,
    startangle=0,
    textprops=dict(color="w", size=7)
)
ax.legend(
    wedges,
    labels,
    title="Commodities",
    loc="center left",
    bbox_to_anchor=(1, 0, 0.5, 1)
)
ax.set_title('2010 CO2 Top 5 Commodities', fontsize=12)
for text in autotexts:
    text.set_fontsize(7)
    text.set_color('black')
plt.setp(ax.get_legend().get_texts(), fontsize='10')
plt.tight_layout()
plt.show()
#plt.savefig('plots/2010_co2.jpg', bbox_inches='tight')


sizes = df2['Supply Chain Emission Factors with Margins'].head(5)
labels = df2['Commodity Name'].head(5)
fig, ax = plt.subplots(figsize=(6, 4))
wedges, texts, autotexts = ax.pie(
    sizes,
    autopct=lambda pct: func(pct, sizes),
    startangle=0,
    colors = palette_color,
    textprops=dict(color="w", size=7)
)
ax.legend(
    wedges,
    labels,
    title="Commodities",
    loc="center left",
    bbox_to_anchor=(1, 0, 0.5, 1)
)
ax.set_title('2016 CO2 Top 5 Commodities', fontsize=12)
for text in autotexts:
    text.set_fontsize(7)
    text.set_color('white')
plt.setp(ax.get_legend().get_texts(), fontsize='10')
plt.tight_layout()
plt.show()
#plt.savefig('plots/2016_co2.png', bbox_inches='tight')


n = 'Utilities'
l1 = []
l2 = []
l3 = []
l4 = []
for df in frame_ind:
    if1 = df[(df['Industry Name'] == n) & (df['Substance'] == 'carbon dioxide')]
    sum_em = if1['Supply Chain Emission Factors with Margins'].sum()
    l1.append(sum_em)
    if1 = df[(df['Industry Name'] == n) & (df['Substance'] == 'methane')]
    sum_em = if1['Supply Chain Emission Factors with Margins'].sum()
    l2.append(sum_em)
    if1 = df[(df['Industry Name'] == n) & (df['Substance'] == 'nitrous oxide')]
    sum_em = if1['Supply Chain Emission Factors with Margins'].sum()
    l3.append(sum_em)
    if1 = df[(df['Industry Name'] == n) & (df['Substance'] == 'other GHGs')]
    sum_em = if1['Supply Chain Emission Factors with Margins'].sum()
    l4.append(sum_em)

l3.reverse()
l1.reverse()
l2.reverse()
l4.reverse()
for i in range(len(l1)):
    l1[i] = l1[i]/100
df_plot = pd.DataFrame({
    'Year': ['2010', '2011', '2012', '2013', '2014', '2015', '2016'],
    'Carbon Dioxide(Divided 100)': l1,
    'Methane': l2,
    'Nitrous Oxide': l3,
    'Other GHGs': l4
})

# Plotting with Plotly Express
fig = px.bar(df_plot, x='Year', y=['Carbon Dioxide(Divided 100)', 'Methane', 'Nitrous Oxide', 'Other GHGs'], 
             title='Utilities Splitted Emissions',
             labels={'value': 'Emission Factors with Margins', 'variable': 'Commodity'},
             height=500, width = 750) # Adjust height for better layout
fig.update_traces(width=0.5)
# Update layout to add gridlines and customize appearance
fig.update_layout(
    xaxis_title='Year',
    yaxis_title='Total Emission(kg/2018 USD, purchaser price)',
    title_font=dict(size=16, color='Black'),
    xaxis=dict(tickmode='linear'),  # Ensure all years are shown
    yaxis=dict(showgrid=True, gridcolor='LightGray', gridwidth=1),
    legend_title='Industry',
)

# Show plot
fig.show()


n = 'Farms'
l1 = []
l2 = []
l3 = []
l4 = []
for df in frame:
    if1 = df[(df['Commodity Name'] == n) & (df['Substance'] == 'carbon dioxide')]
    sum_em = if1['Supply Chain Emission Factors with Margins'].sum()
    l1.append(sum_em)
    if1 = df[(df['Commodity Name'] == n) & (df['Substance'] == 'methane')]
    sum_em = if1['Supply Chain Emission Factors with Margins'].sum()
    l2.append(sum_em)
    if1 = df[(df['Commodity Name'] == n) & (df['Substance'] == 'nitrous oxide')]
    sum_em = if1['Supply Chain Emission Factors with Margins'].sum()
    l3.append(sum_em)
    if1 = df[(df['Commodity Name'] == n) & (df['Substance'] == 'other GHGs')]
    sum_em = if1['Supply Chain Emission Factors with Margins'].sum()
    l4.append(sum_em)

l3.reverse()
l1.reverse()
l2.reverse()
l4.reverse()
for i in range(len(l1)):
    l1[i] = l1[i]/100
df_plot = pd.DataFrame({
    'Year': ['2010', '2011', '2012', '2013', '2014', '2015', '2016'],
    'Carbon Dioxide(Divided by 100)': l1,
    'Methane': l2,
    'Nitrous Oxide': l3,
    'Other GHGs': l4
})

df_plot.plot('Year', y=['Carbon Dioxide(Divided by 100)', 'Methane', 'Nitrous Oxide', 'Other GHGs'], 
             title='Farms Splitted Emissions', kind = 'bar',
            color=plt.cm.tab20c([1, 5, 9, 13]))
plt.legend(bbox_to_anchor=(1, 0, 0.62, 1))
plt.ylabel('Total Emission(kg/2018 USD, purchaser price)')
plt.grid(axis = 'y', linestyle = '--', linewidth = 0.4)
#plt.savefig('plots/farm_split.png', bbox_inches='tight')
# Plotting with Plotly Express



name = 'Air transportation'
l3 = []
n = 'Waste management and remediation services'
n1 = 'Oil and gas extraction'
n2 = 'Primary metals'
n3 = 'Farms'
l1 = []
l2 = []
l4 = []
df = df16_sum_ind
if1 = df[((df['Industry Name'] == name) | (df['Industry Name'] == n) | 
             (df['Industry Name'] == n1) | (df['Industry Name'] == n2) | 
             (df['Industry Name'] == n3)) & (df['Substance'] == 'carbon dioxide')]
sum_em = if1['Supply Chain Emission Factors with Margins'].sum()
l1.extend(if1['Supply Chain Emission Factors with Margins'])
if1 = df[((df['Industry Name'] == name) | (df['Industry Name'] == n) | 
             (df['Industry Name'] == n1) | (df['Industry Name'] == n2) | 
             (df['Industry Name'] == n3)) & (df['Substance'] == 'methane')]
sum_em = if1['Supply Chain Emission Factors with Margins'].sum()
l2.extend(if1['Supply Chain Emission Factors with Margins'])
if1 = df[((df['Industry Name'] == name) | (df['Industry Name'] == n) | 
             (df['Industry Name'] == n1) | (df['Industry Name'] == n2) | 
             (df['Industry Name'] == n3)) & (df['Substance'] == 'nitrous oxide')]
sum_em = if1['Supply Chain Emission Factors with Margins'].sum()
l3.extend(if1['Supply Chain Emission Factors with Margins'])
if1 = df[((df['Industry Name'] == name) | (df['Industry Name'] == n) | 
             (df['Industry Name'] == n1) | (df['Industry Name'] == n2) | 
             (df['Industry Name'] == n3)) & (df['Substance'] == 'other GHGs')]
sum_em = if1['Supply Chain Emission Factors with Margins'].sum()
l4.extend(if1['Supply Chain Emission Factors with Margins'])
for i in range(len(l1)):
    l2[i] = l2[i]*10
    l3[i] = l3[i]*100
    l4[i] = l4[i]*10

data = [l1, l2, l3, l4]
fig = px.imshow(data,
                labels=dict(x="Industry Name", y="Gas"),
                x=['Farms', 'Oil and gas extraction', 'Primary metals', 'Air transportation', 'Waste management and remediation services'],
                y=['Carbon Dioxide', 'Methane (Scaled by 10)', 'Nitrous Oxide (Scaled by 100)', 'Other GHGs (Scaled by 10)'],
                height = 700, width = 700, text_auto = True
               )
fig.update_xaxes(side="top")
fig.show()






import matplotlib.pyplot as plt
plt.rcParams['font.size'] = 15.0
import seaborn as sns
import plotly.express as px
import plotly.graph_objects as go
from plotly.subplots import make_subplots


dc = pd.read_csv('Detail_Commodity.csv')
di = pd.read_csv('Detail_Industry.csv')
sc = pd.read_csv('Summary_Commodity.csv')
si = pd.read_csv('Summary_Industry.csv')








column1_industry = si['Supply Chain Emission Factors without Margins']
column2_industry = si['Supply Chain Emission Factors with Margins']
column1_commodity = sc['Supply Chain Emission Factors without Margins']
column2_commodity = sc['Supply Chain Emission Factors with Margins']

# Create subplots
fig, axes = plt.subplots(2, 1, figsize=(12, 8))

# Plot for Industry
sns.histplot(column1_industry, kde=True, bins=50, alpha=0.5, color='orange', label='Without Margins', ax=axes[0])
sns.histplot(column2_industry, kde=True, bins=50, alpha=0.5, color='blue', label='With Margins', ax=axes[0])
axes[0].set_ylim((0.9, 2000))
axes[0].set_yscale('log')
axes[0].set_title("Supply Chain Emissions (Industry)")
axes[0].set_xlabel("Emissions (kg per 2018 USD)")
axes[0].legend()

# Plot for Commodity
sns.histplot(column1_commodity, kde=True, bins=50, alpha=0.5, color='orange', label='Without Margins', ax=axes[1])
sns.histplot(column2_commodity, kde=True, bins=50, alpha=0.5, color='blue', label='With Margins', ax=axes[1])
axes[1].set_ylim((0.9, 2000))
axes[1].set_yscale('log')
axes[1].set_title("Supply Chain Emissions (Commodity)")
axes[1].set_xlabel("Emissions (kg per 2018 USD)")
axes[1].legend()
plt.tight_layout()
plt.show()


column1_industry.name = "Industry Emmisions w/o Margins"
column2_industry.name = "Industry Emmisions w/ Margins"
column1_commodity.name = "Commodity Emmisions w/o Margins"
column2_commodity.name = "Commodity Emmisions w/ Margins"

emissions = pd.DataFrame(data=[column1_commodity,column2_commodity,column1_industry,column2_industry]).T
emissions.aggregate(['mean','min','max'])


# Prepare data for grouped bar chart
commodity_reliability = sc['DQ ReliabilityScore of Factors without Margins'].value_counts().reindex([1, 2, 3, 4, 5], fill_value=0)
industry_reliability =  si['DQ ReliabilityScore of Factors without Margins'].value_counts().reindex([1, 2, 3, 4, 5], fill_value=0)

reliability_df = pd.DataFrame({
    'Score': commodity_reliability.index,
    'Commodity': commodity_reliability.values,
    'Industry': industry_reliability.values
})

reliability_melted = reliability_df.melt(id_vars='Score', value_vars=['Commodity', 'Industry'], 
                                                          var_name='Category', value_name='Count')

# Plot grouped bar chart
plt.figure(figsize=(12, 8))
sns.barplot(x='Score', y='Count', hue='Category', data=reliability_melted, palette='viridis')
plt.xlabel("Reliability Score")
plt.ylabel("Count")
plt.title("Reliability Scores (USEPA 2016 Data Quality Assessment System)")
plt.legend(title="Category")
plt.tight_layout()
plt.show()


# Prepare data for grouped bar chart including zero values for Temporal Correlation Scores
# Get value counts for both datasets and include all possible scores from 1 to 5
commodity_temporal_correlation = sc['DQ TemporalCorrelation of Factors without Margins'].value_counts().reindex([1, 2, 3, 4, 5], fill_value=0)
industry_temporal_correlation = si['DQ TemporalCorrelation of Factors without Margins'].value_counts().reindex([1, 2, 3, 4, 5], fill_value=0)

# Combine the data into a single DataFrame
temporal_correlation_df = pd.DataFrame({
    'Score': commodity_temporal_correlation.index,
    'Commodity': commodity_temporal_correlation.values,
    'Industry': industry_temporal_correlation.values
})

# Melt the DataFrame to long format for seaborn plotting
temporal_correlation_melted = temporal_correlation_df.melt(id_vars='Score', value_vars=['Commodity', 'Industry'], 
                                                          var_name='Category', value_name='Count')

# Plot grouped bar chart
plt.figure(figsize=(12, 8))
sns.barplot(x='Score', y='Count', hue='Category', data=temporal_correlation_melted, palette='viridis')
plt.xlabel("Temporal Correlation Score")
plt.ylabel("Count")
plt.title("Temporal Correlation Scores (USEPA 2016 Data Quality Assessment System)")
plt.legend(title="Category")
plt.tight_layout()
plt.show()



# For Geographical Correlation
commodity_geographical = sc['DQ GeographicalCorrelation of Factors without Margins'].value_counts().reindex([1, 2, 3, 4, 5], fill_value=0)
industry_geographical = si['DQ GeographicalCorrelation of Factors without Margins'].value_counts().reindex([1, 2, 3, 4, 5], fill_value=0)

geographical_df = pd.DataFrame({
    'Score': commodity_geographical.index,
    'Commodity': commodity_geographical.values,
    'Industry': industry_geographical.values
})

geographical_melted = geographical_df.melt(id_vars='Score', value_vars=['Commodity', 'Industry'], 
                                           var_name='Category', value_name='Count')

plt.figure(figsize=(12, 8))
sns.barplot(x='Score', y='Count', hue='Category', data=geographical_melted, palette='viridis')
plt.xlabel("Geographical Correlation Score")
plt.ylabel("Count")
plt.title("Geographical Correlation Scores (USEPA 2016 Data Quality Assessment System)")
plt.legend(title="Category")
plt.tight_layout()
plt.show()


# For Technological Correlation
commodity_technological = sc['DQ TechnologicalCorrelation of Factors without Margins'].value_counts().reindex([1, 2, 3, 4, 5], fill_value=0)
industry_technological = si['DQ TechnologicalCorrelation of Factors without Margins'].value_counts().reindex([1, 2, 3, 4, 5], fill_value=0)

technological_df = pd.DataFrame({
    'Score': commodity_technological.index,
    'Commodity': commodity_technological.values,
    'Industry': industry_technological.values
})

technological_melted = technological_df.melt(id_vars='Score', value_vars=['Commodity', 'Industry'], 
                                             var_name='Category', value_name='Count')

plt.figure(figsize=(12, 8))
sns.barplot(x='Score', y='Count', hue='Category', data=technological_melted, palette='viridis')
plt.xlabel("Technological Correlation Score")
plt.ylabel("Count")
plt.title("Technological Correlation Scores (USEPA 2016 Data Quality Assessment System)")
plt.legend(title="Category")
plt.tight_layout()
plt.show()


commodity_data_collection = sc['DQ DataCollection of Factors without Margins'].value_counts().reindex([1, 2, 3, 4, 5], fill_value=0)
industry_data_collection = si['DQ DataCollection of Factors without Margins'].value_counts().reindex([1, 2, 3, 4, 5], fill_value=0)

data_collection_df = pd.DataFrame({
    'Score': commodity_data_collection.index,
    'Commodity': commodity_data_collection.values,
    'Industry': industry_data_collection.values
})

data_collection_melted = data_collection_df.melt(id_vars='Score', value_vars=['Commodity', 'Industry'], 
                                                 var_name='Category', value_name='Count')

plt.figure(figsize=(12, 8))
sns.barplot(x='Score', y='Count', hue='Category', data=data_collection_melted, palette='viridis')
plt.xlabel("Data Collection Score")
plt.ylabel("Count")
plt.title("Data Collection Scores (USEPA 2016 Data Quality Assessment System)")
plt.legend(title="Category")
plt.tight_layout()
plt.show()








top5_comm = sc[['Commodity Name','Supply Chain Emission Factors with Margins']].groupby(by=["Commodity Name"]).agg('sum')\
.sort_values("Supply Chain Emission Factors with Margins",ascending=False).reset_index().head()
top5_ind = si[['Industry Name','Supply Chain Emission Factors with Margins']].groupby(by=["Industry Name"]).agg('sum')\
.sort_values("Supply Chain Emission Factors with Margins",ascending=False).reset_index().head()


fig = make_subplots(
    rows=1, cols=2,
    specs=[[{'type': 'pie'}, {'type': 'pie'}]],
    subplot_titles=('Top 5 Emission-Contributing Commodities (2010-2016)', 'Top 5 Emission-Contributing Industries (2010-2016)')
)

pie_comm = go.Pie(
    labels=top5_comm['Commodity Name'],
    values=top5_comm['Supply Chain Emission Factors with Margins'],
    textinfo='percent+label',
    showlegend=False,
    textfont=dict(size=13)
)

pie_ind = go.Pie(
    labels=top5_ind['Industry Name'],
    values=top5_ind['Supply Chain Emission Factors with Margins'],
    textinfo='percent+label',
    showlegend=False,
    textfont=dict(size=13)
)

fig.add_trace(pie_comm, row=1, col=2)
fig.add_trace(pie_ind, row=1, col=1)

fig.update_layout(
    title=dict(
        text='Top 5 Emission-Contributing Commodities and Industries (2010-2016)',
        font=dict(size=30)
    ),
    height=800,
    width=1300
)
fig.update_layout(
    annotations=[
        dict(
            text='Commodity',
            font=dict(size=30),
            y=0,
            showarrow=False
        ),
        dict(
            text='Industry',
            font=dict(size=30),
            y=0,
            showarrow=False
        )
    ]
)

fig.show()



substance_top_ind = si[['Industry Name','Substance','Supply Chain Emission Factors with Margins']].groupby(by=['Substance',"Industry Name"]).agg('sum')\
.apply(lambda x : x.sort_values(ascending=False)).groupby(level=0).head(5).sort_values(by='Supply Chain Emission Factors with Margins',ascending=False)\
.reset_index()
substance_top_ind = substance_top_ind[substance_top_ind['Supply Chain Emission Factors with Margins']>0]

substance_top_comm = sc[['Commodity Name','Substance','Supply Chain Emission Factors with Margins']].groupby(by=['Substance',"Commodity Name"]).agg('sum')\
.apply(lambda x : x.sort_values(ascending=False)).groupby(level=0).head(5).sort_values(by='Supply Chain Emission Factors with Margins',ascending=False)\
.reset_index()
substance_top_comm = substance_top_comm[substance_top_comm['Supply Chain Emission Factors with Margins']>0]


def plot_sunburst_for_substance(substance, substance_top_ind, substance_top_comm):

    # Filter data for the given substance
    df_ind = substance_top_ind[substance_top_ind['Substance'] == substance]
    df_comm = substance_top_comm[substance_top_comm['Substance'] == substance]
    
    # Create a subplot figure with 1 row and 2 columns
    fig = make_subplots(
        rows=1, cols=2,  # 1 row and 2 columns
        specs=[[{'type': 'domain'}, {'type': 'domain'}]],  # Set subplot type to 'domain' for sunburst
        subplot_titles=('Industry', 'Commodity')
    )
    fig.update_layout(
    annotations=[
        dict(
            text='Industry',
            font=dict(size=30),  # Increase font size for "Industry"
            y=0,
            showarrow=False
        ),
        dict(
            text='Commodity',
            font=dict(size=30),  # Increase font size for "Commodity"
            y=0,
            showarrow=False
        )
    ]
    )
    
    # First Sunburst for 'Industry Name'
    sunburst_ind = go.Sunburst(
        labels=df_ind['Industry Name'].tolist(),
        parents=df_ind['Substance'].tolist(),
        values=df_ind['Supply Chain Emission Factors with Margins'].tolist(),
        branchvalues="total",  # Determines how the values are summed up
        marker=dict(colors=df_ind['Supply Chain Emission Factors with Margins'], colorscale='RdYlGn_r'),
        textinfo="label+percent entry",  # Display labels and percentages
        textfont=dict(size=20)  # Set font size for all texts
    )
    
    # Second Sunburst for 'Commodity Name'
    sunburst_comm = go.Sunburst(
        labels=df_comm['Commodity Name'].tolist(),
        parents=df_comm['Substance'].tolist(),
        values=df_comm['Supply Chain Emission Factors with Margins'].tolist(),
        branchvalues="total",
        marker=dict(colors=df_comm['Supply Chain Emission Factors with Margins'], colorscale='RdYlGn_r'),
        textinfo="label+percent entry", 
        textfont=dict(size=20) 
    )
    
    # Add the sunburst charts to the subplots
    fig.add_trace(sunburst_ind, row=1, col=1)
    fig.add_trace(sunburst_comm, row=1, col=2)

    # Update layout settings
    fig.update_layout(
        title=dict(
            text=f'Supply Chain Emissions for {substance.capitalize()} by Industry and Commodity',
            font=dict(size=30)  # Increase title font size
        ),
        height=800
    )
    
    # Show the plot
    fig.show()



plot_sunburst_for_substance('carbon dioxide', substance_top_ind, substance_top_comm)


plot_sunburst_for_substance('methane', substance_top_ind, substance_top_comm)


plot_sunburst_for_substance('nitrous oxide', substance_top_ind, substance_top_comm)


plot_sunburst_for_substance('other GHGs', substance_top_ind, substance_top_comm)









plt.figure(figsize=(12, 8))

# Plot for Commodity data - Relationship with Time for 'Supply Chain Emission Factors with Margins'
sns.lineplot(data=sc, x='Year', y='Supply Chain Emission Factors with Margins', 
             estimator='mean', ci=None, label='Commodity', marker='o')

# Plot for Industry data - Relationship with Time for 'Supply Chain Emission Factors with Margins'
sns.lineplot(data=si, x='Year', y='Supply Chain Emission Factors with Margins', 
             estimator='mean', ci=None, label='Industry', marker='o')

# Adding title and labels
plt.title('Average Supply Chain Emission Factors with Margins Over Time (Commodity vs. Industry)')
plt.xlabel('Year')
plt.ylabel('Average Emission Factors with Margins')
plt.legend(title='Category')
plt.tight_layout()
plt.grid(True)
plt.show()



# Creating a copy of the data to adjust the values for better visualization
commodity_df_adj = sc.copy(deep=True)
industry_df_adj = si.copy(deep=True)

# Adjusting the values of 'Supply Chain Emission Factors with Margins' for 'carbon dioxide' to enhance visualization
commodity_df_adj.loc[commodity_df_adj['Substance'] == 'carbon dioxide', 'Supply Chain Emission Factors with Margins'] /= 100
industry_df_adj.loc[industry_df_adj['Substance'] == 'carbon dioxide', 'Supply Chain Emission Factors with Margins'] /= 100
industry_df_adj['Substance'] = industry_df_adj['Substance'].apply(lambda x : x+"_Ind")
commodity_df_adj['Substance'] = commodity_df_adj['Substance'].apply(lambda x : x+"_Comm")

# Set up the figure size for better visibility
plt.figure(figsize=(14, 10))

# Plot for Commodity data - Relationship with Time for 'Supply Chain Emission Factors with Margins' grouped by 'Substance'
sns.lineplot(data=commodity_df_adj, x='Year', y='Supply Chain Emission Factors with Margins', 
             hue='Substance', ci=None, marker='o', palette='tab10',linewidth = 3)

# Plot for Industry data - Relationship with Time for 'Supply Chain Emission Factors with Margins' grouped by 'Substance'
sns.lineplot(data=industry_df_adj, x='Year', y='Supply Chain Emission Factors with Margins', 
             hue='Substance', ci=None, marker='o', palette='tab10', linestyle='dotted',linewidth = 3)

# Adding title and labels
plt.title('Average Supply Chain Emission Factors with Margins Over Time by Substance (Commodity vs. Industry Data)')
plt.xlabel('Year')
plt.ylabel('Average Emission Factors with Margins (CO2 values 100x downscaled)')
plt.grid(True)
plt.legend(title='Substance and Data Type', loc='upper left', bbox_to_anchor=(1, 1))

plt.show()




# Group data by Year and Substance for industries and commodities
industry_avg_emissions = industry_df_adj.groupby(['Year', 'Substance'])['Supply Chain Emission Factors with Margins'].mean().reset_index()
commodity_avg_emissions = commodity_df_adj.groupby(['Year', 'Substance'])['Supply Chain Emission Factors with Margins'].mean().reset_index()

# Create a Plotly line chart for average emissions of each substance over time for industries and commodities
fig = go.Figure()
# Getting Tab10 palette from matplotlib
tab10_colors = plt.get_cmap('tab10').colors  # Tab10 palette from matplotlib

# Converting RGBA colors to HEX format for Plotly
tab10_palette = ['#%02x%02x%02x' % (int(r*255), int(g*255), int(b*255)) for r, g, b in tab10_colors]

for i, substance in enumerate(commodity_avg_emissions['Substance'].unique()):
    color = tab10_palette[i % len(tab10_palette)]
    fig.add_scatter(
        x=commodity_avg_emissions[commodity_avg_emissions['Substance'] == substance]['Year'],
        y=commodity_avg_emissions[commodity_avg_emissions['Substance'] == substance]['Supply Chain Emission Factors with Margins'],
        mode='lines+markers',
        name=substance,
        line=dict(color=color)
    )
    
for i, substance in enumerate(industry_avg_emissions['Substance'].unique()):
    color = tab10_palette[i % len(tab10_palette)]
    fig.add_scatter(
        x=industry_avg_emissions[industry_avg_emissions['Substance'] == substance]['Year'],
        y=industry_avg_emissions[industry_avg_emissions['Substance'] == substance]['Supply Chain Emission Factors with Margins'],
        mode='lines+markers',
        name=substance,
        line=dict(dash='dot',color=color)
    )
fig.update_layout(height=750)
# Show the Plotly line chart
fig.show()





import numpy as np
import pandas as pd
import matplotlib.pyplot as plt
import seaborn as sns


df = pd.read_csv('Detail_Commodity.csv')


df


detail_commodity_df=df



detail_commodity_df['Commodity Name'] = detail_commodity_df['Commodity Name'].astype(str)

# Filter out only the relevant columns for the plot
parallel_df = detail_commodity_df[[
    'Commodity Name',
    'Supply Chain Emission Factors without Margins',
    'Margins of Supply Chain Emission Factors',
]]

# Define colors for positive and negative slopes
positive_slope_color = 'red'
negative_slope_color = 'green'

# Create a figure for the plot
plt.figure(figsize=(20, 12))

# Loop through each row and plot individually
for i, row in parallel_df.iterrows():
    # Extract values to check the slope
    first_value = row['Supply Chain Emission Factors without Margins']
    second_value = row['Margins of Supply Chain Emission Factors']

    # Determine color based on slope
    if first_value < second_value:
        color = positive_slope_color  # Positive slope
    else:
        color = negative_slope_color  # Negative slope

    # Plot the row as a line, skipping the 'Commodity Name' column
    plt.plot([0, 1], [first_value, second_value], color=color,linewidth=2, alpha=0.7)

# Adding title and labels
plt.title('Parallel Coordinates Plot: Commodity Emission Profiles (Color by Slope)', fontsize=16)
plt.xlabel('Attributes', fontsize=12)
plt.ylabel('Emission Factor Values', fontsize=12)

# Customize x-axis to have labels for each attribute
plt.xticks([0, 1], ['Supply Chain Emission Factors without Margins', 'Margins of Supply Chain Emission Factors'], rotation=0)

# Adjust layout
plt.tight_layout()

# Show plot
plt.show()







import seaborn as sns
dq_score_df = df[(df['Substance']=='carbon dioxide') & (df['Year']==2016)]


# Extract relevant columns for DQ scores
dq_columns = ['Commodity Name', 'Substance', 'DQ ReliabilityScore of Factors without Margins', 
              'DQ TemporalCorrelation of Factors without Margins', 'DQ GeographicalCorrelation of Factors without Margins', 
              'DQ TechnologicalCorrelation of Factors without Margins', 'DQ DataCollection of Factors without Margins']

# Subset the data for DQ scores
dq_data = dq_score_df[dq_columns]

# Calculate the average DQ score for each commodity and substance
dq_data['Average DQ Score'] = dq_data[['DQ ReliabilityScore of Factors without Margins', 
                                       'DQ TemporalCorrelation of Factors without Margins', 
                                       'DQ GeographicalCorrelation of Factors without Margins', 
                                       'DQ TechnologicalCorrelation of Factors without Margins', 
                                       'DQ DataCollection of Factors without Margins']].mean(axis=1)


# Pivot the data to have substances as columns and commodities as rows
pivot_dq_data = dq_data.pivot(index='Commodity Name', columns='Substance', values='Average DQ Score')

# Set up the matplotlib figure
plt.figure(figsize=(12, 8))

# Create a heatmap of the DQ scores
sns.heatmap(pivot_dq_data, annot=False, cmap='coolwarm', linewidths=0.5)

# Add title and labels
plt.title('Heatmap of Average DQ Scores Across Commodities and Substances', fontsize=16)
plt.xlabel('Substance')
plt.ylabel('Commodity Name')

#plt.savefig('Heatmap Year-2016 CO2.png')

# Show plot
plt.tight_layout()
plt.show()




import seaborn as sns
dq_score_df = df[(df['Substance']=='methane') & (df['Year']==2016)]


# Extract relevant columns for DQ scores
dq_columns = ['Commodity Name', 'Substance', 'DQ ReliabilityScore of Factors without Margins', 
              'DQ TemporalCorrelation of Factors without Margins', 'DQ GeographicalCorrelation of Factors without Margins', 
              'DQ TechnologicalCorrelation of Factors without Margins', 'DQ DataCollection of Factors without Margins']

# Subset the data for DQ scores
dq_data = dq_score_df[dq_columns]

# Calculate the average DQ score for each commodity and substance
dq_data['Average DQ Score'] = dq_data[['DQ ReliabilityScore of Factors without Margins', 
                                       'DQ TemporalCorrelation of Factors without Margins', 
                                       'DQ GeographicalCorrelation of Factors without Margins', 
                                       'DQ TechnologicalCorrelation of Factors without Margins', 
                                       'DQ DataCollection of Factors without Margins']].mean(axis=1)


# Pivot the data to have substances as columns and commodities as rows
pivot_dq_data = dq_data.pivot(index='Commodity Name', columns='Substance', values='Average DQ Score')

# Set up the matplotlib figure
plt.figure(figsize=(12, 8))

# Create a heatmap of the DQ scores
sns.heatmap(pivot_dq_data, annot=False, cmap='coolwarm', linewidths=0.5)

# Add title and labels
plt.title('Heatmap of Average DQ Scores Across Commodities and Substances', fontsize=16)
plt.xlabel('Substance')
plt.ylabel('Commodity Name')

#plt.savefig('Heatmap Year-2016 CO2.png')

# Show plot
plt.tight_layout()
plt.show()




import seaborn as sns
dq_score_df = df[(df['Substance']=='nitrous oxide') & (df['Year']==2016)]


# Extract relevant columns for DQ scores
dq_columns = ['Commodity Name', 'Substance', 'DQ ReliabilityScore of Factors without Margins', 
              'DQ TemporalCorrelation of Factors without Margins', 'DQ GeographicalCorrelation of Factors without Margins', 
              'DQ TechnologicalCorrelation of Factors without Margins', 'DQ DataCollection of Factors without Margins']

# Subset the data for DQ scores
dq_data = dq_score_df[dq_columns]

# Calculate the average DQ score for each commodity and substance
dq_data['Average DQ Score'] = dq_data[['DQ ReliabilityScore of Factors without Margins', 
                                       'DQ TemporalCorrelation of Factors without Margins', 
                                       'DQ GeographicalCorrelation of Factors without Margins', 
                                       'DQ TechnologicalCorrelation of Factors without Margins', 
                                       'DQ DataCollection of Factors without Margins']].mean(axis=1)


# Pivot the data to have substances as columns and commodities as rows
pivot_dq_data = dq_data.pivot(index='Commodity Name', columns='Substance', values='Average DQ Score')

# Set up the matplotlib figure
plt.figure(figsize=(12, 8))

# Create a heatmap of the DQ scores
sns.heatmap(pivot_dq_data, annot=False, cmap='coolwarm', linewidths=0.5)

# Add title and labels
plt.title('Heatmap of Average DQ Scores Across Commodities and Substances', fontsize=16)
plt.xlabel('Substance')
plt.ylabel('Commodity Name')

#plt.savefig('Heatmap Year-2016 CO2.png')

# Show plot
plt.tight_layout()
plt.show()




import seaborn as sns
dq_score_df = df[(df['Substance']=='other GHGs') & (df['Year']==2016)]


# Extract relevant columns for DQ scores
dq_columns = ['Commodity Name', 'Substance', 'DQ ReliabilityScore of Factors without Margins', 
              'DQ TemporalCorrelation of Factors without Margins', 'DQ GeographicalCorrelation of Factors without Margins', 
              'DQ TechnologicalCorrelation of Factors without Margins', 'DQ DataCollection of Factors without Margins']

# Subset the data for DQ scores
dq_data = dq_score_df[dq_columns]

# Calculate the average DQ score for each commodity and substance
dq_data['Average DQ Score'] = dq_data[['DQ ReliabilityScore of Factors without Margins', 
                                       'DQ TemporalCorrelation of Factors without Margins', 
                                       'DQ GeographicalCorrelation of Factors without Margins', 
                                       'DQ TechnologicalCorrelation of Factors without Margins', 
                                       'DQ DataCollection of Factors without Margins']].mean(axis=1)


# Pivot the data to have substances as columns and commodities as rows
pivot_dq_data = dq_data.pivot(index='Commodity Name', columns='Substance', values='Average DQ Score')

# Set up the matplotlib figure
plt.figure(figsize=(12, 8))

# Create a heatmap of the DQ scores
sns.heatmap(pivot_dq_data, annot=False, cmap='coolwarm', linewidths=0.5)

# Add title and labels
plt.title('Heatmap of Average DQ Scores Across Commodities and Substances', fontsize=16)
plt.xlabel('Substance')
plt.ylabel('Commodity Name')

#plt.savefig('Heatmap Year-2016 CO2.png')

# Show plot
plt.tight_layout()
plt.show()




# Assuming your CSV data is loaded into a DataFrame called df
# Adjust the column names based on your actual dataset structure.

# Load the dataset (replace with the actual filename and column names)
df = pd.read_csv('Summary_Commodity.csv')

df['Average DQ Score'] = df[['DQ ReliabilityScore of Factors without Margins',
                                'DQ TemporalCorrelation of Factors without Margins',
                                'DQ GeographicalCorrelation of Factors without Margins',
                                'DQ TechnologicalCorrelation of Factors without Margins',
                                'DQ DataCollection of Factors without Margins']].mean(axis=1)

# Group by commodity and calculate the average DQ score (replace 'Commodity' and 'DQ_Score' with actual column names)
df_avg_dq = df.groupby('Commodity Name')['Average DQ Score'].mean().reset_index()

# Sort commodities based on the DQ score
df_avg_dq = df_avg_dq.sort_values('Average DQ Score')

# Calculate the median DQ score for the diverging effect
median_dq = df_avg_dq['Average DQ Score'].median()

# Create a column for relative DQ score (distance from median)
df_avg_dq['DQ_Relative'] = df_avg_dq['Average DQ Score'] - median_dq

# Set color palette based on positive or negative DQ relative to the median
df_avg_dq['Colors'] = df_avg_dq['DQ_Relative'].apply(lambda x: 'red' if x > 0 else 'green')

# Set up the plot
plt.figure(figsize=(12, 8))
sns.barplot(
    x='DQ_Relative', 
    y='Commodity Name', 
    data=df_avg_dq, 
    palette=df_avg_dq['Colors'].tolist(),
    orient='h'
)

# Add a vertical line at x=0 for reference (median)
plt.axvline(x=0, color='black', linestyle='--')

# Add titles and labels
plt.title('Commodities with Best and Worst Data Quality Scores', fontsize=14)
plt.xlabel('Relative Data Quality Score (to median)', fontsize=12)
plt.ylabel('Commodity', fontsize=14)

# Show the plot
plt.tight_layout()
plt.show()





commodities = df_avg_dq.sort_values(by='Average DQ Score',ascending=False)[:3]['Commodity Name'].tolist()



import pandas as pd
import matplotlib.pyplot as plt
import numpy as np
import seaborn as sns  # For color palette

# Load dataset (replace with actual file path)
df = pd.read_csv('Summary_Commodity.csv')

# Assuming df_avg_dq is already defined elsewhere
# Determine the top 3 commodities based on average DQ score
top_commodities = df_avg_dq.sort_values(by='Average DQ Score', ascending=True).head(3)['Commodity Name'].tolist()

# Define the DQ components
components = ['DQ ReliabilityScore of Factors without Margins',
              'DQ TechnologicalCorrelation of Factors without Margins', 
              'DQ DataCollection of Factors without Margins']

# List of substances to plot (for this example, we use a specific substance)
substance = 'carbon dioxide'  # Replace with the specific substance you want to plot

# Filter data for the specific substance
df_substance = df[df['Substance'] == substance]

# Filter data for the top 3 commodities
df_substance_top = df_substance[df_substance['Commodity Name'].isin(top_commodities)]

# Create a grid for 2 rows (3 plots in the first row, 4 plots in the second row)
years = sorted(df_substance_top['Year'].unique())
num_years = len(years)

# Create a figure and axes array
fig, axs = plt.subplots(nrows=2, ncols=4, figsize=(20, 12), subplot_kw=dict(polar=True))

# Flatten the 2D array of axes to make iteration easier
axs = axs.flatten()

# Generate a color palette using Seaborn
colors = sns.color_palette('husl', n_colors=len(top_commodities))

for i, year in enumerate(years):
    df_year = df_substance_top[df_substance_top['Year'] == year]
    
    if not df_year.empty:
        # Prepare data for radar chart
        df_filtered = df_year[['Commodity Name'] + components]
        df_filtered.set_index('Commodity Name', inplace=True)
        
        # Number of variables we're plotting
        num_vars = len(components)
        
        # Compute angle of each axis in the radar chart
        angles = np.linspace(0, 2 * np.pi, num_vars, endpoint=False).tolist()
        angles += angles[:1]  # Complete the loop by appending the start to the end
        
        ax = axs[i]  # Use the i-th subplot
        
        # Plot each commodity with its own color
        for idx, (index, row) in enumerate(df_filtered.iterrows()):
            values = row.values.flatten().tolist()
            values += values[:1]  # Repeat the first value to close the polygon
            
            ax.plot(angles, values, label=index, color=colors[idx])
            ax.fill(angles, values, color=colors[idx], alpha=0.25)
        
        # Set the title and labels
        ax.set_title(f'Year {year}', size=12, color='black', y=1.1)
        ax.set_xticks(angles[:-1])
        ax.set_xticklabels(['ReliabilityScore','TechnologicalCorrelation','DataCollection'], fontsize=8)

# Hide any unused subplots
for j in range(num_years, len(axs)):
    axs[j].axis('off')

# Add a main title
plt.suptitle(f'DQ Score Components for {substance}', size=16)

# Adjust layout
plt.tight_layout(rect=[0, 0, 1, 0.95])
plt.show()



import pandas as pd
import matplotlib.pyplot as plt
import numpy as np
import seaborn as sns  # For color palette

# Load dataset (replace with actual file path)
df = pd.read_csv('Summary_Commodity.csv')

# Assuming df_avg_dq is already defined elsewhere
# Determine the top 3 commodities based on average DQ score
top_commodities = df_avg_dq.sort_values(by='Average DQ Score', ascending=True).head(3)['Commodity Name'].tolist()

# Define the DQ components
components = ['DQ ReliabilityScore of Factors without Margins',
              'DQ TechnologicalCorrelation of Factors without Margins', 
              'DQ DataCollection of Factors without Margins']

# List of substances to plot (for this example, we use a specific substance)
substance = 'methane'  # Replace with the specific substance you want to plot

# Filter data for the specific substance
df_substance = df[df['Substance'] == substance]

# Filter data for the top 3 commodities
df_substance_top = df_substance[df_substance['Commodity Name'].isin(top_commodities)]

# Create a grid for 2 rows (3 plots in the first row, 4 plots in the second row)
years = sorted(df_substance_top['Year'].unique())
num_years = len(years)

# Create a figure and axes array
fig, axs = plt.subplots(nrows=2, ncols=4, figsize=(20, 12), subplot_kw=dict(polar=True))

# Flatten the 2D array of axes to make iteration easier
axs = axs.flatten()

# Generate a color palette using Seaborn
colors = sns.color_palette('husl', n_colors=len(top_commodities))

for i, year in enumerate(years):
    df_year = df_substance_top[df_substance_top['Year'] == year]
    
    if not df_year.empty:
        # Prepare data for radar chart
        df_filtered = df_year[['Commodity Name'] + components]
        df_filtered.set_index('Commodity Name', inplace=True)
        
        # Number of variables we're plotting
        num_vars = len(components)
        
        # Compute angle of each axis in the radar chart
        angles = np.linspace(0, 2 * np.pi, num_vars, endpoint=False).tolist()
        angles += angles[:1]  # Complete the loop by appending the start to the end
        
        ax = axs[i]  # Use the i-th subplot
        
        # Plot each commodity with its own color
        for idx, (index, row) in enumerate(df_filtered.iterrows()):
            values = row.values.flatten().tolist()
            values += values[:1]  # Repeat the first value to close the polygon
            
            ax.plot(angles, values, label=index, color=colors[idx])
            ax.fill(angles, values, color=colors[idx], alpha=0.25)
        
        # Set the title and labels
        ax.set_title(f'Year {year}', size=12, color='black', y=1.1)
        ax.set_xticks(angles[:-1])
        ax.set_xticklabels(['ReliabilityScore','TechnologicalCorrelation','DataCollection'], fontsize=8)

# Hide any unused subplots
for j in range(num_years, len(axs)):
    axs[j].axis('off')

# Add a main title
plt.suptitle(f'DQ Score Components for {substance}', size=16)

# Adjust layout
plt.tight_layout(rect=[0, 0, 1, 0.95])
plt.show()



import pandas as pd
import matplotlib.pyplot as plt
import numpy as np
import seaborn as sns  # For color palette

# Load dataset (replace with actual file path)
df = pd.read_csv('Summary_Commodity.csv')

# Assuming df_avg_dq is already defined elsewhere
# Determine the top 3 commodities based on average DQ score
top_commodities = df_avg_dq.sort_values(by='Average DQ Score', ascending=True).head(3)['Commodity Name'].tolist()

# Define the DQ components
components = ['DQ ReliabilityScore of Factors without Margins',
              'DQ TechnologicalCorrelation of Factors without Margins', 
              'DQ DataCollection of Factors without Margins']

# List of substances to plot (for this example, we use a specific substance)
substance = 'nitrous oxide'  # Replace with the specific substance you want to plot

# Filter data for the specific substance
df_substance = df[df['Substance'] == substance]

# Filter data for the top 3 commodities
df_substance_top = df_substance[df_substance['Commodity Name'].isin(top_commodities)]

# Create a grid for 2 rows (3 plots in the first row, 4 plots in the second row)
years = sorted(df_substance_top['Year'].unique())
num_years = len(years)

# Create a figure and axes array
fig, axs = plt.subplots(nrows=2, ncols=4, figsize=(20, 12), subplot_kw=dict(polar=True))

# Flatten the 2D array of axes to make iteration easier
axs = axs.flatten()

# Generate a color palette using Seaborn
colors = sns.color_palette('husl', n_colors=len(top_commodities))

for i, year in enumerate(years):
    df_year = df_substance_top[df_substance_top['Year'] == year]
    
    if not df_year.empty:
        # Prepare data for radar chart
        df_filtered = df_year[['Commodity Name'] + components]
        df_filtered.set_index('Commodity Name', inplace=True)
        
        # Number of variables we're plotting
        num_vars = len(components)
        
        # Compute angle of each axis in the radar chart
        angles = np.linspace(0, 2 * np.pi, num_vars, endpoint=False).tolist()
        angles += angles[:1]  # Complete the loop by appending the start to the end
        
        ax = axs[i]  # Use the i-th subplot
        
        # Plot each commodity with its own color
        for idx, (index, row) in enumerate(df_filtered.iterrows()):
            values = row.values.flatten().tolist()
            values += values[:1]  # Repeat the first value to close the polygon
            
            ax.plot(angles, values, label=index, color=colors[idx])
            ax.fill(angles, values, color=colors[idx], alpha=0.25)
        
        # Set the title and labels
        ax.set_title(f'Year {year}', size=12, color='black', y=1.1)
        ax.set_xticks(angles[:-1])
        ax.set_xticklabels(['ReliabilityScore','TechnologicalCorrelation','DataCollection'], fontsize=8)

# Hide any unused subplots
for j in range(num_years, len(axs)):
    axs[j].axis('off')

# Add a main title
plt.suptitle(f'DQ Score Components for {substance}', size=16)

# Adjust layout
plt.tight_layout(rect=[0, 0, 1, 0.95])
plt.show()



import pandas as pd
import matplotlib.pyplot as plt
import numpy as np
import seaborn as sns  # For color palette

# Load dataset (replace with actual file path)
df = pd.read_csv('Summary_Commodity.csv')

# Assuming df_avg_dq is already defined elsewhere
# Determine the top 3 commodities based on average DQ score
top_commodities = df_avg_dq.sort_values(by='Average DQ Score', ascending=True).head(3)['Commodity Name'].tolist()

# Define the DQ components
components = ['DQ ReliabilityScore of Factors without Margins',
              'DQ TechnologicalCorrelation of Factors without Margins', 
              'DQ DataCollection of Factors without Margins']

# List of substances to plot (for this example, we use a specific substance)
substance = 'other GHGs'  # Replace with the specific substance you want to plot

# Filter data for the specific substance
df_substance = df[df['Substance'] == substance]

# Filter data for the top 3 commodities
df_substance_top = df_substance[df_substance['Commodity Name'].isin(top_commodities)]

# Create a grid for 2 rows (3 plots in the first row, 4 plots in the second row)
years = sorted(df_substance_top['Year'].unique())
num_years = len(years)

# Create a figure and axes array
fig, axs = plt.subplots(nrows=2, ncols=4, figsize=(20, 12), subplot_kw=dict(polar=True))

# Flatten the 2D array of axes to make iteration easier
axs = axs.flatten()

# Generate a color palette using Seaborn
colors = sns.color_palette('husl', n_colors=len(top_commodities))

for i, year in enumerate(years):
    df_year = df_substance_top[df_substance_top['Year'] == year]
    
    if not df_year.empty:
        # Prepare data for radar chart
        df_filtered = df_year[['Commodity Name'] + components]
        df_filtered.set_index('Commodity Name', inplace=True)
        
        # Number of variables we're plotting
        num_vars = len(components)
        
        # Compute angle of each axis in the radar chart
        angles = np.linspace(0, 2 * np.pi, num_vars, endpoint=False).tolist()
        angles += angles[:1]  # Complete the loop by appending the start to the end
        
        ax = axs[i]  # Use the i-th subplot
        
        # Plot each commodity with its own color
        for idx, (index, row) in enumerate(df_filtered.iterrows()):
            values = row.values.flatten().tolist()
            values += values[:1]  # Repeat the first value to close the polygon
            
            ax.plot(angles, values, label=index, color=colors[idx])
            ax.fill(angles, values, color=colors[idx], alpha=0.25)
        
        # Set the title and labels
        ax.set_title(f'Year {year}', size=12, color='black', y=1.1)
        ax.set_xticks(angles[:-1])
        ax.set_xticklabels(['ReliabilityScore','TechnologicalCorrelation','DataCollection'], fontsize=8)

# Hide any unused subplots
for j in range(num_years, len(axs)):
    axs[j].axis('off')

# Add a main title
plt.suptitle(f'DQ Score Components for {substance}', size=16)

# Adjust layout
plt.tight_layout(rect=[0, 0, 1, 0.95])
plt.show()






import pandas as pd
import matplotlib.pyplot as plt
import seaborn as sns

# Load dataset (replace with actual file and adjust column names)
df = pd.read_csv('Summary_Commodity.csv')

df['Average DQ Score'] = df[['DQ ReliabilityScore of Factors without Margins',
                                'DQ TemporalCorrelation of Factors without Margins',
                                'DQ GeographicalCorrelation of Factors without Margins',
                                'DQ TechnologicalCorrelation of Factors without Margins',
                                'DQ DataCollection of Factors without Margins']].mean(axis=1)

df=df.sort_values(by='Margins of Supply Chain Emission Factors',ascending=False)[:100]

# Define the columns for Average DQ Score and Supply Chain Emission Factors with Margins
dq_column = 'Average DQ Score'
emission_column = 'Margins of Supply Chain Emission Factors'

# Create a joint plot with a heatmap and marginal histograms
plt.figure(figsize=(8, 6))
sns.jointplot(
    data=df,
    x=dq_column, 
    y=emission_column, 
    kind='hex',   # Using hex bins to show density as a heatmap
    color='blue', 
    marginal_kws=dict(bins=20, fill=True)  # Add histograms with 20 bins
)

# Add labels and title
plt.suptitle('Relationship Between Average DQ Score and Supply Chain Emission Factors', size=14)
plt.subplots_adjust(top=0.95)  # Adjust the title position
plt.xlabel('Average DQ Score')
plt.ylabel('Margins of Supply Chain Emission Factors')

# Show the plot
plt.show()


import pandas as pd
import matplotlib.pyplot as plt
import seaborn as sns

# Load dataset (replace with actual file and adjust column names)
df = pd.read_csv('Summary_Commodity.csv')

df['Average DQ Score'] = df[['DQ ReliabilityScore of Factors without Margins',
                                'DQ TemporalCorrelation of Factors without Margins',
                                'DQ GeographicalCorrelation of Factors without Margins',
                                'DQ TechnologicalCorrelation of Factors without Margins',
                                'DQ DataCollection of Factors without Margins']].mean(axis=1)

df=df.sort_values(by='Supply Chain Emission Factors without Margins',ascending=False)[:100]

# Define the columns for Average DQ Score and Supply Chain Emission Factors with Margins
dq_column = 'Average DQ Score'
emission_column = 'Supply Chain Emission Factors without Margins'

# Create a joint plot with a heatmap and marginal histograms
plt.figure(figsize=(8, 6))
sns.jointplot(
    data=df,
    x=dq_column, 
    y=emission_column, 
    kind='hex',   # Using hex bins to show density as a heatmap
    color='red', 
    marginal_kws=dict(bins=20, fill=True)  # Add histograms with 20 bins
)

# Add labels and title
plt.suptitle('Relationship Between Average DQ Score and Supply Chain Emission Factors', size=14)
plt.subplots_adjust(top=0.95)  # Adjust the title position
plt.xlabel('Average DQ Score')
plt.ylabel('Supply Chain Emission Factors without Margins')

# Show the plot
plt.show()


import pandas as pd
import matplotlib.pyplot as plt
import seaborn as sns

# Load dataset (replace with actual file path)
df = pd.read_csv('Summary_Commodity.csv')

df['Average DQ Score'] = df[['DQ ReliabilityScore of Factors without Margins',
                                'DQ TemporalCorrelation of Factors without Margins',
                                'DQ GeographicalCorrelation of Factors without Margins',
                                'DQ TechnologicalCorrelation of Factors without Margins',
                                'DQ DataCollection of Factors without Margins']].mean(axis=1)

# Define the columns for Average DQ Score and Supply Chain Emission Factors with Margins
dq_column = 'Average DQ Score'
emission_column = 'Supply Chain Emission Factors with Margins'

# Set up the figure
plt.figure(figsize=(10, 6))

# Create the boxplot for emission intensities
sns.boxplot(x=dq_column, y=emission_column, data=df, color='lightblue', width=0.3)

# Overlay a jittered scatter plot to visualize individual points
sns.stripplot(x=dq_column, y=emission_column, data=df, color='darkblue', jitter=0.3, size=5, alpha=0.6)

# Add title and labels
plt.title('Outlier Detection: DQ Scores vs. Supply Chain Emission Factors', fontsize=14)
plt.xlabel('Average DQ Score', fontsize=12)
plt.ylabel('Supply Chain Emission Factors', fontsize=12)

# Show the plot
plt.tight_layout()
plt.show()



import pandas as pd
import seaborn as sns
import matplotlib.pyplot as plt
from scipy.stats import pearsonr

# Load dataset (replace with actual file path)
df = pd.read_csv('Summary_Commodity.csv')

df['Average DQ Score'] = df[['DQ ReliabilityScore of Factors without Margins',
                                'DQ TemporalCorrelation of Factors without Margins',
                                'DQ GeographicalCorrelation of Factors without Margins',
                                'DQ TechnologicalCorrelation of Factors without Margins',
                                'DQ DataCollection of Factors without Margins']].mean(axis=1)

# Define the columns for Average DQ Score and Supply Chain Emission Factors with Margins
dq_column = 'Average DQ Score'
emission_column = 'Supply Chain Emission Factors with Margins'

# Calculate the Pearson correlation coefficient
correlation, _ = pearsonr(df[dq_column], df[emission_column])

# Create a pairplot with regression line
sns.lmplot(x=dq_column, y=emission_column, data=df, height=6, aspect=1.5, scatter_kws={'alpha':0.6}, line_kws={'color':'red'})

# Add title and correlation coefficient as an annotation
plt.title(f'Correlation Analysis: DQ Scores vs. Emission Factors (r = {correlation:.2f})', fontsize=14)
plt.xlabel('Average DQ Score', fontsize=12)
plt.ylabel('Supply Chain Emission Factors with Margins', fontsize=12)

# Show the plot
plt.tight_layout()
plt.show()



import pandas as pd
import matplotlib.pyplot as plt
import seaborn as sns

# Load dataset (replace with actual file path)
df = pd.read_csv('Summary_Commodity.csv')

# Calculate the Average DQ Score
df['Average DQ Score'] = df[['DQ ReliabilityScore of Factors without Margins',
                             'DQ TemporalCorrelation of Factors without Margins',
                             'DQ GeographicalCorrelation of Factors without Margins',
                             'DQ TechnologicalCorrelation of Factors without Margins',
                             'DQ DataCollection of Factors without Margins']].mean(axis=1)

# Define the columns
dq_column = 'Average DQ Score'
emission_column = 'Supply Chain Emission Factors with Margins'

# Step 1: Identify Outliers based on emission factors (using IQR method)
Q1 = df[emission_column].quantile(0.25)
Q3 = df[emission_column].quantile(0.75)
IQR = Q3 - Q1

# Define outliers as points outside 1.5 * IQR from Q1 and Q3
df['Outlier'] = ((df[emission_column] < (Q1 - 1.5 * IQR)) | (df[emission_column] > (Q3 + 1.5 * IQR)))

# Step 2: Count total number of rows and outliers for each unique DQ score
total_counts = df.groupby(dq_column)['Outlier'].count().reset_index(name='Total')
outlier_counts = df.groupby(dq_column)['Outlier'].sum().reset_index(name='Outliers')

# Step 3: Merge total counts and outlier counts
merged_counts = pd.merge(total_counts, outlier_counts, on=dq_column)

# Step 4: Calculate the percentage of outliers
merged_counts['Percentage Outliers'] = (merged_counts['Outliers'] / merged_counts['Total']) * 100

# Step 5: Create dual-axis plot (bar for outliers, line for percentage)
fig, ax1 = plt.subplots(figsize=(12, 6))

# Bar plot for number of outliers
sns.barplot(x=merged_counts[dq_column], y=merged_counts['Outliers'], color='cyan', ax=ax1)

# Set up axis labels and title for the bar plot
ax1.set_xlabel('Average DQ Score', fontsize=12)
ax1.set_ylabel('Number of Outliers', fontsize=12)
ax1.set_title('Number of Outliers and Percentage of Outliers by Average DQ Score', fontsize=14)

# Add percentage labels on top of each bar
for i, row in merged_counts.iterrows():
    ax1.text(i, row['Outliers'] + 0.1, f'{row["Percentage Outliers"]:.1f}%', color='black', ha='center')

# Adjust the y-axis limits of the secondary axis to ensure alignment
max_outliers = merged_counts['Outliers'].max()
ax1.set_ylim(0, max_outliers * 1.1)

# Show the plot
plt.tight_layout()
plt.show()






import pandas as pd
import matplotlib.pyplot as plt

# Load dataset (replace with actual file path)
df = pd.read_csv('Detail_Commodity.csv')

# Column name for analysis
column = 'DQ ReliabilityScore of Factors without Margins'

# Get the counts of each category
category_counts = df[column].value_counts()

# Create a pie chart using matplotlib
plt.figure(figsize=(8, 8))  # Set the figure size
plt.pie(
    category_counts.values,        # Values for the pie chart
    labels=category_counts.index,  # Category labels
    autopct='%1.1f%%',             # Display percentages
    colors=plt.cm.Paired.colors,   # Custom colors from the Paired colormap
    startangle=90                  # Start angle of the chart
)
plt.title('Pie Chart of DQ Categories')
plt.axis('equal')  # Ensures that pie is drawn as a circle

# Save the figure as an image file
#plt.savefig('Univariate_pie_chart_Commodity_ToC.png')

# Show the plot
plt.show()



import pandas as pd
import plotly.express as px

# Load dataset (replace with actual file path)
df = pd.read_csv('Summary_commodity.csv')

# Define the relevant DQ score columns
dq_columns = [
    'DQ ReliabilityScore of Factors without Margins',
    'DQ TemporalCorrelation of Factors without Margins',
    'DQ GeographicalCorrelation of Factors without Margins',
    'DQ TechnologicalCorrelation of Factors without Margins',
    'DQ DataCollection of Factors without Margins'
]

# Prepare a long format dataframe for the sunburst
# We'll use the first DQ score as the innermost circle, and others as outer layers
df_sunburst = df[dq_columns]

# Create the sunburst chart using Plotly
fig = px.sunburst(
    df_sunburst,
    path=['DQ ReliabilityScore of Factors without Margins',  # Innermost layer
          'DQ TechnologicalCorrelation of Factors without Margins'],  # Outer layers
    title='Relationship Between DQ Score Components (Raw Values)',
    color='DQ ReliabilityScore of Factors without Margins',  # Color the sections based on the Reliability score
    color_continuous_scale='viridis',
    maxdepth=-1,  # Show all layers
    height=800
)

# Show the plot
fig.show()



import pandas as pd
import plotly.express as px

# Load dataset (replace with actual file path)
df = pd.read_csv('Summary_commodity.csv')

# Define the relevant DQ score columns
dq_columns = [
    'DQ ReliabilityScore of Factors without Margins',
    'DQ TemporalCorrelation of Factors without Margins',
    'DQ GeographicalCorrelation of Factors without Margins',
    'DQ TechnologicalCorrelation of Factors without Margins',
    'DQ DataCollection of Factors without Margins'
]

# Prepare a long format dataframe for the sunburst
# We'll use the first DQ score as the innermost circle, and others as outer layers
df_sunburst = df[dq_columns]

# Create the sunburst chart using Plotly
fig = px.sunburst(
    df_sunburst,
    path=['DQ ReliabilityScore of Factors without Margins',  # Innermost layer
          'DQ TemporalCorrelation of Factors without Margins'],  # Outer layers
    title='Relationship Between DQ Score Components (Raw Values)',
    color='DQ ReliabilityScore of Factors without Margins',  # Color the sections based on the Reliability score
    color_continuous_scale='viridis',
    maxdepth=-1,  # Show all layers
    height=800
)

# Show the plot
fig.show()



import pandas as pd
import plotly.express as px

# Load dataset (replace with actual file path)
df = pd.read_csv('Summary_commodity.csv')

# Define the relevant DQ score columns
dq_columns = [
    'DQ ReliabilityScore of Factors without Margins',
    'DQ TemporalCorrelation of Factors without Margins',
    'DQ GeographicalCorrelation of Factors without Margins',
    'DQ TechnologicalCorrelation of Factors without Margins',
    'DQ DataCollection of Factors without Margins'
]

# Prepare a long format dataframe for the sunburst
# We'll use the first DQ score as the innermost circle, and others as outer layers
df_sunburst = df[dq_columns]

# Create the sunburst chart using Plotly
fig = px.sunburst(
    df_sunburst,
    path=['DQ TechnologicalCorrelation of Factors without Margins',  # Innermost layer
          'DQ TemporalCorrelation of Factors without Margins'],  # Outer layers
    title='Relationship Between DQ Score Components (Raw Values)',
    color='DQ TechnologicalCorrelation of Factors without Margins',  # Color the sections based on the Reliability score
    color_continuous_scale='viridis',
    maxdepth=-1,  # Show all layers
    height=800
)

# Show the plot
fig.show()






get_ipython().getoutput("streamlit run A1_dashboard.py")



