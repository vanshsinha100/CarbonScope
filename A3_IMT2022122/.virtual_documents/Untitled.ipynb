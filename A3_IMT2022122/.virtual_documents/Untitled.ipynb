


#To supress Future Warning of Pandas
import warnings
warnings.simplefilter(action='ignore', category=FutureWarning) 
#Importing the modules
import numpy as np
import pandas as pd
import matplotlib.pyplot as plt
plt.rcParams['font.size'] = 15.0
import seaborn as sns
import plotly.express as px
import plotly.graph_objects as go
from plotly.subplots import make_subplots





sc = pd.read_csv('old/Summary_Commodity.csv')
dc = pd.read_csv('old/Detail_Commodity.csv')


#Top 5 commodities for each of substance on basis of emissions
substance_top_comm = sc[['Commodity Name','Substance','Supply Chain Emission Factors with Margins']].groupby(by=['Substance',"Commodity Name"]).agg('sum')\
.apply(lambda x : x.sort_values(ascending=False)).groupby(level=0).head(5).sort_values(by='Supply Chain Emission Factors with Margins',ascending=False)\
.reset_index()
substance_top_comm = substance_top_comm[substance_top_comm['Supply Chain Emission Factors with Margins']>0]


#Function for plotting sunburst
import plotly.graph_objects as go

def plot_sunburst_for_substance(substance, substance_top_comm):
    # Filter data for the given substance
    df_comm = substance_top_comm[substance_top_comm['Substance'] == substance]

    # Create the Sunburst plot
    fig = go.Figure()

    # Add the Sunburst chart
    fig.add_trace(
        go.Sunburst(
            labels=df_comm['Commodity Name'].tolist(),
            parents=df_comm['Substance'].tolist(),
            values=df_comm['Supply Chain Emission Factors with Margins'].tolist(),
            branchvalues="total",
            marker=dict(colors=df_comm['Supply Chain Emission Factors with Margins']),
            textinfo="label+percent entry",
            textfont=dict(size=30)
        )
    )

    # Update layout settings
    fig.update_layout(
        title=dict(
            text=f'Supply Chain Emissions for {substance.capitalize()} by Commodity',
            font=dict(size=20)
        ),
        width=800,
        height=800
    )

    # Show the plot
    fig.show()



#Function for plotting treemap
import plotly.graph_objects as go

def plot_treemap_for_substance(substance, substance_top_comm):
    # Filter data for the given substance
    df_comm = substance_top_comm[substance_top_comm['Substance'] == substance]

    # Create the Treemap plot
    fig = go.Figure()

    # Add the Treemap chart
    fig.add_trace(
        go.Treemap(
            labels=df_comm['Commodity Name'].tolist(),
            parents=df_comm['Substance'].tolist(),
            values=df_comm['Supply Chain Emission Factors with Margins'].tolist(),
            marker=dict(colors=df_comm['Supply Chain Emission Factors with Margins']),
            textinfo="label+value+percent parent",
            textfont=dict(size=20)
        )
    )

    # Update layout settings
    fig.update_layout(
        title=dict(
            text=f'Supply Chain Emissions for {substance.capitalize()} by Commodity',
            font=dict(size=20)
        ),
        width=800,
        height=800
    )

    # Show the plot
    fig.show()






plot_sunburst_for_substance('carbon dioxide',substance_top_comm)


plot_sunburst_for_substance('methane',substance_top_comm)


plot_sunburst_for_substance('nitrous oxide',substance_top_comm)


plot_sunburst_for_substance('other GHGs',substance_top_comm)





#Common umbrella
ext_labels = ['Oil and gas extraction', 'Mining, except oil and gas','Support activities for mining','Petroleum and coal products',
'Nonmetallic mineral products']
ext_index = sc[sc['Commodity Name'].isin(ext_labels)].index
sc.loc[ext_index,'Commodity Name']="Extractives"


index = sc[sc['Commodity Name'].str.contains('transportation')].index


sc.loc[index,'Commodity Name']='Transportation'


#Top 3 commodies for each substance on basis of emissions
substance_top_comm = sc[['Commodity Name','Substance','Supply Chain Emission Factors with Margins']].groupby(by=['Substance',"Commodity Name"]).agg('sum')\
.apply(lambda x : x.sort_values(ascending=False)).groupby(level=0).head(3).sort_values(by='Supply Chain Emission Factors with Margins',ascending=False)\
.reset_index()
substance_top_comm = substance_top_comm[substance_top_comm['Supply Chain Emission Factors with Margins']>0]





plot_treemap_for_substance('carbon dioxide',substance_top_comm)


plot_treemap_for_substance('methane',substance_top_comm)


plot_treemap_for_substance('nitrous oxide',substance_top_comm)


plot_treemap_for_substance('other GHGs',substance_top_comm)





# Trends based on individual subtance
sc_meaningful = sc[['Year','Commodity Name','Substance','Supply Chain Emission Factors with Margins']]
sc_grouped = sc_meaningful.groupby(['Year','Commodity Name', 'Substance']).agg('sum').reset_index()
GHG = sc_grouped[sc_grouped['Substance']=='other GHGs'].sort_values('Supply Chain Emission Factors with Margins',ascending=False)
CO2 = sc_grouped[sc_grouped['Substance']=='carbon dioxide'].sort_values('Supply Chain Emission Factors with Margins',ascending=False)
N2O = sc_grouped[sc_grouped['Substance']=='nitrous oxide'].sort_values('Supply Chain Emission Factors with Margins',ascending=False)
CH4 = sc_grouped[sc_grouped['Substance']=='methane'].sort_values('Supply Chain Emission Factors with Margins',ascending=False)


# Creating a copy of the data to adjust the values for better visualization
commodity_df_adj = sc.copy(deep=True)
#industry_df_adj = si.copy(deep=True)

# Adjusting the values of 'Supply Chain Emission Factors with Margins' for 'carbon dioxide' to enhance visualization
commodity_df_adj.loc[commodity_df_adj['Substance'] == 'carbon dioxide', 'Supply Chain Emission Factors with Margins'] /= 100
commodity_df_adj.loc[commodity_df_adj['Substance'] == 'nitrous oxide', 'Supply Chain Emission Factors with Margins'] *= 100
#industry_df_adj.loc[industry_df_adj['Substance'] == 'carbon dioxide', 'Supply Chain Emission Factors with Margins'] /= 100
#industry_df_adj['Substance'] = industry_df_adj['Substance'].apply(lambda x : x+"_Ind")
#commodity_df_adj['Substance'] = commodity_df_adj['Substance'].apply(lambda x : x+"_Comm")

# Set up the figure size for better visibility
plt.figure(figsize=(14, 12))

# Plot for Commodity data - Relationship with Time for 'Supply Chain Emission Factors with Margins' grouped by 'Substance'
sns.lineplot(data=commodity_df_adj, x='Year', y='Supply Chain Emission Factors with Margins', 
             hue='Substance', ci=None, marker='o', palette='tab10',linewidth = 3)

# Plot for Industry data - Relationship with Time for 'Supply Chain Emission Factors with Margins' grouped by 'Substance'
# sns.lineplot(data=industry_df_adj, x='Year', y='Supply Chain Emission Factors with Margins', 
#              hue='Substance', ci=None, marker='o', palette='tab10', linestyle='dotted',linewidth = 3)

# Adding title and labels
plt.title('Average Supply Chain Emission Factors with Margins Over Time by Substance (Commodity Data)')
plt.xlabel('Year')
plt.ylabel('Average Emission Factors with Margins (CO2 100x downscaled, N2O 100x upscaled)')
plt.grid(True)
plt.legend(title='Substance Type', loc='upper left', bbox_to_anchor=(1, 1))

plt.show()



# Creating a copy of the data to adjust the values for better visualization
CO2 = CO2[CO2['Commodity Name'].isin(['Transportation','Utilities','Extractives'])]
# commodity_df_adj = sc[sc['Commodity Name'].isin(['Transportation','Machinery','Primary metals'])]\
# .sort_values(by='Supply Chain Emission Factors with Margins',ascending=False)\
# .copy(deep=True)
# commodity_df_adj = commodity_df_adj[commodity_df_adj['Substance']=='other GHGs']
# #industry_df_adj = si.copy(deep=True)

# # Adjusting the values of 'Supply Chain Emission Factors with Margins' for 'carbon dioxide' to enhance visualization
# commodity_df_adj.loc[commodity_df_adj['Substance'] == 'carbon dioxide', 'Supply Chain Emission Factors with Margins'] /= 100
# commodity_df_adj.loc[commodity_df_adj['Substance'] == 'nitrous oxide', 'Supply Chain Emission Factors with Margins'] *= 100


# Set up the figure size for better visibility
plt.figure(figsize=(14, 10))

# Plot for Commodity data - Relationship with Time for 'Supply Chain Emission Factors with Margins' grouped by 'Substance'
sns.lineplot(data=CO2, x='Year', y='Supply Chain Emission Factors with Margins', 
             hue='Commodity Name', ci=None, marker='o', palette='tab10',linewidth = 3)

# Adding title and labels
plt.title('Average Supply Chain Emission Factors with Margins Over Time for carbon dioxide (Commodity Data)')
plt.xlabel('Year')
plt.ylabel('Average Emission Factors with Margins')
plt.grid(True)
plt.legend(title='Substance Type', loc='upper left', bbox_to_anchor=(1, 1))

plt.show()



# Creating a copy of the data to adjust the values for better visualization
CH4 = CH4[CH4['Commodity Name'].isin(['Extractives','Transportation','Waste management and remediation services'])]
#industry_df_adj = si.copy(deep=True)

# Adjusting the values of 'Supply Chain Emission Factors with Margins' for 'carbon dioxide' to enhance visualization

#commodity_df_adj.loc[commodity_df_adj['Substance'] == 'nitrous oxide', 'Supply Chain Emission Factors with Margins'] *= 100


# Set up the figure size for better visibility
plt.figure(figsize=(14, 10))

# Plot for Commodity data - Relationship with Time for 'Supply Chain Emission Factors with Margins' grouped by 'Substance'
sns.lineplot(data=CH4, x='Year', y='Supply Chain Emission Factors with Margins', 
             hue='Commodity Name', ci=None, marker='o', palette='tab10',linewidth = 3)

# Adding title and labels
plt.title('Average Supply Chain Emission Factors with Margins Over Time for methane (Commodity Data)')
plt.xlabel('Year')
plt.ylabel('Average Emission Factors with Margins')
plt.grid(True)
plt.legend(title='Substance Type', loc='upper left', bbox_to_anchor=(1, 1))

plt.show()



# Creating a copy of the data to adjust the values for better visualization
N2O = N2O[N2O['Commodity Name'].isin(['Farms','Food and beverage and tobacco products'])]

#industry_df_adj = si.copy(deep=True)

# Adjusting the values of 'Supply Chain Emission Factors with Margins' for 'carbon dioxide' to enhance visualization

#commodity_df_adj.loc[commodity_df_adj['Substance'] == 'nitrous oxide', 'Supply Chain Emission Factors with Margins'] *= 100


# Set up the figure size for better visibility
plt.figure(figsize=(14, 10))

# Plot for Commodity data - Relationship with Time for 'Supply Chain Emission Factors with Margins' grouped by 'Substance'
sns.lineplot(data=N2O, x='Year', y='Supply Chain Emission Factors with Margins', 
             hue='Commodity Name', ci=None, marker='o', palette='tab10',linewidth = 3)

# Adding title and labels
plt.title('Average Supply Chain Emission Factors with Margins Over Time for nitrous oxide (Commodity Data)')
plt.xlabel('Year')
plt.ylabel('Average Emission Factors with Margins')
plt.grid(True)
plt.legend(title='Substance Type', loc='upper left', bbox_to_anchor=(1, 1))

plt.show()



# Creating a copy of the data to adjust the values for better visualization
GHG = GHG[GHG['Commodity Name'].isin(['Transportation','Machinery','Primary metals'])]

#industry_df_adj = si.copy(deep=True)

# Adjusting the values of 'Supply Chain Emission Factors with Margins' for 'carbon dioxide' to enhance visualization

#commodity_df_adj.loc[commodity_df_adj['Substance'] == 'nitrous oxide', 'Supply Chain Emission Factors with Margins'] *= 100


# Set up the figure size for better visibility
plt.figure(figsize=(14, 10))

# Plot for Commodity data - Relationship with Time for 'Supply Chain Emission Factors with Margins' grouped by 'Substance'
sns.lineplot(data=GHG, x='Year', y='Supply Chain Emission Factors with Margins', 
             hue='Commodity Name', ci=None, marker='o', palette='tab10',linewidth = 3)

# Adding title and labels
plt.title('Average Supply Chain Emission Factors with Margins Over Time for other GHGs (Commodity Data)')
plt.xlabel('Year')
plt.ylabel('Average Emission Factors with Margins')
plt.grid(True)
plt.legend(title='Substance Type', loc='upper left', bbox_to_anchor=(1, 1))

plt.show()




